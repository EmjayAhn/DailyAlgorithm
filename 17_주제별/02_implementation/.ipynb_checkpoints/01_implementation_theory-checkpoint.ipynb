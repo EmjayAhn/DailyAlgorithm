{
 "cells": [
  {
   "cell_type": "markdown",
   "id": "cd07ff2b-6f2b-488c-bd7b-acefc749d135",
   "metadata": {},
   "source": [
    "# Implementation : 구현\n",
    "구현 문제는 소위 \"코딩 피지컬\"\n",
    "- 구사하고자 하는 언어에 대한 이해가 높은 사람이 잘 풀 수 있는 문제 "
   ]
  },
  {
   "cell_type": "markdown",
   "id": "8d269b64-6fea-4df6-b47c-ce37199301a3",
   "metadata": {},
   "source": [
    "## 예제 1. 상하 좌우\n",
    "여행가 A는 N x N 크기의 정사각형 공간 위에 서있다. 이 공간은 1 x 1크기의 정사각형으로 나누어져 있다. 가장 왼쪽 위 좌표는 (1, 1)이며,\n",
    "가장 오른쪽 아래 좌표는 (N, N)에 해당한다. 여행가 A는 상, 하, 좌, 우 방향으로 이동할 수 있으며, 시작 좌표는 항상 (1, 1)이다. 우리 앞에는 여행가 A가 이동할\n",
    "계획이 적힌 계획서가 놓여 있다.\n",
    "\n",
    "입력 \n",
    "- 공간의 크기 N\n",
    "- 이동 계획서\n",
    "\n",
    "출력\n",
    "최종적으로 도착할 지점의 좌표 (X, Y)를 공백으로 구분하여 출력"
   ]
  },
  {
   "cell_type": "code",
   "execution_count": 10,
   "id": "5871d0ec-e918-4849-87fe-0699d0abcb44",
   "metadata": {},
   "outputs": [
    {
     "name": "stdin",
     "output_type": "stream",
     "text": [
      " 5\n",
      " R R R U D D\n"
     ]
    },
    {
     "name": "stdout",
     "output_type": "stream",
     "text": [
      "3 4\n"
     ]
    }
   ],
   "source": [
    "# 내풀이\n",
    "N = int(input())\n",
    "input_array = input().split()\n",
    "\n",
    "def walk(N, input_array):\n",
    "    start_point = [1, 1]\n",
    "    \n",
    "    for plan in input_array:\n",
    "        if plan == 'R':\n",
    "            start_point[1] += 1\n",
    "            if start_point[1] > N:\n",
    "                start_point[1] -= 1\n",
    "        elif plan == 'L':\n",
    "            start_point[1] -= 1\n",
    "            if start_point[1] <= 0:\n",
    "                start_point[1] += 1\n",
    "        elif plan == 'U':\n",
    "            start_point[0] -= 1\n",
    "            if start_point[0] <= 0:\n",
    "                start_point[0] += 1\n",
    "        else:\n",
    "            start_point[0] += 1\n",
    "            if start_point[0] > N:\n",
    "                start_point[0] -=1\n",
    "                \n",
    "    return start_point\n",
    "\n",
    "result = walk(N, input_array)\n",
    "print(result[0], result[1])"
   ]
  },
  {
   "cell_type": "code",
   "execution_count": 11,
   "id": "f1b75f8e-d601-4df9-9556-9c7bc8105753",
   "metadata": {},
   "outputs": [
    {
     "name": "stdin",
     "output_type": "stream",
     "text": [
      " 5\n",
      " R R R U D D\n"
     ]
    },
    {
     "name": "stdout",
     "output_type": "stream",
     "text": [
      "3 4\n"
     ]
    }
   ],
   "source": [
    "# 책 풀이\n",
    "n = int(input())\n",
    "x, y = 1, 1\n",
    "plans = input().split()\n",
    "\n",
    "# L, R, U, D 이동 방향\n",
    "dx = [0, 0, -1, 1]\n",
    "dy = [-1, 1, 0, 0]\n",
    "move_types = [\"L\", \"R\", \"U\", \"D\"]\n",
    "\n",
    "for plan in plans:\n",
    "    for i in range(len(move_types)):\n",
    "        if plan == move_types[i]:\n",
    "            nx = x + dx[i]\n",
    "            ny = y + dy[i]\n",
    "            \n",
    "    if nx < 1 or ny < 1 or nx > n or ny > n:\n",
    "        continue\n",
    "    x, y = nx, ny\n",
    "    \n",
    "print(x, y)"
   ]
  },
  {
   "cell_type": "markdown",
   "id": "19cfb749-e443-4eff-b53c-5c5206596c93",
   "metadata": {},
   "source": [
    "## 예제 2. 시각\n",
    "정수 N이 입력되면 00시 00분 00초부터 N시 59분 59초 까지의 모든 시각 중에서 3이 하나라도 포함되는 모든 경우의 수를 구하는 프로그램을 작성하시오.\n",
    "예를 들어 1을 입력 했을 때 다음은 3이 하나라도 포함되어 있으므로 세어야 하는 시각이다.\n",
    "- 00시 00분 03초\n",
    "- 00시 13분 30초 <br>\n",
    "반면에 다음은 3이 하나도 포함되어 있지 않으므로 세면 안되는 시각이다.\n",
    "- 00시 02분 55초\n",
    "- 01시 27분 45초\n",
    "\n",
    "입력 : 첫째 줄에 정수 N이 입력된다 (0 <= N <= 23) <br>\n",
    "출력 : Count"
   ]
  },
  {
   "cell_type": "code",
   "execution_count": 12,
   "id": "1ef33f76-679a-4f95-8581-9abc07511483",
   "metadata": {},
   "outputs": [
    {
     "name": "stdin",
     "output_type": "stream",
     "text": [
      " 5\n"
     ]
    },
    {
     "name": "stdout",
     "output_type": "stream",
     "text": [
      "11475\n"
     ]
    }
   ],
   "source": [
    "# 내풀이\n",
    "N = int(input())\n",
    "\n",
    "count = 0\n",
    "for hour in range(N + 1):\n",
    "    for minute in range(0, 60):\n",
    "        for second in range(0, 60):\n",
    "            if '3' in str(hour) + str(minute) + str(second):\n",
    "                count += 1\n",
    "print(count)\n"
   ]
  },
  {
   "cell_type": "code",
   "execution_count": null,
   "id": "c09b3d55-8a45-4f65-8364-a5680c8844b6",
   "metadata": {},
   "outputs": [],
   "source": []
  }
 ],
 "metadata": {
  "kernelspec": {
   "display_name": "py37",
   "language": "python",
   "name": "py37"
  },
  "language_info": {
   "codemirror_mode": {
    "name": "ipython",
    "version": 3
   },
   "file_extension": ".py",
   "mimetype": "text/x-python",
   "name": "python",
   "nbconvert_exporter": "python",
   "pygments_lexer": "ipython3",
   "version": "3.7.0"
  }
 },
 "nbformat": 4,
 "nbformat_minor": 5
}
