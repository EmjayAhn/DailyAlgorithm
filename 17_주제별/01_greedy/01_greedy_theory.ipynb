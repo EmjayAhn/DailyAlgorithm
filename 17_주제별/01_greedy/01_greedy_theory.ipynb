{
 "cells": [
  {
   "cell_type": "markdown",
   "id": "3f32db48-1b4f-4881-abca-03278ec01b00",
   "metadata": {},
   "source": [
    "# Greedy Algorithm\n",
    "- 그리디 알고리즘은 기준에 따라 좋은 것을 선택하는 알고리즘\n",
    "- 문제에서 \"가장 큰 순서대로\", \"가장 작은 순서대로\" 와 같은 힌트 제시\n",
    "- 위 힌트는 \"정렬\"을 하면 만족시킬 수 있으므로, 그리디 알고리즘 문제는 자주 정렬 알고리즘과 짝을 이룸"
   ]
  },
  {
   "cell_type": "markdown",
   "id": "10b776cc-424b-4cdc-a244-f6603f24bb3f",
   "metadata": {},
   "source": [
    "## 예제 1. 거스름 돈\n",
    "문제 설명 : 카운터에는 거스름돈으로 사용할 500원, 100원, 50원, 10원짜리 동전이 무제한 존재한다.\n",
    "손님에게 거슬러 줘야 할 돈이 N원일 때, 거슬러 줘야할 동전의 최소 갯수를 구하라, 단 거슬러 줘야할 돈N 은 항상 10의 배수이다."
   ]
  },
  {
   "cell_type": "code",
   "execution_count": 4,
   "id": "764f2edf-a256-4086-a419-2944f760838a",
   "metadata": {},
   "outputs": [],
   "source": [
    "# 내 풀이\n",
    "\n",
    "def return_change(N):\n",
    "    coin_list = [500, 100, 50, 10]\n",
    "    results = 0\n",
    "    \n",
    "    for coin in coin_list:\n",
    "        tmp_coins = N // coin\n",
    "        N -= tmp_coins * coin\n",
    "        results += tmp_coins\n",
    "        \n",
    "        if N <= 0:\n",
    "            break\n",
    "    \n",
    "    return results"
   ]
  },
  {
   "cell_type": "code",
   "execution_count": 13,
   "id": "31f8fbaa-3b96-4b95-a642-8dfcac754d46",
   "metadata": {},
   "outputs": [],
   "source": [
    "# 책 풀이\n",
    "def return_change_book(N):\n",
    "    coin_types = [500, 100, 50, 10]\n",
    "    count = 0\n",
    "    \n",
    "    for coin in coin_types:\n",
    "        count += N // coin\n",
    "        N %= coin\n",
    "        \n",
    "    return count"
   ]
  },
  {
   "cell_type": "code",
   "execution_count": 15,
   "id": "a27718e9-e6be-4f42-90b7-d338b6360b49",
   "metadata": {},
   "outputs": [
    {
     "data": {
      "text/plain": [
       "3"
      ]
     },
     "execution_count": 15,
     "metadata": {},
     "output_type": "execute_result"
    }
   ],
   "source": [
    "return_change_book(1500)"
   ]
  },
  {
   "cell_type": "markdown",
   "id": "7247169e-2581-470c-a898-0ac9c287ecda",
   "metadata": {},
   "source": [
    "## 예제 2. 큰수의 법칙\n",
    "문제 : 주어진 수들을 M번 더하여 가장 큰수를 만드는 법칙. 단, 배열의 특정한 인덱스에 해당하는 수가 연속 해서 K번을 초과하여 더해 질 수 없음.\n",
    "- 배열의 크기 N\n",
    "- 숫자가 더해지는 횟수 M\n",
    "- 해당하는 수가 연속해서 K 번 초과 불가\n",
    "입력 : N, M, K "
   ]
  },
  {
   "cell_type": "code",
   "execution_count": 28,
   "id": "c77017c2-fafe-4af6-81fb-1b52b841c9da",
   "metadata": {},
   "outputs": [
    {
     "name": "stdin",
     "output_type": "stream",
     "text": [
      " 5 8 3\n",
      " 2 4 5 4 6\n"
     ]
    },
    {
     "name": "stdout",
     "output_type": "stream",
     "text": [
      "46\n"
     ]
    }
   ],
   "source": [
    "# 내풀이\n",
    "N, M, K = map(int, input().split())\n",
    "input_array = list(map(int, input().split()))\n",
    "\n",
    "def big_number(N, M, K, input_array):\n",
    "    input_array.sort(reverse=True)\n",
    "    \n",
    "    max_number = input_array[0]\n",
    "    next_max_number = input_array[1]\n",
    "    \n",
    "    result = 0\n",
    "    count = 0\n",
    "    while True:\n",
    "        if M <= 0:\n",
    "            break\n",
    "            \n",
    "        for _ in range(K):\n",
    "            result += max_number\n",
    "            M -= 1\n",
    "        result += next_max_number\n",
    "        M -= 1\n",
    "        \n",
    "        \n",
    "    return result\n",
    "    \n",
    "print(big_number(N, M, K, input_array))"
   ]
  },
  {
   "cell_type": "code",
   "execution_count": 29,
   "id": "9d080449-87d6-4651-8d99-bed6869dd42c",
   "metadata": {},
   "outputs": [
    {
     "name": "stdin",
     "output_type": "stream",
     "text": [
      " 5 8 3\n",
      " 2 4 5 4 6\n"
     ]
    },
    {
     "name": "stdout",
     "output_type": "stream",
     "text": [
      "46\n"
     ]
    }
   ],
   "source": [
    "# 책 풀이\n",
    "N, M, K = map(int, input().split())\n",
    "data = list(map(int, input().split()))\n",
    "\n",
    "data.sort()\n",
    "first = data[N-1]\n",
    "second = data[N-2]\n",
    "\n",
    "count = int(M / (K + 1)) * K\n",
    "count += M % (K + 1)\n",
    "\n",
    "result = 0\n",
    "result += (count) * first\n",
    "result += (M - count) * second\n",
    "\n",
    "print(result)"
   ]
  },
  {
   "cell_type": "markdown",
   "id": "00b70210-66c6-4c31-b4ec-bdede316482a",
   "metadata": {},
   "source": [
    "## 예제 3. 숫자 카드 게임\n",
    "숫자 카드 게임은 여러개의 숫자 카드 중에서 가장 높은 숫자가 쓰인 카드 한장을 뽑는 게임\n",
    "1. 숫자가 쓰인 카드들이 N X M 형태로 놓여 있다. 이때 N은 행의 개수를 의미하며, M은 열의 갯수를 의미한다.\n",
    "2. 먼저 뽑고자 하는 카드가 포함되어 있는 행을 선택한다.\n",
    "3. 그다음 선택된 행에 포함된 카드들 중 가장 숫자가 낮은 카드를 뽑아야 한다.\n",
    "4. 따라서 처음에 카드를 골라낼 행을 선택할 때, 이후에 해당 행에서 가장 숫자가 낮은 카드를 뽑을 것을 고려하여 최종적으로 가장 높은 숫자의 카드를 뽑을 수 있도록 전략을 세워야한다.\n",
    "\n",
    "입력\n",
    "첫째줄 : N M\n",
    "둘째줄 N 개의 줄에 걸쳐 각 카드에 적힌 숫자가 주어짐\n",
    "\n",
    "출력\n",
    "첫째 줄에 게임의 룰에 맞게 선택한 카드에 적힌 숫자를 출력한다."
   ]
  },
  {
   "cell_type": "code",
   "execution_count": 33,
   "id": "a8cc988e-24c7-40c7-8bb5-fe7406d0958a",
   "metadata": {},
   "outputs": [
    {
     "name": "stdin",
     "output_type": "stream",
     "text": [
      " 2 4\n",
      " 7 3 1 8\n",
      " 3 3 3 4\n"
     ]
    },
    {
     "name": "stdout",
     "output_type": "stream",
     "text": [
      "3\n"
     ]
    }
   ],
   "source": [
    "# 내 풀이\n",
    "N, M = map(int, input().split())\n",
    "\n",
    "matrix = []\n",
    "for _ in range(N):\n",
    "    input_list = list(map(int, input().split()))\n",
    "    matrix.append(input_list)\n",
    "\n",
    "each_minimum = []\n",
    "for each_row in matrix:\n",
    "    minimum = min(each_row)\n",
    "    each_minimum.append(minimum)\n",
    "\n",
    "print(max(each_minimum))"
   ]
  },
  {
   "cell_type": "code",
   "execution_count": 34,
   "id": "78b226b2-4c71-4d91-9be6-4955950a7a08",
   "metadata": {},
   "outputs": [
    {
     "name": "stdin",
     "output_type": "stream",
     "text": [
      " 2 4\n",
      " 7 3 1 8\n",
      " 3 3 3 4\n"
     ]
    },
    {
     "name": "stdout",
     "output_type": "stream",
     "text": [
      "3\n"
     ]
    }
   ],
   "source": [
    "# 책 풀이\n",
    "\n",
    "n, m = map(int, input().split())\n",
    "result = 0\n",
    "\n",
    "for i in range(n):\n",
    "    data = list(map(int, input().split()))\n",
    "    min_value = min(data)\n",
    "    result = max(result, min_value)\n",
    "    \n",
    "print(result)"
   ]
  },
  {
   "cell_type": "code",
   "execution_count": 35,
   "id": "d859a05b-228a-4327-b249-540b08d3f283",
   "metadata": {},
   "outputs": [
    {
     "name": "stdin",
     "output_type": "stream",
     "text": [
      " 2 4\n",
      " 7 3 1 8\n",
      " 3 3 3 4\n"
     ]
    },
    {
     "name": "stdout",
     "output_type": "stream",
     "text": [
      "3\n"
     ]
    }
   ],
   "source": [
    "# 책 풀이 2\n",
    "n, m = map(int, input().split())\n",
    "\n",
    "result = 0\n",
    "\n",
    "for i in range(n):\n",
    "    data = list(map(int, input().split()))\n",
    "    min_value = 10001\n",
    "    for a in data:\n",
    "        min_value = min(min_value, a)\n",
    "    result = max(result, min_value)\n",
    "    \n",
    "print(result)"
   ]
  },
  {
   "cell_type": "markdown",
   "id": "14d9ab9b-e797-48d0-a48b-17651caab15a",
   "metadata": {},
   "source": [
    "## 1이 될 때 까지\n",
    "어떠한 수 N이 1이 될 때까지 다음의 두 과정 중 하나를 반복적으로 선택하여 수행하려고 한다. 단, 두번째 연산은 N이 K로 나누어 떨어질 때만 선택할 수 있다.\n",
    "1. N에서 1을 뺀다.\n",
    "2. N을 K로 나눈다.\n",
    "N과 K가 주어질 때 N이 1이 될 때까지 1번 혹은 2번의 과정을 수행해야 하는 최소 횟수를 구하는 프로그램을 작성하시오.\n",
    "\n",
    "입력 : N K\n",
    "출력 : N이 1이 될 때까지 1번 혹은 2번의 과정을 수행해야 하는 횟수의 최솟값"
   ]
  },
  {
   "cell_type": "code",
   "execution_count": 36,
   "id": "93aad2ab-b4d3-4b56-a808-ce9b8c8d6c1b",
   "metadata": {},
   "outputs": [
    {
     "name": "stdin",
     "output_type": "stream",
     "text": [
      " 25 5\n"
     ]
    },
    {
     "name": "stdout",
     "output_type": "stream",
     "text": [
      "2\n"
     ]
    }
   ],
   "source": [
    "# 내풀이\n",
    "N, K = map(int, input().split())\n",
    "\n",
    "count = 0\n",
    "\n",
    "while True:\n",
    "    if N == 1:\n",
    "        break\n",
    "    \n",
    "    if N % K == 0:\n",
    "        N /= K\n",
    "        count += 1\n",
    "    else:\n",
    "        N -= 1\n",
    "        count += 1\n",
    "print(count)"
   ]
  },
  {
   "cell_type": "code",
   "execution_count": 37,
   "id": "c0ea86ad-fbfa-49d0-bb42-a67216f49fdd",
   "metadata": {},
   "outputs": [
    {
     "name": "stdin",
     "output_type": "stream",
     "text": [
      " 25 5\n"
     ]
    },
    {
     "name": "stdout",
     "output_type": "stream",
     "text": [
      "2\n"
     ]
    }
   ],
   "source": [
    "# 책풀이\n",
    "n, k = map(int, input().split())\n",
    "result = 0\n",
    "\n",
    "while n >= k:\n",
    "    while n % k !=0:\n",
    "        n -= 1\n",
    "        result += 1\n",
    "    n //= k\n",
    "    result += 1\n",
    "    \n",
    "while n > 1:\n",
    "    n -= 1\n",
    "    result += 1\n",
    "    \n",
    "print(result)"
   ]
  },
  {
   "cell_type": "code",
   "execution_count": null,
   "id": "cff0801d-d20d-41d9-a277-864deb6d3ef7",
   "metadata": {},
   "outputs": [],
   "source": []
  }
 ],
 "metadata": {
  "kernelspec": {
   "display_name": "py37",
   "language": "python",
   "name": "py37"
  },
  "language_info": {
   "codemirror_mode": {
    "name": "ipython",
    "version": 3
   },
   "file_extension": ".py",
   "mimetype": "text/x-python",
   "name": "python",
   "nbconvert_exporter": "python",
   "pygments_lexer": "ipython3",
   "version": "3.7.0"
  }
 },
 "nbformat": 4,
 "nbformat_minor": 5
}
