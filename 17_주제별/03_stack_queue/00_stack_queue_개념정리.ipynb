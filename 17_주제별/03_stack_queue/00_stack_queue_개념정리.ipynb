{
 "cells": [
  {
   "cell_type": "markdown",
   "id": "dfa06cd8-4544-4bd3-a6e3-978d8afca7eb",
   "metadata": {},
   "source": [
    "# 스택 : Stack\n",
    "- 박스 쌓기\n",
    "- 선입후출 : First In Last Out\n",
    "- 후입선출 : Last In First Out"
   ]
  },
  {
   "cell_type": "code",
   "execution_count": 1,
   "id": "e3a3af9a-9014-451c-b293-786bed0e76b5",
   "metadata": {},
   "outputs": [
    {
     "name": "stdout",
     "output_type": "stream",
     "text": [
      "[1]\n",
      "[1, 5]\n",
      "[1, 5, 3]\n",
      "[1, 5]\n",
      "[1, 5, 2]\n",
      "[1, 5]\n"
     ]
    }
   ],
   "source": [
    "# Stack Implementation with Python3\n",
    "\n",
    "stack = []\n",
    "\n",
    "stack.append(1)\n",
    "print(stack)\n",
    "stack.append(5)\n",
    "print(stack)\n",
    "stack.append(3)\n",
    "print(stack)\n",
    "\n",
    "stack.pop()\n",
    "print(stack)\n",
    "\n",
    "stack.append(2)\n",
    "print(stack)\n",
    "\n",
    "stack.pop()\n",
    "print(stack)"
   ]
  },
  {
   "cell_type": "markdown",
   "id": "f7021eb9-26d9-4898-b86b-fcbf13d33282",
   "metadata": {},
   "source": [
    "# 큐 : Queue\n",
    "- 줄 서는 형태\n",
    "- 선입선출 : First In First Out"
   ]
  },
  {
   "cell_type": "code",
   "execution_count": 2,
   "id": "49c71095-0d79-473e-aeb8-9a5f068ba49f",
   "metadata": {},
   "outputs": [
    {
     "name": "stdout",
     "output_type": "stream",
     "text": [
      "deque([1])\n",
      "deque([1, 5])\n",
      "deque([1, 5, 3])\n",
      "deque([5, 3])\n",
      "deque([5, 3, 2])\n",
      "deque([3, 2])\n"
     ]
    }
   ],
   "source": [
    "# Queue Implementation with Python3\n",
    "\n",
    "from collections import deque\n",
    "\n",
    "queue = deque()\n",
    "\n",
    "queue.append(1)\n",
    "print(queue)\n",
    "queue.append(5)\n",
    "print(queue)\n",
    "queue.append(3)\n",
    "print(queue)\n",
    "\n",
    "queue.popleft()\n",
    "print(queue)\n",
    "\n",
    "queue.append(2)\n",
    "print(queue)\n",
    "\n",
    "queue.popleft()\n",
    "print(queue)"
   ]
  }
 ],
 "metadata": {
  "kernelspec": {
   "display_name": "Python 3 (ipykernel)",
   "language": "python",
   "name": "python3"
  },
  "language_info": {
   "codemirror_mode": {
    "name": "ipython",
    "version": 3
   },
   "file_extension": ".py",
   "mimetype": "text/x-python",
   "name": "python",
   "nbconvert_exporter": "python",
   "pygments_lexer": "ipython3",
   "version": "3.7.0"
  }
 },
 "nbformat": 4,
 "nbformat_minor": 5
}
