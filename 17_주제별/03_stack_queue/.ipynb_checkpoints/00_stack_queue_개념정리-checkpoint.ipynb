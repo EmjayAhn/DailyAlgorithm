{
 "cells": [
  {
   "cell_type": "markdown",
   "id": "dfa06cd8-4544-4bd3-a6e3-978d8afca7eb",
   "metadata": {},
   "source": [
    "# 스택 : Stack\n",
    "- 박스 쌓기\n",
    "- 선입후출 : First In Last Out\n",
    "- 후입선출 : Last In First Out"
   ]
  },
  {
   "cell_type": "code",
   "execution_count": 1,
   "id": "e3a3af9a-9014-451c-b293-786bed0e76b5",
   "metadata": {},
   "outputs": [
    {
     "name": "stdout",
     "output_type": "stream",
     "text": [
      "[1]\n",
      "[1, 5]\n",
      "[1, 5, 3]\n",
      "[1, 5]\n",
      "[1, 5, 2]\n",
      "[1, 5]\n"
     ]
    }
   ],
   "source": [
    "# Stack Implementation with Python3\n",
    "\n",
    "stack = []\n",
    "\n",
    "stack.append(1)\n",
    "print(stack)\n",
    "stack.append(5)\n",
    "print(stack)\n",
    "stack.append(3)\n",
    "print(stack)\n",
    "\n",
    "stack.pop()\n",
    "print(stack)\n",
    "\n",
    "stack.append(2)\n",
    "print(stack)\n",
    "\n",
    "stack.pop()\n",
    "print(stack)"
   ]
  },
  {
   "cell_type": "markdown",
   "id": "f7021eb9-26d9-4898-b86b-fcbf13d33282",
   "metadata": {},
   "source": [
    "# 큐 : Queue\n",
    "- 줄 서는 형태\n",
    "- 선입선출 : First In First Out"
   ]
  },
  {
   "cell_type": "code",
   "execution_count": 2,
   "id": "49c71095-0d79-473e-aeb8-9a5f068ba49f",
   "metadata": {},
   "outputs": [
    {
     "name": "stdout",
     "output_type": "stream",
     "text": [
      "deque([1])\n",
      "deque([1, 5])\n",
      "deque([1, 5, 3])\n",
      "deque([5, 3])\n",
      "deque([5, 3, 2])\n",
      "deque([3, 2])\n"
     ]
    }
   ],
   "source": [
    "# Queue Implementation with Python3\n",
    "\n",
    "from collections import deque\n",
    "\n",
    "queue = deque()\n",
    "\n",
    "queue.append(1)\n",
    "print(queue)\n",
    "queue.append(5)\n",
    "print(queue)\n",
    "queue.append(3)\n",
    "print(queue)\n",
    "\n",
    "queue.popleft()\n",
    "print(queue)\n",
    "\n",
    "queue.append(2)\n",
    "print(queue)\n",
    "\n",
    "queue.popleft()\n",
    "print(queue)"
   ]
  },
  {
   "cell_type": "markdown",
   "id": "fb43a959-56ad-4650-973b-ec38eea9a8a1",
   "metadata": {},
   "source": [
    "## Stack 연습문제\n",
    "- 중위표현 수식 -> 후위표현 수식"
   ]
  },
  {
   "cell_type": "code",
   "execution_count": 5,
   "id": "96d4f7bd-1c05-4f54-899d-f8c4a49362bc",
   "metadata": {},
   "outputs": [],
   "source": [
    "class ArrayStack:\n",
    "\n",
    "    def __init__(self):\n",
    "        self.data = []\n",
    "\n",
    "    def size(self):\n",
    "        return len(self.data)\n",
    "\n",
    "    def isEmpty(self):\n",
    "        return self.size() == 0\n",
    "\n",
    "    def push(self, item):\n",
    "        self.data.append(item)\n",
    "\n",
    "    def pop(self):\n",
    "        return self.data.pop()\n",
    "\n",
    "    def peek(self):\n",
    "        return self.data[-1]\n",
    "\n",
    "prec = {\n",
    "    '*': 3, '/': 3,\n",
    "    '+': 2, '-': 2,\n",
    "    '(': 1\n",
    "}\n",
    "\n",
    "def solution(S):\n",
    "    import string\n",
    "    \n",
    "    opStack = ArrayStack()\n",
    "    answer = ''\n",
    "    \n",
    "    for char in S:\n",
    "        if char in string.ascii_uppercase:\n",
    "            answer += char\n",
    "            \n",
    "        else:\n",
    "            if char == '(':\n",
    "                opStack.push(char)\n",
    "            elif char == ')':\n",
    "                while opStack.peek() != '(':\n",
    "                    answer += opStack.pop()\n",
    "            elif opStack.isEmpty() or prec[char] > prec[opStack.peek()]:\n",
    "                opStack.push(char)\n",
    "            elif prec[char] <= prec[opStack.peek()]:\n",
    "                answer += opStack.pop()\n",
    "                opStack.push(char)\n",
    "    \n",
    "    while not opStack.isEmpty():\n",
    "        popped_item = opStack.pop()\n",
    "        if popped_item != '(':\n",
    "            answer += popped_item\n",
    "        \n",
    "    return answer"
   ]
  },
  {
   "cell_type": "code",
   "execution_count": 6,
   "id": "62a6791a-7655-4010-a888-432136cbba79",
   "metadata": {},
   "outputs": [
    {
     "data": {
      "text/plain": [
       "'AB+'"
      ]
     },
     "execution_count": 6,
     "metadata": {},
     "output_type": "execute_result"
    }
   ],
   "source": [
    "solution('A+B')"
   ]
  },
  {
   "cell_type": "code",
   "execution_count": null,
   "id": "dc4e596d-9277-4007-9350-7f7770b9e38c",
   "metadata": {},
   "outputs": [],
   "source": []
  }
 ],
 "metadata": {
  "kernelspec": {
   "display_name": "Python 3 (ipykernel)",
   "language": "python",
   "name": "python3"
  },
  "language_info": {
   "codemirror_mode": {
    "name": "ipython",
    "version": 3
   },
   "file_extension": ".py",
   "mimetype": "text/x-python",
   "name": "python",
   "nbconvert_exporter": "python",
   "pygments_lexer": "ipython3",
   "version": "3.9.12"
  }
 },
 "nbformat": 4,
 "nbformat_minor": 5
}
