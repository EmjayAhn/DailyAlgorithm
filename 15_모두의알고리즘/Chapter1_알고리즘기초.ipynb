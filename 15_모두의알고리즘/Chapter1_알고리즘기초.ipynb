{
 "cells": [
  {
   "cell_type": "markdown",
   "metadata": {
    "collapsed": true,
    "pycharm": {
     "name": "#%% md\n"
    }
   },
   "source": [
    "## 첫째마당 : 알고리즘 기초"
   ]
  },
  {
   "cell_type": "markdown",
   "source": [
    "### 문제 1: 1부터 n까지의 합 구하기"
   ],
   "metadata": {
    "collapsed": false,
    "pycharm": {
     "name": "#%% md\n"
    }
   }
  },
  {
   "cell_type": "code",
   "execution_count": 1,
   "outputs": [
    {
     "name": "stdout",
     "output_type": "stream",
     "text": [
      "55\n",
      "5050\n"
     ]
    }
   ],
   "source": [
    "# 해결방법 1\n",
    "def sum_n(n):\n",
    "    s = 0\n",
    "    for r in range(1, n+1):\n",
    "        s = s + r\n",
    "    return s\n",
    "\n",
    "print(sum_n(10))\n",
    "print(sum_n(100))"
   ],
   "metadata": {
    "collapsed": false,
    "pycharm": {
     "name": "#%%\n"
    }
   }
  },
  {
   "cell_type": "code",
   "execution_count": 2,
   "outputs": [
    {
     "name": "stdout",
     "output_type": "stream",
     "text": [
      "55\n",
      "5050\n"
     ]
    }
   ],
   "source": [
    "# 해결방법2\n",
    "def sum_n(n):\n",
    "    return n*(n+1)//2\n",
    "\n",
    "print(sum_n(10))\n",
    "print(sum_n(100))"
   ],
   "metadata": {
    "collapsed": false,
    "pycharm": {
     "name": "#%%\n"
    }
   }
  },
  {
   "cell_type": "markdown",
   "source": [
    "### 연습문제"
   ],
   "metadata": {
    "collapsed": false,
    "pycharm": {
     "name": "#%% md\n"
    }
   }
  },
  {
   "cell_type": "code",
   "execution_count": 3,
   "outputs": [
    {
     "name": "stdout",
     "output_type": "stream",
     "text": [
      "385\n"
     ]
    }
   ],
   "source": [
    "# 1-1. 1부터 n까지 연속한 숫자의 제곱의 합을 구하는 프로그램을 for 반복문으로 만들어 보세요\n",
    "def sum_square(n):\n",
    "    result = 0\n",
    "    for i in range(1, n+1):\n",
    "        result += i**2\n",
    "    return result\n",
    "\n",
    "print(sum_square(10))\n",
    "\n",
    "# 1-2. 연습 문제 1-1프로그램의 계산 복잡도는 O(1)과 O(n) 중 무엇일까요?\n",
    "# 1-3. 1부터 n까지 연속한 숫자의 제곱의 합을 구하는 공식은 n(n+1)(2n+1)/6으로 알려져 있습니다. 시간복잡도는 O(1)과 O(n) 중 무엇일까요?"
   ],
   "metadata": {
    "collapsed": false,
    "pycharm": {
     "name": "#%%\n"
    }
   }
  },
  {
   "cell_type": "markdown",
   "source": [
    "### 문제 2. 최댓값 찾기"
   ],
   "metadata": {
    "collapsed": false,
    "pycharm": {
     "name": "#%% md\n"
    }
   }
  },
  {
   "cell_type": "code",
   "execution_count": 4,
   "outputs": [
    {
     "name": "stdout",
     "output_type": "stream",
     "text": [
      "92\n"
     ]
    }
   ],
   "source": [
    "# 최댓값 구하기\n",
    "def find_max(list_a):\n",
    "    n = len(list_a)\n",
    "    max_value = list_a[0]\n",
    "    for i in range(1, n):\n",
    "        if list_a[i] > max_value:\n",
    "            max_value = list_a[i]\n",
    "    return max_value\n",
    "\n",
    "list_a = [17, 92, 18, 33, 58, 7, 33, 42]\n",
    "print(find_max(list_a))"
   ],
   "metadata": {
    "collapsed": false,
    "pycharm": {
     "name": "#%%\n"
    }
   }
  },
  {
   "cell_type": "code",
   "execution_count": 6,
   "outputs": [
    {
     "name": "stdout",
     "output_type": "stream",
     "text": [
      "1\n"
     ]
    }
   ],
   "source": [
    "# 최댓값의 리스트 index 구하기\n",
    "\n",
    "def find_max_index(list_a):\n",
    "    n = len(list_a)\n",
    "    max_value_index = 0\n",
    "    for i in range(1, n):\n",
    "        if list_a[i] > list_a[max_value_index]:\n",
    "            max_value_index = i\n",
    "\n",
    "    return max_value_index\n",
    "\n",
    "list_a = [17, 92, 18, 33, 58, 7, 33, 42]\n",
    "print(find_max_index(list_a))"
   ],
   "metadata": {
    "collapsed": false,
    "pycharm": {
     "name": "#%%\n"
    }
   }
  },
  {
   "cell_type": "markdown",
   "source": [
    "### 연습문제"
   ],
   "metadata": {
    "collapsed": false,
    "pycharm": {
     "name": "#%% md\n"
    }
   }
  },
  {
   "cell_type": "code",
   "execution_count": 7,
   "outputs": [
    {
     "name": "stdout",
     "output_type": "stream",
     "text": [
      "7\n"
     ]
    }
   ],
   "source": [
    "# 2-1. 숫자 n개를 리스트로 입력받아 최솟값을 구하는 프로그램을 만들어보세요.\n",
    "\n",
    "def find_min(list_a):\n",
    "    min_value = list_a[0]\n",
    "    for value in list_a:\n",
    "        if value < min_value:\n",
    "            min_value = value\n",
    "    return min_value\n",
    "\n",
    "list_a = [17, 92, 18, 33, 58, 7, 33, 42]\n",
    "print(find_min(list_a))"
   ],
   "metadata": {
    "collapsed": false,
    "pycharm": {
     "name": "#%%\n"
    }
   }
  },
  {
   "cell_type": "markdown",
   "source": [
    "### 문제3 : 동명이인 찾기 (1)"
   ],
   "metadata": {
    "collapsed": false,
    "pycharm": {
     "name": "#%% md\n"
    }
   }
  },
  {
   "cell_type": "code",
   "execution_count": 1,
   "outputs": [
    {
     "name": "stdout",
     "output_type": "stream",
     "text": [
      "{'Tom'}\n",
      "{'Mike', 'Tom'}\n"
     ]
    }
   ],
   "source": [
    "#3. 입력 : 이름이 n 개 들어 있는 리스트, 출력 : 이름 n개 중 반복되는 이름의 집합\n",
    "\n",
    "def find_same_name(a):\n",
    "    n = len(a)\n",
    "    result = set()\n",
    "    for i in range(0, n-1):\n",
    "        for j in range(i+1, n):\n",
    "            if a[i]==a[j]:\n",
    "                result.add(a[i])\n",
    "    return result\n",
    "\n",
    "name = [\"Tom\", \"Jerry\", \"Mike\", \"Tom\"]\n",
    "name2 = [\"Tom\", \"Jerry\", \"Mike\", \"Tom\", \"Mike\"]\n",
    "print(find_same_name(name))\n",
    "print(find_same_name(name2))"
   ],
   "metadata": {
    "collapsed": false,
    "pycharm": {
     "name": "#%%\n"
    }
   }
  },
  {
   "cell_type": "markdown",
   "source": [
    "### 연습문제"
   ],
   "metadata": {
    "collapsed": false,
    "pycharm": {
     "name": "#%% md\n"
    }
   }
  },
  {
   "cell_type": "code",
   "execution_count": 3,
   "outputs": [
    {
     "name": "stdout",
     "output_type": "stream",
     "text": [
      "Tom - Jerry\n",
      "Tom - Mike\n",
      "Jerry - Mike\n"
     ]
    }
   ],
   "source": [
    "# 3-1. n 명중 두명을 뽑아 짝을 짓는다고 할 때, 짝을 지을 수 있는 모든 조합을 출력하는 알고리즘을 만들어 보세요.\n",
    "def make_pair(list_a):\n",
    "    n = len(list_a)\n",
    "    for i in range(0, n-1):\n",
    "        for j in range(i+1, n):\n",
    "            print(f\"{list_a[i]} - {list_a[j]}\")\n",
    "\n",
    "make_pair([\"Tom\", \"Jerry\", \"Mike\"])"
   ],
   "metadata": {
    "collapsed": false,
    "pycharm": {
     "name": "#%%\n"
    }
   }
  }
 ],
 "metadata": {
  "kernelspec": {
   "display_name": "Python 3",
   "language": "python",
   "name": "python3"
  },
  "language_info": {
   "codemirror_mode": {
    "name": "ipython",
    "version": 2
   },
   "file_extension": ".py",
   "mimetype": "text/x-python",
   "name": "python",
   "nbconvert_exporter": "python",
   "pygments_lexer": "ipython2",
   "version": "2.7.6"
  }
 },
 "nbformat": 4,
 "nbformat_minor": 0
}