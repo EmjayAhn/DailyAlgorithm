{
 "cells": [
  {
   "cell_type": "markdown",
   "metadata": {
    "collapsed": true,
    "pycharm": {
     "name": "#%% md\n"
    }
   },
   "source": [
    "## 둘째마당 : 재귀호출 (Recursion)"
   ]
  },
  {
   "cell_type": "markdown",
   "source": [
    "### Factorial"
   ],
   "metadata": {
    "collapsed": false,
    "pycharm": {
     "name": "#%% md\n"
    }
   }
  },
  {
   "cell_type": "code",
   "execution_count": 3,
   "outputs": [
    {
     "name": "stdout",
     "output_type": "stream",
     "text": [
      "1\n",
      "24\n",
      "362880\n"
     ]
    }
   ],
   "source": [
    "def fact(n):\n",
    "    initial = 1\n",
    "    for i in range(1, n):\n",
    "        initial *= i\n",
    "    return initial\n",
    "\n",
    "print(fact(1))\n",
    "print(fact(5))\n",
    "print(fact(10))"
   ],
   "metadata": {
    "collapsed": false,
    "pycharm": {
     "name": "#%%\n"
    }
   }
  },
  {
   "cell_type": "code",
   "execution_count": 4,
   "outputs": [
    {
     "name": "stdout",
     "output_type": "stream",
     "text": [
      "1\n",
      "120\n",
      "3628800\n"
     ]
    }
   ],
   "source": [
    "def fact_recur(n):\n",
    "    if n <= 1 :\n",
    "        return 1\n",
    "    return n * fact_recur(n-1)\n",
    "\n",
    "print(fact_recur(1))\n",
    "print(fact_recur(5))\n",
    "print(fact_recur(10))"
   ],
   "metadata": {
    "collapsed": false,
    "pycharm": {
     "name": "#%%\n"
    }
   }
  },
  {
   "cell_type": "markdown",
   "source": [
    "### 연습문제"
   ],
   "metadata": {
    "collapsed": false,
    "pycharm": {
     "name": "#%% md\n"
    }
   }
  },
  {
   "cell_type": "code",
   "execution_count": 5,
   "outputs": [
    {
     "name": "stdout",
     "output_type": "stream",
     "text": [
      "55\n"
     ]
    }
   ],
   "source": [
    "# 문제 1의 1부터 n까지의 합 구하기를 재귀 호출로 만뜰어 보세요\n",
    "def sum_recur(n):\n",
    "    if n <= 1:\n",
    "        return 1\n",
    "    return n + sum_recur(n-1)\n",
    "print(sum_recur(10))"
   ],
   "metadata": {
    "collapsed": false,
    "pycharm": {
     "name": "#%%\n"
    }
   }
  },
  {
   "cell_type": "code",
   "execution_count": 8,
   "outputs": [
    {
     "name": "stdout",
     "output_type": "stream",
     "text": [
      "999\n"
     ]
    }
   ],
   "source": [
    "# 문제2의 숫자 n 개 중에서 최댓값 찾기를 재귀 호출로 만들어 보세요.\n",
    "def find_max_recur(list_a, n):\n",
    "    if n<=1:\n",
    "        return list_a[n-1]\n",
    "    else:\n",
    "        if (list_a[n-1] > find_max_recur(list_a, n-2)):\n",
    "            return list_a[n-1]\n",
    "        else:\n",
    "            return find_max_recur(list_a, n-2)\n",
    "\n",
    "list_a = [1, 2, 3, 4, 5, 999, 10, 2]\n",
    "print(find_max_recur(list_a, len(list_a)))"
   ],
   "metadata": {
    "collapsed": false,
    "pycharm": {
     "name": "#%%\n"
    }
   }
  },
  {
   "cell_type": "markdown",
   "source": [
    "### 최대공약수 구하기"
   ],
   "metadata": {
    "collapsed": false,
    "pycharm": {
     "name": "#%% md\n"
    }
   }
  },
  {
   "cell_type": "code",
   "execution_count": 9,
   "outputs": [
    {
     "name": "stdout",
     "output_type": "stream",
     "text": [
      "1\n",
      "2\n",
      "27\n"
     ]
    }
   ],
   "source": [
    "def find_gcd(a, b):\n",
    "    i = min(a, b)\n",
    "    while True:\n",
    "        if (a%i==0) and (b%1==0):\n",
    "            return i\n",
    "        else:\n",
    "            i -= 1\n",
    "print(find_gcd(1, 5))\n",
    "print(find_gcd(2, 6))\n",
    "print(find_gcd(81, 27))"
   ],
   "metadata": {
    "collapsed": false,
    "pycharm": {
     "name": "#%%\n"
    }
   }
  },
  {
   "cell_type": "markdown",
   "source": [
    "### 최대공약수 : 유클리드 알고리즘\n",
    "- gcd(a, b) = gcd(b, a%b)\n",
    "- gcd(n, 0) = n"
   ],
   "metadata": {
    "collapsed": false,
    "pycharm": {
     "name": "#%% md\n"
    }
   }
  },
  {
   "cell_type": "code",
   "execution_count": null,
   "outputs": [],
   "source": [],
   "metadata": {
    "collapsed": false,
    "pycharm": {
     "name": "#%%\n"
    }
   }
  }
 ],
 "metadata": {
  "kernelspec": {
   "display_name": "Python 3",
   "language": "python",
   "name": "python3"
  },
  "language_info": {
   "codemirror_mode": {
    "name": "ipython",
    "version": 2
   },
   "file_extension": ".py",
   "mimetype": "text/x-python",
   "name": "python",
   "nbconvert_exporter": "python",
   "pygments_lexer": "ipython2",
   "version": "2.7.6"
  }
 },
 "nbformat": 4,
 "nbformat_minor": 0
}