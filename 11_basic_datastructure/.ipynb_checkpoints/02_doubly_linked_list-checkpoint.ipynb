{
 "cells": [
  {
   "cell_type": "markdown",
   "id": "1baba073-f9ce-418b-a972-c0972ad3f5f6",
   "metadata": {},
   "source": [
    "# Double Linked List"
   ]
  },
  {
   "cell_type": "code",
   "execution_count": 5,
   "id": "72890336-432c-487c-a226-77b6a22d081d",
   "metadata": {},
   "outputs": [],
   "source": [
    "class Node:\n",
    "\n",
    "    def __init__(self, item):\n",
    "        self.data = item\n",
    "        self.prev = None\n",
    "        self.next = None\n",
    "\n",
    "\n",
    "class DoublyLinkedList:\n",
    "\n",
    "    def __init__(self):\n",
    "        self.nodeCount = 0\n",
    "        self.head = Node(None)\n",
    "        self.tail = Node(None)\n",
    "        self.head.prev = None\n",
    "        self.head.next = self.tail\n",
    "        self.tail.prev = self.head\n",
    "        self.tail.next = None\n",
    "\n",
    "\n",
    "    def __repr__(self):\n",
    "        if self.nodeCount == 0:\n",
    "            return 'LinkedList: empty'\n",
    "\n",
    "        s = ''\n",
    "        curr = self.head\n",
    "        while curr.next.next:\n",
    "            curr = curr.next\n",
    "            s += repr(curr.data)\n",
    "            if curr.next.next is not None:\n",
    "                s += ' -> '\n",
    "        return s\n",
    "\n",
    "\n",
    "    def getLength(self):\n",
    "        return self.nodeCount\n",
    "\n",
    "\n",
    "    def traverse(self):\n",
    "        result = []\n",
    "        curr = self.head\n",
    "        while curr.next.next:\n",
    "            curr = curr.next\n",
    "            result.append(curr.data)\n",
    "        return result\n",
    "\n",
    "\n",
    "    def getAt(self, pos):\n",
    "        if pos < 0 or pos > self.nodeCount:\n",
    "            return None\n",
    "\n",
    "        if pos > self.nodeCount // 2:\n",
    "            i = 0\n",
    "            curr = self.tail\n",
    "            while i < self.nodeCount - pos + 1:\n",
    "                curr = curr.prev\n",
    "                i += 1\n",
    "        else:\n",
    "            i = 0\n",
    "            curr = self.head\n",
    "            while i < pos:\n",
    "                curr = curr.next\n",
    "                i += 1\n",
    "\n",
    "        return curr\n",
    "\n",
    "\n",
    "    def insertAfter(self, prev, newNode):\n",
    "        next = prev.next\n",
    "        newNode.prev = prev\n",
    "        newNode.next = next\n",
    "        prev.next = newNode\n",
    "        next.prev = newNode\n",
    "        self.nodeCount += 1\n",
    "        return True\n",
    "\n",
    "\n",
    "    def insertAt(self, pos, newNode):\n",
    "        if pos < 1 or pos > self.nodeCount + 1:\n",
    "            return False\n",
    "\n",
    "        prev = self.getAt(pos - 1)\n",
    "        return self.insertAfter(prev, newNode)\n",
    "    \n",
    "    def traverse(self):\n",
    "        result = []\n",
    "\n",
    "        curr = self.head\n",
    "        while curr.next.next:\n",
    "            print(curr.next.next)\n",
    "            curr = curr.next\n",
    "            result.append(curr.data)\n",
    "        return result"
   ]
  },
  {
   "cell_type": "code",
   "execution_count": 6,
   "id": "d411907e-27a0-40fe-99c7-8650c0a12b79",
   "metadata": {},
   "outputs": [
    {
     "data": {
      "text/plain": [
       "1"
      ]
     },
     "execution_count": 6,
     "metadata": {},
     "output_type": "execute_result"
    }
   ],
   "source": [
    "node_a = Node(1)\n",
    "node_b = Node(2)\n",
    "\n",
    "list_a = DoublyLinkedList()\n",
    "\n",
    "list_a.insertAt(1, node_a)\n",
    "list_a"
   ]
  },
  {
   "cell_type": "code",
   "execution_count": 7,
   "id": "df1935c0-03fa-437a-b13e-955ccc5ffd8d",
   "metadata": {},
   "outputs": [
    {
     "data": {
      "text/plain": [
       "True"
      ]
     },
     "execution_count": 7,
     "metadata": {},
     "output_type": "execute_result"
    }
   ],
   "source": [
    "list_a.insertAfter(node_a, node_b)"
   ]
  },
  {
   "cell_type": "code",
   "execution_count": 10,
   "id": "5ce0b6fc-68fa-4ef8-bfe5-f071313d9f91",
   "metadata": {},
   "outputs": [
    {
     "data": {
      "text/plain": [
       "[1, 2]"
      ]
     },
     "execution_count": 10,
     "metadata": {},
     "output_type": "execute_result"
    }
   ],
   "source": [
    "list_a.traverse()"
   ]
  },
  {
   "cell_type": "code",
   "execution_count": null,
   "id": "68e3a844-2553-4800-a210-3110763de75f",
   "metadata": {},
   "outputs": [],
   "source": []
  }
 ],
 "metadata": {
  "kernelspec": {
   "display_name": "py37",
   "language": "python",
   "name": "py37"
  },
  "language_info": {
   "codemirror_mode": {
    "name": "ipython",
    "version": 3
   },
   "file_extension": ".py",
   "mimetype": "text/x-python",
   "name": "python",
   "nbconvert_exporter": "python",
   "pygments_lexer": "ipython3",
   "version": "3.7.0"
  }
 },
 "nbformat": 4,
 "nbformat_minor": 5
}
