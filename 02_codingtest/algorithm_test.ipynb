{
 "cells": [
  {
   "cell_type": "markdown",
   "metadata": {},
   "source": [
    "## 동전 줍기\n",
    "\n",
    "길에 떨어져 있는 많은 동전들의 위치와 갯수를 의미하는 리스트 `A`가 있습니다.\n",
    "\n",
    "당신은 길위에 동전을 수집하려고 합니다.\n",
    "\n",
    "출발하는 위치 `k`와 이동가능한 거리를 `m`이 주어질때,\n",
    "가장 많은 동전을 획득하려고하면 몇개를 획득할 수 있는지 알려주는 함수를 만드세요.\n",
    "\n",
    "\n",
    "예를 들어 `리스트 A`와 `k`, `m`이 아래와 같을때\n",
    "\n",
    "```\n",
    "A = [2, 3, 7, 5, 1, 3, 9]\n",
    "k=4\n",
    "m=6\n",
    "```\n",
    "\n",
    "가장 많은 동전을 주울수있는 방법은 아래와 같고\n",
    "\n",
    "```\n",
    "4번째에서 출발 - 1개 획득 \n",
    "왼쪽으로 이동  - 5개 획득 (1번이동)\n",
    "왼쪽으로 이동  - 7개 획득 (2번이동)\n",
    "오른쪽으로 이동 - 0개 획득 (3번이동)\n",
    "오른쪽으로 이동 - 0개 획득 (4번이동)\n",
    "오른쪽으로 이동 - 3개 획득 (5번이동)\n",
    "오른쪽으로 이동 - 9개 획득 (6번이동)\n",
    "```\n",
    "\n",
    "총\n",
    "`1, 5, 7, 3, 9` = 25개의 버섯을 주울 수 있다.\n",
    "\n",
    "25를 리턴하는 함수 `solution`을 생성하세요.\n",
    "\n",
    "**조건**\n",
    "\n",
    "`def solution(A, k, m):`\n",
    "\n",
    "`1 <= len(A) <= 10**5`\n",
    "\n",
    "`0 <= k, m <= 10**5`"
   ]
  },
  {
   "cell_type": "code",
   "execution_count": 60,
   "metadata": {
    "scrolled": true
   },
   "outputs": [
    {
     "data": {
      "text/plain": [
       "1"
      ]
     },
     "execution_count": 60,
     "metadata": {},
     "output_type": "execute_result"
    }
   ],
   "source": [
    "A = [1, 2, 3, 4, 5]\n",
    "A.index(2)"
   ]
  },
  {
   "cell_type": "code",
   "execution_count": 61,
   "metadata": {},
   "outputs": [
    {
     "data": {
      "text/plain": [
       "2"
      ]
     },
     "execution_count": 61,
     "metadata": {},
     "output_type": "execute_result"
    }
   ],
   "source": [
    "abs(-2)"
   ]
  },
  {
   "cell_type": "code",
   "execution_count": 67,
   "metadata": {},
   "outputs": [],
   "source": [
    "def solution(A, k, m):\n",
    "    mem1 = A[k]\n",
    "    mem2 = 0\n",
    "    index_memory = [k]\n",
    "    step = 0\n",
    "    while True:\n",
    "        upper = 1\n",
    "        lower = 1\n",
    "        if step >= m:\n",
    "            return mem2\n",
    "        if upper in index_memory:\n",
    "            upper += 1\n",
    "        if lower in index_memory:\n",
    "            lower += 1\n",
    "        mem1, mem2 = mem2, mem1+max(A[k+upper], A[k-lower])\n",
    "        step += abs(k - A.index(max(A[k+upper], A[k-lower])))\n",
    "        k = A.index(max(A[k+upper], A[k-lower]))\n",
    "        index_memory.append(k)\n",
    "    \n",
    "    \n",
    "    "
   ]
  },
  {
   "cell_type": "code",
   "execution_count": 66,
   "metadata": {},
   "outputs": [
    {
     "ename": "IndexError",
     "evalue": "list index out of range",
     "output_type": "error",
     "traceback": [
      "\u001b[0;31m---------------------------------------------------------------------------\u001b[0m",
      "\u001b[0;31mIndexError\u001b[0m                                Traceback (most recent call last)",
      "\u001b[0;32m<ipython-input-66-c06d5149a648>\u001b[0m in \u001b[0;36m<module>\u001b[0;34m\u001b[0m\n\u001b[0;32m----> 1\u001b[0;31m \u001b[0msolution\u001b[0m\u001b[0;34m(\u001b[0m\u001b[0;34m[\u001b[0m\u001b[0;36m1\u001b[0m\u001b[0;34m,\u001b[0m \u001b[0;36m5\u001b[0m\u001b[0;34m,\u001b[0m \u001b[0;36m7\u001b[0m\u001b[0;34m,\u001b[0m \u001b[0;36m3\u001b[0m\u001b[0;34m,\u001b[0m \u001b[0;36m9\u001b[0m\u001b[0;34m]\u001b[0m\u001b[0;34m,\u001b[0m \u001b[0;36m4\u001b[0m\u001b[0;34m,\u001b[0m \u001b[0;36m6\u001b[0m\u001b[0;34m)\u001b[0m\u001b[0;34m\u001b[0m\u001b[0m\n\u001b[0m",
      "\u001b[0;32m<ipython-input-65-802716b8590d>\u001b[0m in \u001b[0;36msolution\u001b[0;34m(A, k, m)\u001b[0m\n\u001b[1;32m     14\u001b[0m         \u001b[0;32mif\u001b[0m \u001b[0mlower\u001b[0m \u001b[0;32min\u001b[0m \u001b[0mindex_memory\u001b[0m\u001b[0;34m:\u001b[0m\u001b[0;34m\u001b[0m\u001b[0m\n\u001b[1;32m     15\u001b[0m             \u001b[0mlower\u001b[0m \u001b[0;34m+=\u001b[0m \u001b[0;36m1\u001b[0m\u001b[0;34m\u001b[0m\u001b[0m\n\u001b[0;32m---> 16\u001b[0;31m         \u001b[0mmem1\u001b[0m\u001b[0;34m,\u001b[0m \u001b[0mmem2\u001b[0m \u001b[0;34m=\u001b[0m \u001b[0mmem2\u001b[0m\u001b[0;34m,\u001b[0m \u001b[0mmem1\u001b[0m\u001b[0;34m+\u001b[0m\u001b[0mmax\u001b[0m\u001b[0;34m(\u001b[0m\u001b[0mA\u001b[0m\u001b[0;34m[\u001b[0m\u001b[0mk\u001b[0m\u001b[0;34m+\u001b[0m\u001b[0mupper\u001b[0m\u001b[0;34m]\u001b[0m\u001b[0;34m,\u001b[0m \u001b[0mA\u001b[0m\u001b[0;34m[\u001b[0m\u001b[0mk\u001b[0m\u001b[0;34m-\u001b[0m\u001b[0mlower\u001b[0m\u001b[0;34m]\u001b[0m\u001b[0;34m)\u001b[0m\u001b[0;34m\u001b[0m\u001b[0m\n\u001b[0m\u001b[1;32m     17\u001b[0m         \u001b[0mstep\u001b[0m \u001b[0;34m+=\u001b[0m \u001b[0mabs\u001b[0m\u001b[0;34m(\u001b[0m\u001b[0mk\u001b[0m \u001b[0;34m-\u001b[0m \u001b[0mA\u001b[0m\u001b[0;34m.\u001b[0m\u001b[0mindex\u001b[0m\u001b[0;34m(\u001b[0m\u001b[0mmax\u001b[0m\u001b[0;34m(\u001b[0m\u001b[0mA\u001b[0m\u001b[0;34m[\u001b[0m\u001b[0mk\u001b[0m\u001b[0;34m+\u001b[0m\u001b[0mupper\u001b[0m\u001b[0;34m]\u001b[0m\u001b[0;34m,\u001b[0m \u001b[0mA\u001b[0m\u001b[0;34m[\u001b[0m\u001b[0mk\u001b[0m\u001b[0;34m-\u001b[0m\u001b[0mlower\u001b[0m\u001b[0;34m]\u001b[0m\u001b[0;34m)\u001b[0m\u001b[0;34m)\u001b[0m\u001b[0;34m)\u001b[0m\u001b[0;34m\u001b[0m\u001b[0m\n\u001b[1;32m     18\u001b[0m         \u001b[0mk\u001b[0m \u001b[0;34m=\u001b[0m \u001b[0mA\u001b[0m\u001b[0;34m.\u001b[0m\u001b[0mindex\u001b[0m\u001b[0;34m(\u001b[0m\u001b[0mmax\u001b[0m\u001b[0;34m(\u001b[0m\u001b[0mA\u001b[0m\u001b[0;34m[\u001b[0m\u001b[0mk\u001b[0m\u001b[0;34m+\u001b[0m\u001b[0mupper\u001b[0m\u001b[0;34m]\u001b[0m\u001b[0;34m,\u001b[0m \u001b[0mA\u001b[0m\u001b[0;34m[\u001b[0m\u001b[0mk\u001b[0m\u001b[0;34m-\u001b[0m\u001b[0mlower\u001b[0m\u001b[0;34m]\u001b[0m\u001b[0;34m)\u001b[0m\u001b[0;34m)\u001b[0m\u001b[0;34m\u001b[0m\u001b[0m\n",
      "\u001b[0;31mIndexError\u001b[0m: list index out of range"
     ]
    }
   ],
   "source": [
    "solution([1, 5, 7, 3, 9], 4, 6)"
   ]
  },
  {
   "cell_type": "code",
   "execution_count": null,
   "metadata": {},
   "outputs": [],
   "source": []
  },
  {
   "cell_type": "code",
   "execution_count": null,
   "metadata": {},
   "outputs": [],
   "source": []
  },
  {
   "cell_type": "code",
   "execution_count": null,
   "metadata": {},
   "outputs": [],
   "source": []
  },
  {
   "cell_type": "markdown",
   "metadata": {},
   "source": [
    "# 채점하기\n",
    "\n",
    "\n",
    "매주 금요일 알고리즘 테스트 결과를 채점하기 귀찮아졌습니다.\n",
    "\n",
    "그래서 직접하지 않고, 수강생분들에게 공부가 된다는 사탕발림으로 서로의 시험결과를 채점하게 하려고합니다.\n",
    "\n",
    "단, 양심적으로 진행하기 위해서 그 누구도 자신의 시험을 채점하지 않는다고 할때.\n",
    "\n",
    "채점할 수 있는 경우의 수를 구하는 함수를 구하세요.\n",
    "\n",
    "\n",
    "는 \n",
    "\n",
    "`n=1`일때 0개\n",
    "`n=2`일때 1개\n",
    "그리고 `n>=3`일때\n",
    "\n",
    "`(n-1) * ( (n-1)명이서 서로 채점하는 경우의 수 + (n-2)명이서 서로 채점하는 경우의 수))` 라는 특징을 따른다고 합니다.\n",
    "\n",
    "`def solution(n):`함수를 생성하세요.\n",
    "\n",
    "**조건**\n",
    "\n",
    "`1 <= n <= 1000`"
   ]
  },
  {
   "cell_type": "code",
   "execution_count": 54,
   "metadata": {},
   "outputs": [],
   "source": [
    "# 가장 쉬운 버젼\n",
    "def solution(n):\n",
    "    if n <= 2:\n",
    "        return n-1\n",
    "    else:\n",
    "        return solution(n-1) + solution(n-2)    "
   ]
  },
  {
   "cell_type": "code",
   "execution_count": 56,
   "metadata": {
    "scrolled": true
   },
   "outputs": [],
   "source": [
    "def solution(n):\n",
    "    mem1, mem2 = 1, 0\n",
    "    for _ in range(n):\n",
    "        mem1, mem2 = mem2, mem1 + mem2\n",
    "    return mem1"
   ]
  },
  {
   "cell_type": "code",
   "execution_count": 57,
   "metadata": {},
   "outputs": [
    {
     "data": {
      "text/plain": [
       "8"
      ]
     },
     "execution_count": 57,
     "metadata": {},
     "output_type": "execute_result"
    }
   ],
   "source": [
    "solution(7)"
   ]
  },
  {
   "cell_type": "code",
   "execution_count": null,
   "metadata": {},
   "outputs": [],
   "source": []
  }
 ],
 "metadata": {
  "kernelspec": {
   "display_name": "Python 3",
   "language": "python",
   "name": "python3"
  },
  "language_info": {
   "codemirror_mode": {
    "name": "ipython",
    "version": 3
   },
   "file_extension": ".py",
   "mimetype": "text/x-python",
   "name": "python",
   "nbconvert_exporter": "python",
   "pygments_lexer": "ipython3",
   "version": "3.7.0"
  }
 },
 "nbformat": 4,
 "nbformat_minor": 2
}
