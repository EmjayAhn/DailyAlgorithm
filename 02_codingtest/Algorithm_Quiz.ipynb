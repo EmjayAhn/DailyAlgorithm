{
 "cells": [
  {
   "cell_type": "code",
   "execution_count": 111,
   "metadata": {},
   "outputs": [],
   "source": [
    "def to_binary(number):\n",
    "    result = \"\"\n",
    "    while number >= 1 :\n",
    "        remain = number % 2\n",
    "        result += str(remain)\n",
    "        number = number // 2\n",
    "        \n",
    "    return result[::-1]"
   ]
  },
  {
   "cell_type": "code",
   "execution_count": 114,
   "metadata": {},
   "outputs": [
    {
     "data": {
      "text/plain": [
       "'100'"
      ]
     },
     "execution_count": 114,
     "metadata": {},
     "output_type": "execute_result"
    }
   ],
   "source": [
    "to_binary(4)"
   ]
  },
  {
   "cell_type": "code",
   "execution_count": 127,
   "metadata": {},
   "outputs": [],
   "source": [
    "def to_octal(number):\n",
    "    result = \"\"\n",
    "    while number >= 1:\n",
    "        remain = number % 8\n",
    "        result += str(remain)\n",
    "        number = number // 8\n",
    "    return result[::-1]"
   ]
  },
  {
   "cell_type": "code",
   "execution_count": 134,
   "metadata": {},
   "outputs": [],
   "source": [
    "def to_hexa(number):\n",
    "    result = \"\"\n",
    "    \n",
    "    remain_map = {\n",
    "        10: 'A',\n",
    "        11: 'B',\n",
    "        12: 'C',\n",
    "        13: 'D',\n",
    "        14: 'E',\n",
    "        15: 'F'\n",
    "    }\n",
    "    \n",
    "    while number >= 1:\n",
    "        remain = number % 16\n",
    "        if remain >= 10:\n",
    "            remain = remain_map[remain]\n",
    "        result += str(remain)\n",
    "        number = number // 16\n",
    "        \n",
    "    return result[::-1]"
   ]
  },
  {
   "cell_type": "code",
   "execution_count": 155,
   "metadata": {},
   "outputs": [],
   "source": [
    "#내장함수 all, any 를 구현\n",
    "# 내장함수 all : 1. 빈리스트가 들어올때는 True Return\n",
    "# list 내의 모든 element 가 True 일때, return True, 하나라도 False 이면 return False\n",
    "def my_all(inputs):\n",
    "    result = True\n",
    "    for input in inputs:\n",
    "        result = result & input\n",
    "    return result\n",
    "\n",
    "def my_any(inputs):\n",
    "    result = False\n",
    "    for input in inputs:\n",
    "        result = result | input\n",
    "    return result\n",
    "\n",
    "# 내장 함수 all 과 any 의 test case 짜기\n",
    "    "
   ]
  },
  {
   "cell_type": "code",
   "execution_count": 175,
   "metadata": {},
   "outputs": [],
   "source": [
    "def sort_dict(dictionary):\n",
    "    return dict(sorted(list(dictionary.items()), key=lambda x: x[1]))"
   ]
  },
  {
   "cell_type": "code",
   "execution_count": 220,
   "metadata": {},
   "outputs": [],
   "source": [
    "#딕셔너리를 담고있는 리스트를 csv포맷으로, csv포맷을 딕셔너리를 담고 있는 리스트로 변환하는 함수\n",
    "def to_csv(dict_list):\n",
    "    data = \"\"\n",
    "    #Column name 생성\n",
    "    for index, name in enumerate(list(dict_list[0].keys())):\n",
    "        if index < (len(dict_list[0]) - 1):\n",
    "            data += str(name) + \", \"\n",
    "        else: \n",
    "            data += str(name) + \"\\n\"\n",
    "    \n",
    "    #Data 쓰기\n",
    "    for element in dict_list:\n",
    "        for index, item in enumerate(list(element.values())):\n",
    "            if index < (len(element) - 1):\n",
    "                data += str(item) + \", \"\n",
    "            else: \n",
    "                data += str(item) + \"\\n\"\n",
    "    \n",
    "    #csv format 으로 file write\n",
    "    f = open(\"./to_csv.csv\", 'w')\n",
    "    f.write(data)\n",
    "    f.close()     "
   ]
  },
  {
   "cell_type": "code",
   "execution_count": 250,
   "metadata": {},
   "outputs": [],
   "source": [
    "def to_dict(csv_file):\n",
    "    results = []\n",
    "    path=\"./\" + str(csv_file)\n",
    "    f = open(path, 'r')\n",
    "    data = f.read()\n",
    "    f.close()\n",
    "    \n",
    "    splits = data.split('\\n')\n",
    "    keys = splits[0].split(',')\n",
    "    for i in range(1, len(splits)-1):\n",
    "        items = splits[i].split(',')\n",
    "        results.append(dict(zip(keys, items)))\n",
    "    return results\n",
    "\n"
   ]
  },
  {
   "cell_type": "code",
   "execution_count": 251,
   "metadata": {},
   "outputs": [
    {
     "data": {
      "text/plain": [
       "[{'year': '2018', ' name': ' minjae', ' age': ' 28'},\n",
       " {'year': '1991', ' name': ' emjay', ' age': ' 27'},\n",
       " {'year': '2018', ' name': ' pop', ' age': ' 25'}]"
      ]
     },
     "execution_count": 251,
     "metadata": {},
     "output_type": "execute_result"
    }
   ],
   "source": [
    "to_dict('to_csv.csv')\n"
   ]
  },
  {
   "cell_type": "code",
   "execution_count": 252,
   "metadata": {},
   "outputs": [
    {
     "data": {
      "text/plain": [
       "{1: 2, 3: 4}"
      ]
     },
     "execution_count": 252,
     "metadata": {},
     "output_type": "execute_result"
    }
   ],
   "source": [
    "a = [(1, 2), (3, 4)]\n",
    "dict(a)"
   ]
  },
  {
   "cell_type": "code",
   "execution_count": null,
   "metadata": {},
   "outputs": [],
   "source": []
  }
 ],
 "metadata": {
  "kernelspec": {
   "display_name": "Python 3",
   "language": "python",
   "name": "python3"
  },
  "language_info": {
   "codemirror_mode": {
    "name": "ipython",
    "version": 3
   },
   "file_extension": ".py",
   "mimetype": "text/x-python",
   "name": "python",
   "nbconvert_exporter": "python",
   "pygments_lexer": "ipython3",
   "version": "3.7.0"
  }
 },
 "nbformat": 4,
 "nbformat_minor": 2
}
