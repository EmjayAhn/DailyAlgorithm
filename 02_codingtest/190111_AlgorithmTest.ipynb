{
 "cells": [
  {
   "cell_type": "markdown",
   "metadata": {},
   "source": [
    "# 범위 누적 합\n",
    "\n",
    "0으로 이루어진 길이가 n개인 `리스트A` 가 있습니다.    \n",
    "이 리스트에 특정 범위에 (a부터 b까지) k를 더하는 과정을 반복할때,    \n",
    "최종적으로 `리스트A`에서 가장 큰 요소를 반환하세요.\n",
    "\n",
    "```\n",
    "n=5,\n",
    "queries = [\n",
    "    [1, 2, 100],\n",
    "    [2, 5, 100],\n",
    "    [3, 4, 100]\n",
    "]\n",
    "```\n",
    "\n",
    "일때, \n",
    "\n",
    "최초 0이 5개 들어있는 리스트에서\n",
    "`[0, 0, 0, 0, 0]`\n",
    "\n",
    "첫번째 범위 합산은, 1번째부터 2번째까지 요소에 100을 더합니다.\n",
    "\n",
    "`[100, 100, 0, 0, 0]`\n",
    "\n",
    "두번째 범위 합산은, 2번째부터 5번째까지 요소에 100을 더합니다.\n",
    "\n",
    "`[100, 200, 100, 100, 100]`\n",
    "\n",
    "세번째 범위 합산은, 3번째부터 4번째까지 요소에 100을 더합니다.\n",
    "\n",
    "`[100, 200, 200, 200, 100]`\n",
    "\n",
    "가장 큰 요소는 200입니다.\n",
    "\n",
    "함수는 `200`을 리턴합니다.\n",
    "\n",
    "\n",
    "**조건**\n",
    "\n",
    "`def solution(n, queries):`\n",
    "\n",
    "`3 <= n <= 10**&`\n",
    "\n",
    "`1<=a<=b<=n`\n",
    "\n",
    "`0<=k<=10**9`"
   ]
  },
  {
   "cell_type": "code",
   "execution_count": 121,
   "metadata": {},
   "outputs": [],
   "source": [
    "from operator import add\n",
    "\n",
    "def make_list_by_query(n, query):\n",
    "    return_list = [0 for _ in range(n)]\n",
    "    i = query[0]\n",
    "    for _ in range(query[1] - query[0] + 1):\n",
    "        return_list[i-1] = query[2]\n",
    "        i = i + 1\n",
    "    return return_list\n",
    "\n",
    "\n",
    "def solution(n, queries):\n",
    "    init = [0 for _ in range(n)]\n",
    "    for query in queries:\n",
    "        init = list(map(add, init, make_list_by_query(n, query)))\n",
    "        \n",
    "    init.sort()\n",
    "    return init[-1]"
   ]
  },
  {
   "cell_type": "code",
   "execution_count": 105,
   "metadata": {},
   "outputs": [],
   "source": [
    "n=5 \n",
    "queries = [\n",
    "    [1, 2, 100],\n",
    "    [2, 5, 100],\n",
    "    [3, 4, 100]\n",
    "]\n"
   ]
  },
  {
   "cell_type": "code",
   "execution_count": 106,
   "metadata": {},
   "outputs": [
    {
     "data": {
      "text/plain": [
       "5"
      ]
     },
     "execution_count": 106,
     "metadata": {},
     "output_type": "execute_result"
    }
   ],
   "source": [
    "a = [1, 4, 3, 4, 5]\n",
    "a.sort()\n",
    "a[-1]"
   ]
  },
  {
   "cell_type": "code",
   "execution_count": 107,
   "metadata": {
    "scrolled": false
   },
   "outputs": [
    {
     "data": {
      "text/plain": [
       "200"
      ]
     },
     "execution_count": 107,
     "metadata": {},
     "output_type": "execute_result"
    }
   ],
   "source": [
    "solution(n, queries)"
   ]
  },
  {
   "cell_type": "code",
   "execution_count": 122,
   "metadata": {},
   "outputs": [
    {
     "name": "stdout",
     "output_type": "stream",
     "text": [
      "CPU times: user 3 µs, sys: 1 µs, total: 4 µs\n",
      "Wall time: 8.11 µs\n"
     ]
    },
    {
     "data": {
      "text/plain": [
       "5170701"
      ]
     },
     "execution_count": 122,
     "metadata": {},
     "output_type": "execute_result"
    }
   ],
   "source": [
    "%time\n",
    "n = 1000000\n",
    "q = [ [ *sorted([randint(1, n), randint(1, n)]), randint(1, n)] for _ in range(20)]\n",
    "\n",
    "solution(n, q)"
   ]
  },
  {
   "cell_type": "markdown",
   "metadata": {},
   "source": [
    "## 선생님 풀이"
   ]
  },
  {
   "cell_type": "code",
   "execution_count": 118,
   "metadata": {},
   "outputs": [],
   "source": [
    "# n * m (query의 갯수)\n",
    "def solution(n, queries):\n",
    "    max_n = 0\n",
    "    for i in range(i, n+1): # 리스트 1번부터 ~ n+1 까지 (n 번 반복)\n",
    "        acc = 0\n",
    "        for start, end, k in queries:\n",
    "            if start <= i and i <= end:\n",
    "                acc += k\n",
    "        max_n = max(max_n, acc)\n",
    "    return max_n\n",
    "\n"
   ]
  },
  {
   "cell_type": "code",
   "execution_count": 119,
   "metadata": {},
   "outputs": [],
   "source": [
    "from random import *"
   ]
  },
  {
   "cell_type": "code",
   "execution_count": 120,
   "metadata": {
    "scrolled": true
   },
   "outputs": [
    {
     "name": "stdout",
     "output_type": "stream",
     "text": [
      "CPU times: user 3 µs, sys: 1e+03 ns, total: 4 µs\n",
      "Wall time: 6.91 µs\n"
     ]
    },
    {
     "ename": "UnboundLocalError",
     "evalue": "local variable 'i' referenced before assignment",
     "output_type": "error",
     "traceback": [
      "\u001b[0;31m---------------------------------------------------------------------------\u001b[0m",
      "\u001b[0;31mUnboundLocalError\u001b[0m                         Traceback (most recent call last)",
      "\u001b[0;32m<ipython-input-120-9cbd3abf532a>\u001b[0m in \u001b[0;36m<module>\u001b[0;34m\u001b[0m\n\u001b[1;32m      3\u001b[0m \u001b[0mq\u001b[0m \u001b[0;34m=\u001b[0m \u001b[0;34m[\u001b[0m \u001b[0;34m[\u001b[0m \u001b[0;34m*\u001b[0m\u001b[0msorted\u001b[0m\u001b[0;34m(\u001b[0m\u001b[0;34m[\u001b[0m\u001b[0mrandint\u001b[0m\u001b[0;34m(\u001b[0m\u001b[0;36m1\u001b[0m\u001b[0;34m,\u001b[0m \u001b[0mn\u001b[0m\u001b[0;34m)\u001b[0m\u001b[0;34m,\u001b[0m \u001b[0mrandint\u001b[0m\u001b[0;34m(\u001b[0m\u001b[0;36m1\u001b[0m\u001b[0;34m,\u001b[0m \u001b[0mn\u001b[0m\u001b[0;34m)\u001b[0m\u001b[0;34m]\u001b[0m\u001b[0;34m)\u001b[0m\u001b[0;34m,\u001b[0m \u001b[0mrandint\u001b[0m\u001b[0;34m(\u001b[0m\u001b[0;36m1\u001b[0m\u001b[0;34m,\u001b[0m \u001b[0mn\u001b[0m\u001b[0;34m)\u001b[0m\u001b[0;34m]\u001b[0m \u001b[0;32mfor\u001b[0m \u001b[0m_\u001b[0m \u001b[0;32min\u001b[0m \u001b[0mrange\u001b[0m\u001b[0;34m(\u001b[0m\u001b[0;36m20\u001b[0m\u001b[0;34m)\u001b[0m\u001b[0;34m]\u001b[0m\u001b[0;34m\u001b[0m\u001b[0m\n\u001b[1;32m      4\u001b[0m \u001b[0;34m\u001b[0m\u001b[0m\n\u001b[0;32m----> 5\u001b[0;31m \u001b[0msolution\u001b[0m\u001b[0;34m(\u001b[0m\u001b[0mn\u001b[0m\u001b[0;34m,\u001b[0m \u001b[0mq\u001b[0m\u001b[0;34m)\u001b[0m\u001b[0;34m\u001b[0m\u001b[0m\n\u001b[0m",
      "\u001b[0;32m<ipython-input-118-878f8cf99aa1>\u001b[0m in \u001b[0;36msolution\u001b[0;34m(n, queries)\u001b[0m\n\u001b[1;32m      2\u001b[0m \u001b[0;32mdef\u001b[0m \u001b[0msolution\u001b[0m\u001b[0;34m(\u001b[0m\u001b[0mn\u001b[0m\u001b[0;34m,\u001b[0m \u001b[0mqueries\u001b[0m\u001b[0;34m)\u001b[0m\u001b[0;34m:\u001b[0m\u001b[0;34m\u001b[0m\u001b[0m\n\u001b[1;32m      3\u001b[0m     \u001b[0mmax_n\u001b[0m \u001b[0;34m=\u001b[0m \u001b[0;36m0\u001b[0m\u001b[0;34m\u001b[0m\u001b[0m\n\u001b[0;32m----> 4\u001b[0;31m     \u001b[0;32mfor\u001b[0m \u001b[0mi\u001b[0m \u001b[0;32min\u001b[0m \u001b[0mrange\u001b[0m\u001b[0;34m(\u001b[0m\u001b[0mi\u001b[0m\u001b[0;34m,\u001b[0m \u001b[0mn\u001b[0m\u001b[0;34m+\u001b[0m\u001b[0;36m1\u001b[0m\u001b[0;34m)\u001b[0m\u001b[0;34m:\u001b[0m \u001b[0;31m# 리스트 1번부터 ~ n+1 까지 (n 번 반복)\u001b[0m\u001b[0;34m\u001b[0m\u001b[0m\n\u001b[0m\u001b[1;32m      5\u001b[0m         \u001b[0macc\u001b[0m \u001b[0;34m=\u001b[0m \u001b[0;36m0\u001b[0m\u001b[0;34m\u001b[0m\u001b[0m\n\u001b[1;32m      6\u001b[0m         \u001b[0;32mfor\u001b[0m \u001b[0mstart\u001b[0m\u001b[0;34m,\u001b[0m \u001b[0mend\u001b[0m\u001b[0;34m,\u001b[0m \u001b[0mk\u001b[0m \u001b[0;32min\u001b[0m \u001b[0mqueries\u001b[0m\u001b[0;34m:\u001b[0m\u001b[0;34m\u001b[0m\u001b[0m\n",
      "\u001b[0;31mUnboundLocalError\u001b[0m: local variable 'i' referenced before assignment"
     ]
    }
   ],
   "source": [
    "%time\n",
    "n = 1000000\n",
    "q = [ [ *sorted([randint(1, n), randint(1, n)]), randint(1, n)] for _ in range(20)]\n",
    "\n",
    "solution(n, q)"
   ]
  },
  {
   "cell_type": "code",
   "execution_count": 116,
   "metadata": {},
   "outputs": [],
   "source": [
    "# n * m\n",
    "def solution(n, queries):\n",
    "    A = [0 for _ in range(n)]\n",
    "    for start, end, k in queries:\n",
    "        A[start-1:end] = map(lambda x:x+k, A[start-1:end])\n",
    "        \n",
    "    return max(A)\n",
    "        "
   ]
  },
  {
   "cell_type": "code",
   "execution_count": 117,
   "metadata": {},
   "outputs": [
    {
     "name": "stdout",
     "output_type": "stream",
     "text": [
      "CPU times: user 3 µs, sys: 1e+03 ns, total: 4 µs\n",
      "Wall time: 6.91 µs\n"
     ]
    },
    {
     "data": {
      "text/plain": [
       "5326854"
      ]
     },
     "execution_count": 117,
     "metadata": {},
     "output_type": "execute_result"
    }
   ],
   "source": [
    "%time\n",
    "n = 1000000\n",
    "q = [ [ *sorted([randint(1, n), randint(1, n)]), randint(1, n)] for _ in range(20)]\n",
    "\n",
    "solution(n, q)"
   ]
  },
  {
   "cell_type": "code",
   "execution_count": 109,
   "metadata": {},
   "outputs": [
    {
     "data": {
      "text/plain": [
       "<map at 0x11bb13b00>"
      ]
     },
     "execution_count": 109,
     "metadata": {},
     "output_type": "execute_result"
    }
   ],
   "source": [
    "map(int, [1, 2, 3])"
   ]
  },
  {
   "cell_type": "code",
   "execution_count": 112,
   "metadata": {},
   "outputs": [
    {
     "data": {
      "text/plain": [
       "<map at 0x11bb134a8>"
      ]
     },
     "execution_count": 112,
     "metadata": {},
     "output_type": "execute_result"
    }
   ],
   "source": [
    "a = [1, 2, 3, 4, 5]\n",
    "map(int, [1, 2, 3])"
   ]
  },
  {
   "cell_type": "markdown",
   "metadata": {},
   "source": [
    "## hint"
   ]
  },
  {
   "cell_type": "code",
   "execution_count": 123,
   "metadata": {},
   "outputs": [],
   "source": [
    "n = 5\n",
    "queries = [\n",
    "    [1, 2, 100],\n",
    "    [2, 5, 100],\n",
    "    [3, 4, 100]\n",
    "]"
   ]
  },
  {
   "cell_type": "code",
   "execution_count": 124,
   "metadata": {},
   "outputs": [],
   "source": [
    "B = [0, 0, 0, 0, 0]"
   ]
  },
  {
   "cell_type": "code",
   "execution_count": 125,
   "metadata": {},
   "outputs": [],
   "source": [
    "# [1, 2, 100] 1번째에 +k, (2+1)번째에 -k\n",
    "B = [100, 0, -100, 0, 0, 0]"
   ]
  },
  {
   "cell_type": "code",
   "execution_count": null,
   "metadata": {},
   "outputs": [],
   "source": [
    "# [ 2, 5, 100] 2번째 +k, (5+1)번째 -k\n",
    "B = [100, 100, -100, 0, 0, -100]"
   ]
  },
  {
   "cell_type": "code",
   "execution_count": 126,
   "metadata": {},
   "outputs": [],
   "source": [
    "# [3, 4, 100] 3번째 +j, (4+1)번쨰 -k\n",
    "B = [100, 100, 0, 0, -100, -100]"
   ]
  },
  {
   "cell_type": "markdown",
   "metadata": {},
   "source": [
    "- 누적합이 왜 빨라지는지에 대한 이유\n",
    "    - 한번에 A 에 관해 표현할때 마지막 단계에서만 더해주기때문에, 연산 속도가 빠르다.\n",
    "    - A에 대한 Representation 이 달라지는 것. 누적합 Representation B\n",
    "    \n",
    "    \n",
    "   "
   ]
  },
  {
   "cell_type": "code",
   "execution_count": 137,
   "metadata": {},
   "outputs": [],
   "source": [
    "def my_accum(arr):\n",
    "    result = [0]\n",
    "    for el in arr:\n",
    "        result.append(result[-1] + el)\n",
    "    return result[1:]\n",
    "\n",
    "\n",
    "\n",
    "        \n",
    "def solution(n, queries):\n",
    "    B = [ 0 for _ in range(n+1) ]\n",
    "    for start, end, k in queries:\n",
    "        B[start-1] += k\n",
    "        B[end] -= k\n",
    "    print(B)\n",
    "    print(my_accum(B))\n",
    "    return max(my_accum(B))"
   ]
  },
  {
   "cell_type": "code",
   "execution_count": 140,
   "metadata": {},
   "outputs": [],
   "source": [
    "from itertools import accumulate\n",
    "\n",
    "def solution(n, queries):\n",
    "    B = [ 0 for _ in range(n+1) ]\n",
    "    for start, end, k in queries:\n",
    "        B[start-1] += k\n",
    "        B[end] -= k\n",
    "    print(B)\n",
    "    print(accumulate(B))\n",
    "    return max(accumulate(B))"
   ]
  },
  {
   "cell_type": "code",
   "execution_count": 141,
   "metadata": {},
   "outputs": [
    {
     "name": "stdout",
     "output_type": "stream",
     "text": [
      "[100, 100, 0, 0, -100, -100]\n",
      "<itertools.accumulate object at 0x11b9fe848>\n"
     ]
    },
    {
     "data": {
      "text/plain": [
       "200"
      ]
     },
     "execution_count": 141,
     "metadata": {},
     "output_type": "execute_result"
    }
   ],
   "source": [
    "n = 5\n",
    "queries = [\n",
    "    [1, 2, 100],\n",
    "    [2, 5, 100],\n",
    "    [3, 4, 100]\n",
    "]\n",
    "solution(n, queries)"
   ]
  },
  {
   "cell_type": "code",
   "execution_count": 142,
   "metadata": {},
   "outputs": [],
   "source": [
    "# my_acuum 에 대한 비교\n",
    "# Sequence 를 만들때는 Generator 를 만드는것이 빠르고 유리 (메모리 절약차원)\n",
    "# 빠른거는 이해안됨\n",
    "\n",
    "def my_accum(arr):\n",
    "    result = [0]\n",
    "    for el in arr:\n",
    "        result.append(result[-1] + el)\n",
    "    return result[1:]\n",
    "\n",
    "def my_accum(arr):\n",
    "    result = 0\n",
    "    for el in arr:\n",
    "        result += el\n",
    "        yield result"
   ]
  },
  {
   "cell_type": "code",
   "execution_count": null,
   "metadata": {},
   "outputs": [],
   "source": []
  },
  {
   "cell_type": "code",
   "execution_count": null,
   "metadata": {},
   "outputs": [],
   "source": []
  },
  {
   "cell_type": "markdown",
   "metadata": {},
   "source": [
    "# 오직 하나의 스타일로!\n",
    "\n",
    "`A`와 `B`로만 이뤄진 문자열이 있습니다.    \n",
    "이 문자열에 `AB`, `A`, `B`, `BA`라고 적힌 4종류의 카드로만 표현하려고 할때,    \n",
    "이 문자열에서 문자를 몇개를 지워야되는지 알려주는 함수를 만드세요.\n",
    "\n",
    "> `A`카드와 `B`카드는 한장밖에 없습니다. `AB`, `BA`카드는 충분히 있습니다.    \n",
    "> 동시에 1종류의 카드만 사용할 수 있습니다.\n",
    "\n",
    "**example**\n",
    "\n",
    "`AAAA` -> 3번 지워서 `A` 1 장\n",
    "\n",
    "`BBBBB` -> 4번 지워서 `B` 1장\n",
    "\n",
    "`ABABABAB` -> 0번 `AB` 4장\n",
    "\n",
    "`BABABA` -> 0번 `BA` 3장\n",
    "\n",
    "`AAABBB` -> 4번 `AB` 1장\n",
    "\n",
    "\n",
    "**조건**\n",
    "\n",
    "문자열의 길이 s는\n",
    "\n",
    "`1 <= s <= 10**5`"
   ]
  },
  {
   "cell_type": "code",
   "execution_count": null,
   "metadata": {},
   "outputs": [],
   "source": []
  },
  {
   "cell_type": "code",
   "execution_count": null,
   "metadata": {},
   "outputs": [],
   "source": []
  },
  {
   "cell_type": "code",
   "execution_count": null,
   "metadata": {},
   "outputs": [],
   "source": []
  },
  {
   "cell_type": "code",
   "execution_count": 69,
   "metadata": {},
   "outputs": [],
   "source": [
    "def solution(strings):\n",
    "    d_count = 0\n",
    "    pre_c = s[0]\n",
    "    for c in [s1:]:\n",
    "        if pre_c == c:\n",
    "            d_count += 1\n",
    "        else:\n",
    "            pre_c \n",
    "    return d_count"
   ]
  },
  {
   "cell_type": "code",
   "execution_count": 72,
   "metadata": {},
   "outputs": [
    {
     "data": {
      "text/plain": [
       "3"
      ]
     },
     "execution_count": 72,
     "metadata": {},
     "output_type": "execute_result"
    }
   ],
   "source": [
    "solution('ABABABAB')"
   ]
  },
  {
   "cell_type": "code",
   "execution_count": null,
   "metadata": {},
   "outputs": [],
   "source": []
  }
 ],
 "metadata": {
  "kernelspec": {
   "display_name": "Python 3",
   "language": "python",
   "name": "python3"
  },
  "language_info": {
   "codemirror_mode": {
    "name": "ipython",
    "version": 3
   },
   "file_extension": ".py",
   "mimetype": "text/x-python",
   "name": "python",
   "nbconvert_exporter": "python",
   "pygments_lexer": "ipython3",
   "version": "3.7.0"
  }
 },
 "nbformat": 4,
 "nbformat_minor": 2
}
