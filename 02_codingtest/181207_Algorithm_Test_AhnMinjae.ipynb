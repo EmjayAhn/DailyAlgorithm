{
 "cells": [
  {
   "cell_type": "markdown",
   "metadata": {},
   "source": [
    "# 181207_Algorithm_Test"
   ]
  },
  {
   "cell_type": "markdown",
   "metadata": {},
   "source": [
    "## 평가항목\n",
    "### 작동여부\n",
    "1. 제시된 데이터 전혀 통과되지 않으면 0점\n",
    "2. 제시된 데이터 중 일부 통과하면 1점\n",
    "3. 제시된 데이터는 모두 작동하지만, 제시되지 않은 데이터가 통과되지 않으면 2점\n",
    "4. 모든 데이터가 작동하면 3점\n",
    "\n",
    "### 속도 / 시간복잡도\n",
    "- 문제에서 가능한 최상의 시간복잡도는 2점\n",
    "- 제출된 모든 풀이중에 상위 50% 1점, 하위 50% 0점\n",
    "\n",
    "### PEP 8 Python Style Guide\n",
    "`pylint`\n",
    "annotation, docstring 은 제외\n",
    "`!pip3 install pylint`\n",
    "`pylint file.py`"
   ]
  },
  {
   "cell_type": "markdown",
   "metadata": {},
   "source": [
    "## 제한시간 : 40분\n",
    "\n",
    "\n",
    "게임회사에 입사한 철수는 서버의 데이터를 분석하여\n",
    "스테이지가 진행할 수록 난이도가 적절히 상승하여 흥미를 유발하고 있는지\n",
    "분석을 위해 다음과 같은 헬퍼 함수를 만들고자 한다.\n",
    "\n",
    "\n",
    "현재 유저들이 머물고 있는 stage에 대한 정보를 얻어서,\n",
    "각 stage에 실패율을 계산하여, 실패율이 높은 stage순으로 나열하고자 한다.\n",
    "\n",
    "실패율은 다음과 같이 정의한다.   \n",
    "    * 스테이지에 도달했으나, 아직 클리어하지 못한 플레이어 수 / 스테이지에 도달한 플레이어 수\n",
    "\n",
    "전체 스테이지의 갯수 N, \n",
    "게임을 이용하는 사용자가 현재 멈춰 있는 스테이지의 번호가 담긴 리스트를 stages가 매개변수로 주어진다.\n",
    "\n",
    "`def solution(N, stages):`\n",
    "\n",
    "\n",
    "* 스테이지의 갯수 N은 1이상 500 이하\n",
    "* 리스트 stages의 길이는 1이상 200000이하\n",
    "* stages에 요소는 1이상 N+1이하의 자연수\n",
    "    * 각 자연수는 사용자가 현재 도전 중인 스테이지의 번호\n",
    "    * N+1은 현재 제공되는 모든 스테이지를 클리어한 사용자를 나타냄\n",
    "* 만약 실패율이 같은 스테이지가 있다면, 작은 번호의 스테이지가 먼저 오도록 해야 한다.\n",
    "* 스테이지에 도달한 유저가 없는 경우 해당 스테이지의 실패율은 0으로 정의한다.\n",
    "\n",
    "\n",
    "\n",
    "----\n",
    "\n",
    "**Exmple1**\n",
    "\n",
    "\n",
    "`solution(5, [2, 1, 2, 6, 2, 4, 3, 3])` -> return `[3, 4, 2, 1, 5]`\n",
    "\n",
    "1번 스테이지에는 총 8명의 사용자가 도전했으마, 이중 1명이 아직 클리어하지 못하고 스테이지 1에 머물러 있다.\n",
    "따라서 1번 스테이지의 실패율은 다음과 같다.\n",
    "\n",
    "    * 1번스테이지 실패율 1/8\n",
    "    \n",
    "2번 스테이지에는 총 7명의 사용자가 도전했으며, 이 중 3명의 사용자가 아직 클리어하지 못했다. 따라서 2번 스테이지의 실패율은 다음과 같다.\n",
    "\n",
    "    * 2 번 스테이지 실패율 : 3/7\n",
    "    \n",
    "    \n",
    "마찬가지로 나머지 스테이지의 실패율은 다음과 같다.\n",
    "\n",
    "    * 3 번 스테이지 실패율 : 2/4\n",
    "    * 4번 스테이지 실패율 : 1/2\n",
    "    * 5번 스테이지 실패율 : 0/1\n",
    "    \n",
    "각 스테이지의 번호를 실패율의 내림차순으로 정렬하면 다음과 같다.\n",
    "\n",
    "`[3,4,2,1,5]`\n",
    "\n",
    "\n",
    "\n",
    "-----\n",
    "\n",
    "**Example2**\n",
    "\n",
    "`solution(4, [4, 4, 4, 4, 4])` -> return `[4, 1, 2, 3]`\n",
    "\n",
    "\n",
    "모든 사용자가 마지막 스테이지에 있으므로 4번 스테이지의 실패율은 1이며 나머지 스테이지의 \n",
    "실패율은 0이다.\n",
    "실패율이 같다면 스테이지의 순서대로 반환한다.\n",
    "\n",
    "`[4,1,2,3]`\n",
    "\n",
    "\n",
    "**추가 테스트 데이터**\n",
    "\n",
    "`solution(10, [3, 4, 5, 3, 4, 4])` -> return `[5, 4, 3, 1, 2, 6, 7, 8, 9, 10]`\n",
    "\n",
    "`solution1(10, [9])` -> return -> `[9, 1, 2, 3, 4, 5, 6, 7, 8, 10]`"
   ]
  },
  {
   "cell_type": "markdown",
   "metadata": {},
   "source": [
    "# 내 코드"
   ]
  },
  {
   "cell_type": "code",
   "execution_count": 25,
   "metadata": {},
   "outputs": [],
   "source": [
    "import operator\n",
    "\n",
    "def solution(N, stages):\n",
    "    total_number_of_people = len(stages)\n",
    "    failure = [0 for _ in range(N)]\n",
    "    number_of_people_in_stage = [ 0 for _ in range(N + 1)]\n",
    "    \n",
    "    #현재 각 stage 에 몇명 있는지 확인\n",
    "    for stage in stages:\n",
    "        print(stage)\n",
    "        number_of_people_in_stage[stage - 1] += 1\n",
    "        \n",
    "    #failure 계산\n",
    "    sum = 0\n",
    "    for index, number in enumerate(number_of_people_in_stage):\n",
    "        try:\n",
    "            failure[index] = number / (total_number_of_people - sum)\n",
    "            sum += number\n",
    "        except:\n",
    "            failure[index] = 0\n",
    "    \n",
    "    #각 stage 당 failure\n",
    "    stage_failure = dict()\n",
    "    for index, fail in enumerate(failure):\n",
    "        stage_failure[index] = fail\n",
    "        \n",
    "    sorted_stage_failure = sorted(stage_failure.items(), key=operator.itemgetter(1), reverse=True)\n",
    "    \n",
    "    return_value = list()\n",
    "    for item in sorted_stage_failure:\n",
    "        return_value.append(item[0])\n",
    "\n",
    "    return return_value\n",
    "        \n",
    "        "
   ]
  },
  {
   "cell_type": "markdown",
   "metadata": {},
   "source": [
    "# 1번문제 강사님 풀이\n",
    "## 1번문제는 2018 카카오 시험이었대...."
   ]
  },
  {
   "cell_type": "code",
   "execution_count": 12,
   "metadata": {},
   "outputs": [],
   "source": [
    "# N 은 게임의 총 스테이지\n",
    "# stages : List 각 유저가 현재 머물고 있는 stage 정보\n",
    "# 시간 복잡도 : O(N * user의 수)\n",
    "def solution(N, stages):\n",
    "    result = { x: 0 for x in range(1, N+1)}\n",
    "    denominator = len(stages)\n",
    "    \n",
    "    for stage in range(1, N+1):\n",
    "        # stages = [2, 1, 2, 6, 2, 4, 3, 3]\n",
    "        if not denominator:\n",
    "            break\n",
    "        count = stages.count(stage)\n",
    "        result[stage] = count / denominator\n",
    "        denominator -= count\n",
    "        \n",
    "    return sorted(result, key=lambda x: (result[x], -x), reverse=True)"
   ]
  },
  {
   "cell_type": "code",
   "execution_count": 13,
   "metadata": {},
   "outputs": [
    {
     "data": {
      "text/plain": [
       "[3, 2, 1, 4, 5]"
      ]
     },
     "execution_count": 13,
     "metadata": {},
     "output_type": "execute_result"
    }
   ],
   "source": [
    "solution(5, [1,2,3])"
   ]
  },
  {
   "cell_type": "code",
   "execution_count": 8,
   "metadata": {
    "scrolled": true
   },
   "outputs": [
    {
     "ename": "AssertionError",
     "evalue": "Data should only contain negative values",
     "output_type": "error",
     "traceback": [
      "\u001b[0;31m---------------------------------------------------------------------------\u001b[0m",
      "\u001b[0;31mAssertionError\u001b[0m                            Traceback (most recent call last)",
      "\u001b[0;32m<ipython-input-8-1d38751e225f>\u001b[0m in \u001b[0;36m<module>\u001b[0;34m\u001b[0m\n\u001b[1;32m      2\u001b[0m \u001b[0mtotal\u001b[0m \u001b[0;34m=\u001b[0m \u001b[0;36m0.0\u001b[0m\u001b[0;34m\u001b[0m\u001b[0m\n\u001b[1;32m      3\u001b[0m \u001b[0;32mfor\u001b[0m \u001b[0mn\u001b[0m \u001b[0;32min\u001b[0m \u001b[0mnumbers\u001b[0m\u001b[0;34m:\u001b[0m\u001b[0;34m\u001b[0m\u001b[0m\n\u001b[0;32m----> 4\u001b[0;31m     \u001b[0;32massert\u001b[0m \u001b[0mn\u001b[0m \u001b[0;34m<\u001b[0m \u001b[0;36m0\u001b[0m\u001b[0;34m,\u001b[0m \u001b[0;34m'Data should only contain negative values'\u001b[0m\u001b[0;34m\u001b[0m\u001b[0m\n\u001b[0m\u001b[1;32m      5\u001b[0m     \u001b[0mtotal\u001b[0m \u001b[0;34m+=\u001b[0m \u001b[0mn\u001b[0m\u001b[0;34m\u001b[0m\u001b[0m\n\u001b[1;32m      6\u001b[0m \u001b[0mprint\u001b[0m\u001b[0;34m(\u001b[0m\u001b[0;34m'total is:'\u001b[0m\u001b[0;34m,\u001b[0m \u001b[0mtotal\u001b[0m\u001b[0;34m)\u001b[0m\u001b[0;34m\u001b[0m\u001b[0m\n",
      "\u001b[0;31mAssertionError\u001b[0m: Data should only contain negative values"
     ]
    }
   ],
   "source": [
    "numbers = [1.5, 2.3, 0.7, -0.001, 4.4]\n",
    "total = 0.0\n",
    "for n in numbers:\n",
    "    assert n < 0, 'Data should only contain negative values'\n",
    "    total += n\n",
    "print('total is:', total)"
   ]
  },
  {
   "cell_type": "code",
   "execution_count": 9,
   "metadata": {},
   "outputs": [
    {
     "data": {
      "text/plain": [
       "0.0"
      ]
     },
     "execution_count": 9,
     "metadata": {},
     "output_type": "execute_result"
    }
   ],
   "source": [
    "total"
   ]
  },
  {
   "cell_type": "code",
   "execution_count": 2,
   "metadata": {
    "scrolled": true
   },
   "outputs": [
    {
     "ename": "AssertionError",
     "evalue": "",
     "output_type": "error",
     "traceback": [
      "\u001b[0;31m---------------------------------------------------------------------------\u001b[0m",
      "\u001b[0;31mAssertionError\u001b[0m                            Traceback (most recent call last)",
      "\u001b[0;32m<ipython-input-2-55c3d009781a>\u001b[0m in \u001b[0;36m<module>\u001b[0;34m\u001b[0m\n\u001b[1;32m      1\u001b[0m \u001b[0;32massert\u001b[0m \u001b[0;32mTrue\u001b[0m\u001b[0;34m\u001b[0m\u001b[0m\n\u001b[0;32m----> 2\u001b[0;31m \u001b[0;32massert\u001b[0m \u001b[0;32mFalse\u001b[0m\u001b[0;34m\u001b[0m\u001b[0m\n\u001b[0m",
      "\u001b[0;31mAssertionError\u001b[0m: "
     ]
    }
   ],
   "source": [
    "assert True\n",
    "assert False"
   ]
  },
  {
   "cell_type": "code",
   "execution_count": 1,
   "metadata": {},
   "outputs": [],
   "source": [
    "# TDD : 테스트 주도 개발\n",
    "def test(func):\n",
    "    cases = [\n",
    "        (5, [2, 1, 2, 6, 2, 4, 3, 3]),\n",
    "        (4, [4, 4, 4, 4, 4]),\n",
    "        (10, [3, 4, 5, 3, 4, 4]),\n",
    "        (10, [9])\n",
    "    ]\n",
    "    results = [\n",
    "        [3, 4, 2, 1, 5],\n",
    "        [4, 1, 2, 3],\n",
    "        [5, 4, 3, 1, 2, 6, 7, 8, 9, 10],\n",
    "        [9, 1, 2, 3, 4, 5, 6, 7, 8, 10]\n",
    "    ]\n",
    "    for i, case in enumerate(cases):\n",
    "        try:\n",
    "            assert func(*case) == results[i]\n",
    "        except AssertionError:\n",
    "            print(func(*case), case)\n",
    "            raise\n",
    "        print(\"success:\", i)\n",
    "    print(\"SUCCESS\")"
   ]
  },
  {
   "cell_type": "code",
   "execution_count": 21,
   "metadata": {
    "scrolled": true
   },
   "outputs": [
    {
     "ename": "TypeError",
     "evalue": "'list' object is not callable",
     "output_type": "error",
     "traceback": [
      "\u001b[0;31m---------------------------------------------------------------------------\u001b[0m",
      "\u001b[0;31mTypeError\u001b[0m                                 Traceback (most recent call last)",
      "\u001b[0;32m<ipython-input-21-78ef04256ed9>\u001b[0m in \u001b[0;36m<module>\u001b[0;34m\u001b[0m\n\u001b[0;32m----> 1\u001b[0;31m \u001b[0mtest\u001b[0m\u001b[0;34m(\u001b[0m\u001b[0msolution\u001b[0m\u001b[0;34m(\u001b[0m\u001b[0;36m5\u001b[0m\u001b[0;34m,\u001b[0m \u001b[0;34m[\u001b[0m\u001b[0;36m1\u001b[0m\u001b[0;34m,\u001b[0m \u001b[0;36m2\u001b[0m\u001b[0;34m,\u001b[0m \u001b[0;36m3\u001b[0m\u001b[0;34m]\u001b[0m\u001b[0;34m)\u001b[0m\u001b[0;34m)\u001b[0m\u001b[0;34m\u001b[0m\u001b[0m\n\u001b[0m",
      "\u001b[0;32m<ipython-input-20-f0aa7138e8c7>\u001b[0m in \u001b[0;36mtest\u001b[0;34m(func)\u001b[0m\n\u001b[1;32m     15\u001b[0m     \u001b[0;32mfor\u001b[0m \u001b[0mi\u001b[0m\u001b[0;34m,\u001b[0m \u001b[0mcase\u001b[0m \u001b[0;32min\u001b[0m \u001b[0menumerate\u001b[0m\u001b[0;34m(\u001b[0m\u001b[0mcases\u001b[0m\u001b[0;34m)\u001b[0m\u001b[0;34m:\u001b[0m\u001b[0;34m\u001b[0m\u001b[0m\n\u001b[1;32m     16\u001b[0m         \u001b[0;32mtry\u001b[0m\u001b[0;34m:\u001b[0m\u001b[0;34m\u001b[0m\u001b[0m\n\u001b[0;32m---> 17\u001b[0;31m             \u001b[0;32massert\u001b[0m \u001b[0mfunc\u001b[0m\u001b[0;34m(\u001b[0m\u001b[0;34m*\u001b[0m\u001b[0mcase\u001b[0m\u001b[0;34m)\u001b[0m \u001b[0;34m==\u001b[0m \u001b[0mresults\u001b[0m\u001b[0;34m[\u001b[0m\u001b[0mi\u001b[0m\u001b[0;34m]\u001b[0m\u001b[0;34m\u001b[0m\u001b[0m\n\u001b[0m\u001b[1;32m     18\u001b[0m         \u001b[0;32mexcept\u001b[0m \u001b[0mAssertionError\u001b[0m\u001b[0;34m:\u001b[0m\u001b[0;34m\u001b[0m\u001b[0m\n\u001b[1;32m     19\u001b[0m             \u001b[0mprint\u001b[0m\u001b[0;34m(\u001b[0m\u001b[0mfunc\u001b[0m\u001b[0;34m(\u001b[0m\u001b[0;34m*\u001b[0m\u001b[0mcase\u001b[0m\u001b[0;34m)\u001b[0m\u001b[0;34m,\u001b[0m \u001b[0mcase\u001b[0m\u001b[0;34m)\u001b[0m\u001b[0;34m\u001b[0m\u001b[0m\n",
      "\u001b[0;31mTypeError\u001b[0m: 'list' object is not callable"
     ]
    }
   ],
   "source": [
    "test(solution(5, [1, 2, 3]))"
   ]
  },
  {
   "cell_type": "code",
   "execution_count": null,
   "metadata": {},
   "outputs": [],
   "source": [
    "dd = {'a': 3, 'b': 2, 'c': 1}"
   ]
  },
  {
   "cell_type": "markdown",
   "metadata": {},
   "source": [
    "sequence type : sort\n",
    "dictionary 는 sort 가능하게 해줌, dictionary 는 sort 하면, key 값을 기준으로 sort 하게 됨\n",
    "\n"
   ]
  },
  {
   "cell_type": "code",
   "execution_count": null,
   "metadata": {},
   "outputs": [],
   "source": [
    "sorted(dd)"
   ]
  },
  {
   "cell_type": "code",
   "execution_count": null,
   "metadata": {},
   "outputs": [],
   "source": [
    "sorted(dd, key=lambda x: dd[x])"
   ]
  },
  {
   "cell_type": "code",
   "execution_count": null,
   "metadata": {},
   "outputs": [],
   "source": []
  },
  {
   "cell_type": "markdown",
   "metadata": {},
   "source": [
    "## 제한시간 30분\n",
    "\n",
    "### 나눌 수 있는 숫자는 몇개?\n",
    "\n",
    "\n",
    "\n",
    "정수 A, B사이 존재하는 정수들 중에 K로 나누어 떨어지는 숫자의 갯수를 계산하는 함수를 작성하세요.\n",
    "\n",
    "```\n",
    "def solution(A, B, K):\n",
    "    pass\n",
    "```\n",
    "\n",
    "A와 B사이에 있는 숫자들 중 (A <= i <= B),  K의 정수 배수로 표현되는 i의 갯수를 구하세요.\n",
    "\n",
    "K * a == i 가 되는 i의 갯수\n",
    "a는 0과 같거나 큰 \n",
    "\n",
    "* A 와 B의 범위는 `0 <= A, B <= 2000000000`\n",
    "* K의 범위는 `1 <= K <= 2000000000`\n",
    "* A <= B\n",
    "\n",
    "\n",
    "\n",
    "---\n",
    "\n",
    "\n",
    "**Example**\n",
    "\n",
    "`solution(3, 11, 3)` -> return 3\n",
    "\n",
    "만약에 A가 3, B가 11이고 K가 3이라면,\n",
    "\n",
    "`3, 4, 5, 6, 7, 8, 9, 10, 11`\n",
    "\n",
    "\n",
    "숫자들 중, K의 배수 즉 3의 배수로 표현가능한\n",
    "\n",
    "`3, 6, 9` 의 갯수 총 3을 리턴합니다."
   ]
  },
  {
   "cell_type": "code",
   "execution_count": null,
   "metadata": {},
   "outputs": [],
   "source": [
    "def solution(A, B, K):\n",
    "    count = 0\n",
    "    for number in range(A, B+1):\n",
    "        if number % K == 0:\n",
    "            count += 1\n",
    "\n",
    "    return count\n",
    "# 시간 복잡ㅈ도 : B - A\n"
   ]
  },
  {
   "cell_type": "code",
   "execution_count": null,
   "metadata": {},
   "outputs": [],
   "source": [
    "from math import ceil\n",
    "\n",
    "\n",
    "def solution(A, B, K):\n",
    "    start_n = ceil(A/K) # A를 K 로 나눈 숫자의 올림\n",
    "    end_n = B // K # B 를 K 로 나눈 숫자의 내림\n",
    "    return len(range(start_n, end_n+1))"
   ]
  },
  {
   "cell_type": "markdown",
   "metadata": {},
   "source": [
    "# 추가 과제\n",
    "\n",
    "1. 딕셔너리를 csv 포맷으로, csv 포맷을 딕셔너리를 담고 있는 리스트로 변환하는 함수\n",
    "2. 내장함수 all, any를 구현\n",
    "3. 딕셔너리를 value 기준으로 정렬\n",
    "4. 숫자(10진법)를 받아서 2진법, 8진법, 16진법으로 변환하는 각각의 함수\n",
    "\n",
    "**csv형태**\n",
    "```\n",
    "name, age, nickname, email\n",
    "홍길동, 20, 홍홍홍, hong@gmail.com\n",
    "유관순, 21, 유유유, you@gmail.com\n",
    "...\n",
    "```\n",
    "\n",
    "```\n",
    "[\n",
    "    {'name': '홍길동',\n",
    "    'age': 20,\n",
    "    'email': ...},\n",
    "    {'name': '유관순',\n",
    "    'age': 21,\n",
    "    'nickname': '홍홍홍'\n",
    "    },\n",
    "]\n",
    "```"
   ]
  },
  {
   "cell_type": "code",
   "execution_count": 22,
   "metadata": {},
   "outputs": [
    {
     "data": {
      "text/plain": [
       "False"
      ]
     },
     "execution_count": 22,
     "metadata": {},
     "output_type": "execute_result"
    }
   ],
   "source": [
    "all([True, True, False])"
   ]
  },
  {
   "cell_type": "code",
   "execution_count": 23,
   "metadata": {},
   "outputs": [
    {
     "data": {
      "text/plain": [
       "True"
      ]
     },
     "execution_count": 23,
     "metadata": {},
     "output_type": "execute_result"
    }
   ],
   "source": [
    "any([False, False, False, True])"
   ]
  },
  {
   "cell_type": "code",
   "execution_count": 24,
   "metadata": {},
   "outputs": [
    {
     "data": {
      "text/plain": [
       "True"
      ]
     },
     "execution_count": 24,
     "metadata": {},
     "output_type": "execute_result"
    }
   ],
   "source": [
    "all([])"
   ]
  },
  {
   "cell_type": "code",
   "execution_count": 25,
   "metadata": {},
   "outputs": [
    {
     "data": {
      "text/plain": [
       "False"
      ]
     },
     "execution_count": 25,
     "metadata": {},
     "output_type": "execute_result"
    }
   ],
   "source": [
    "any([])"
   ]
  },
  {
   "cell_type": "code",
   "execution_count": null,
   "metadata": {},
   "outputs": [],
   "source": [
    "import functools, itertools, collections, os, sys, "
   ]
  },
  {
   "cell_type": "code",
   "execution_count": null,
   "metadata": {},
   "outputs": [],
   "source": [
    "python functools\n",
    "\n"
   ]
  },
  {
   "cell_type": "code",
   "execution_count": null,
   "metadata": {},
   "outputs": [],
   "source": [
    "def solution(N, stages):\n",
    "    result = { x: 0 for x in range(1, N+1)}\n",
    "    denominator = len(stages)\n",
    "    \n",
    "    for stage in range(1, N+1):\n",
    "        # stages = [2, 1, 2, 6, 2, 4, 3, 3]\n",
    "        if not denominator:\n",
    "            break\n",
    "        count = stages.count(stage)\n",
    "        result[stage] = count / denominator\n",
    "        denominator -= count\n",
    "        \n",
    "    return sorted(result, key=lambda x: (result[x], -x), reverse=True)"
   ]
  },
  {
   "cell_type": "code",
   "execution_count": 24,
   "metadata": {},
   "outputs": [],
   "source": [
    "import operator\n",
    "\n",
    "def solution(N, stages):\n",
    "    total_number_of_people = len(stages)\n",
    "    failure = [0 for _ in range(N)]\n",
    "    number_of_people_in_stage = [ 0 for _ in range(N+1)]\n",
    "    \n",
    "    #현재 각 stage 에 몇명 있는지 확인\n",
    "    for stage in stages:\n",
    "        number_of_people_in_stage[stage-1] += 1\n",
    "        \n",
    "    #failure 계산\n",
    "    sum = 0\n",
    "    for index, number in enumerate(number_of_people_in_stage):\n",
    "        if index != (N + 1):\n",
    "            if not (total_number_of_people - sum):\n",
    "                break\n",
    "            failure[index] = number / (total_number_of_people - sum)\n",
    "            sum += number\n",
    "        else:\n",
    "            failure[index] = 0\n",
    "    \n",
    "    #각 stage 당 failure\n",
    "    stage_failure = dict()\n",
    "    for index, fail in enumerate(failure):\n",
    "        stage_failure[index] = fail\n",
    "    \n",
    "    return sorted(stage_failure, key=lambda x: stage_failure[x])"
   ]
  },
  {
   "cell_type": "code",
   "execution_count": 25,
   "metadata": {},
   "outputs": [
    {
     "data": {
      "text/plain": [
       "[3, 4, 0, 1, 2]"
      ]
     },
     "execution_count": 25,
     "metadata": {},
     "output_type": "execute_result"
    }
   ],
   "source": [
    "solution(5, [1,2,3])"
   ]
  },
  {
   "cell_type": "code",
   "execution_count": 26,
   "metadata": {},
   "outputs": [
    {
     "ename": "IndexError",
     "evalue": "list assignment index out of range",
     "output_type": "error",
     "traceback": [
      "\u001b[0;31m---------------------------------------------------------------------------\u001b[0m",
      "\u001b[0;31mIndexError\u001b[0m                                Traceback (most recent call last)",
      "\u001b[0;32m<ipython-input-26-e19a9999720b>\u001b[0m in \u001b[0;36m<module>\u001b[0;34m\u001b[0m\n\u001b[0;32m----> 1\u001b[0;31m \u001b[0mtest\u001b[0m\u001b[0;34m(\u001b[0m\u001b[0msolution\u001b[0m\u001b[0;34m)\u001b[0m\u001b[0;34m\u001b[0m\u001b[0m\n\u001b[0m",
      "\u001b[0;32m<ipython-input-1-f0aa7138e8c7>\u001b[0m in \u001b[0;36mtest\u001b[0;34m(func)\u001b[0m\n\u001b[1;32m     15\u001b[0m     \u001b[0;32mfor\u001b[0m \u001b[0mi\u001b[0m\u001b[0;34m,\u001b[0m \u001b[0mcase\u001b[0m \u001b[0;32min\u001b[0m \u001b[0menumerate\u001b[0m\u001b[0;34m(\u001b[0m\u001b[0mcases\u001b[0m\u001b[0;34m)\u001b[0m\u001b[0;34m:\u001b[0m\u001b[0;34m\u001b[0m\u001b[0m\n\u001b[1;32m     16\u001b[0m         \u001b[0;32mtry\u001b[0m\u001b[0;34m:\u001b[0m\u001b[0;34m\u001b[0m\u001b[0m\n\u001b[0;32m---> 17\u001b[0;31m             \u001b[0;32massert\u001b[0m \u001b[0mfunc\u001b[0m\u001b[0;34m(\u001b[0m\u001b[0;34m*\u001b[0m\u001b[0mcase\u001b[0m\u001b[0;34m)\u001b[0m \u001b[0;34m==\u001b[0m \u001b[0mresults\u001b[0m\u001b[0;34m[\u001b[0m\u001b[0mi\u001b[0m\u001b[0;34m]\u001b[0m\u001b[0;34m\u001b[0m\u001b[0m\n\u001b[0m\u001b[1;32m     18\u001b[0m         \u001b[0;32mexcept\u001b[0m \u001b[0mAssertionError\u001b[0m\u001b[0;34m:\u001b[0m\u001b[0;34m\u001b[0m\u001b[0m\n\u001b[1;32m     19\u001b[0m             \u001b[0mprint\u001b[0m\u001b[0;34m(\u001b[0m\u001b[0mfunc\u001b[0m\u001b[0;34m(\u001b[0m\u001b[0;34m*\u001b[0m\u001b[0mcase\u001b[0m\u001b[0;34m)\u001b[0m\u001b[0;34m,\u001b[0m \u001b[0mcase\u001b[0m\u001b[0;34m)\u001b[0m\u001b[0;34m\u001b[0m\u001b[0m\n",
      "\u001b[0;32m<ipython-input-24-ba362e8f19b0>\u001b[0m in \u001b[0;36msolution\u001b[0;34m(N, stages)\u001b[0m\n\u001b[1;32m     16\u001b[0m             \u001b[0;32mif\u001b[0m \u001b[0;32mnot\u001b[0m \u001b[0;34m(\u001b[0m\u001b[0mtotal_number_of_people\u001b[0m \u001b[0;34m-\u001b[0m \u001b[0msum\u001b[0m\u001b[0;34m)\u001b[0m\u001b[0;34m:\u001b[0m\u001b[0;34m\u001b[0m\u001b[0m\n\u001b[1;32m     17\u001b[0m                 \u001b[0;32mbreak\u001b[0m\u001b[0;34m\u001b[0m\u001b[0m\n\u001b[0;32m---> 18\u001b[0;31m             \u001b[0mfailure\u001b[0m\u001b[0;34m[\u001b[0m\u001b[0mindex\u001b[0m\u001b[0;34m]\u001b[0m \u001b[0;34m=\u001b[0m \u001b[0mnumber\u001b[0m \u001b[0;34m/\u001b[0m \u001b[0;34m(\u001b[0m\u001b[0mtotal_number_of_people\u001b[0m \u001b[0;34m-\u001b[0m \u001b[0msum\u001b[0m\u001b[0;34m)\u001b[0m\u001b[0;34m\u001b[0m\u001b[0m\n\u001b[0m\u001b[1;32m     19\u001b[0m             \u001b[0msum\u001b[0m \u001b[0;34m+=\u001b[0m \u001b[0mnumber\u001b[0m\u001b[0;34m\u001b[0m\u001b[0m\n\u001b[1;32m     20\u001b[0m         \u001b[0;32melse\u001b[0m\u001b[0;34m:\u001b[0m\u001b[0;34m\u001b[0m\u001b[0m\n",
      "\u001b[0;31mIndexError\u001b[0m: list assignment index out of range"
     ]
    }
   ],
   "source": [
    "test(solution)"
   ]
  },
  {
   "cell_type": "code",
   "execution_count": 7,
   "metadata": {},
   "outputs": [
    {
     "data": {
      "text/plain": [
       "[0, 0]"
      ]
     },
     "execution_count": 7,
     "metadata": {},
     "output_type": "execute_result"
    }
   ],
   "source": [
    "[0 for _ in range(2)]"
   ]
  },
  {
   "cell_type": "code",
   "execution_count": null,
   "metadata": {},
   "outputs": [],
   "source": []
  }
 ],
 "metadata": {
  "kernelspec": {
   "display_name": "Python 3",
   "language": "python",
   "name": "python3"
  },
  "language_info": {
   "codemirror_mode": {
    "name": "ipython",
    "version": 3
   },
   "file_extension": ".py",
   "mimetype": "text/x-python",
   "name": "python",
   "nbconvert_exporter": "python",
   "pygments_lexer": "ipython3",
   "version": "3.7.0"
  }
 },
 "nbformat": 4,
 "nbformat_minor": 2
}
