{
 "cells": [
  {
   "cell_type": "markdown",
   "metadata": {},
   "source": [
    "# 짝궁 찾기\n",
    "\n",
    "n명의 사람들이 각각 고유한 번호를 가지고 있습니다.\n",
    "사람들이 가지고 있는 번호의 차이가 짝궁숫자 k일때 두 사람을 짝궁으로 묶으려고 합니다.\n",
    "\n",
    "n명의 사람들의 고유번호 정보와, 짝궁 숫자가 주어졌을때, \n",
    "생성되는 짝궁의 갯수를 구하세요.\n",
    "\n",
    "\n",
    "**조건**\n",
    "\n",
    "`def solution(A, k):`\n",
    "\n",
    "* 리스트 A는 사람들이 가지고 있는 고유번호를 가지고 있습니다.\n",
    "* 리스트 A의 크기는 2보다 같거나 크고 십만보다 같거나 작습니다.\n",
    "* 짝궁번호 k는 0보다 크고 10억보다 작습니다.\n",
    "* 고유번호는 0보다 크고 2의 31승보다 작습니다.\n",
    "* `고유`의 뜻은 중복이 없다는 뜻입니다.\n",
    "\n",
    "**예제**\n",
    "\n",
    "*input*\n",
    "\n",
    "```\n",
    "A = [1, 5, 3, 4, 2]\n",
    "k = 2\n",
    "```\n",
    "\n",
    "*output*\n",
    "`3`\n",
    "\n",
    "*why?*\n",
    "\n",
    "짝궁번호 2를 만족하는 짝궁은 \n",
    "`(1, 3)`, `(2, 4)`, `(3, 5)`"
   ]
  },
  {
   "cell_type": "code",
   "execution_count": 24,
   "metadata": {},
   "outputs": [],
   "source": [
    "A = [1, 5, 3, 4, 2]"
   ]
  },
  {
   "cell_type": "code",
   "execution_count": 27,
   "metadata": {},
   "outputs": [],
   "source": [
    "def solution(A, k):\n",
    "    count = 0\n",
    "    while len(A) != 0:\n",
    "        if (min(A) + k) in A:\n",
    "            count += 1\n",
    "            A.remove(min(A))\n",
    "        else:\n",
    "            A.remove(min(A))\n",
    "    return count"
   ]
  },
  {
   "cell_type": "code",
   "execution_count": 28,
   "metadata": {},
   "outputs": [
    {
     "data": {
      "text/plain": [
       "2"
      ]
     },
     "execution_count": 28,
     "metadata": {},
     "output_type": "execute_result"
    }
   ],
   "source": [
    "solution([1, 5, 3, 4, 2], 3)"
   ]
  },
  {
   "cell_type": "markdown",
   "metadata": {},
   "source": [
    "# 버스 기사님 인사해요! 안녕!\n",
    "\n",
    "1번 버스 버스기사님들 마주오는 같은 버스 기사님에게 항상 인사를 합니다.\n",
    "\n",
    "모든 버스기사님들이 총 몇번 인사하게되는지 카운트하는 함수를 작성해보세요.\n",
    "\n",
    "1. 상행선을 타는 버스를 1, 하행선을 타는 버스를 0로 표현합니다.\n",
    "2. 리스트에 버스노선을 직선상으로 표현합니다.\n",
    "3. `[0, 1, 0, 1, 1]`라고할때 `0`은 리스트의 끝으로, `1`은 리스트의 앞으로 이동합니다.\n",
    "4. 각 버스가 진행방향으로 계속 이동할때, 모든 기사님들은 총 몇번 인사를 하게되는지 구하세요.\n",
    "\n",
    "**예제**\n",
    "\n",
    "`A = [0, 1, 0, 1, 1]` 라고할때,\n",
    "\n",
    "(`A[0]`, `A[1]`) 인사 발생\n",
    "(`A[0]`, `A[3]`) 인사 발생\n",
    "(`A[0]`, `A[4]`) 인사 발생\n",
    "(`A[2]`, `A[3]`) 인사 발생\n",
    "(`A[2]`, `A[4]`) 인사 발생\n",
    "\n",
    "모든 버스기사 아저씨들은 총 5번 인사를 합니다.\n",
    "\n",
    "\n",
    "**조건**\n",
    "\n",
    "`def solution(A):`\n",
    "\n",
    "1. 리스트의 A 길이는 1부터 십만 사이입니다.\n",
    "\n",
    "2. 리스트의 A의 각요소는 `0` 또는 `1` 만 옵니다."
   ]
  },
  {
   "cell_type": "code",
   "execution_count": 67,
   "metadata": {},
   "outputs": [],
   "source": [
    "def solution(A):\n",
    "    count = 0\n",
    "    index = 0\n",
    "    while sum(A[index:]) <= len(A[index:]):\n",
    "        print(index)\n",
    "        if A[index] == 0:\n",
    "            count += sum(A[index:])\n",
    "        index += 1\n",
    "    return count"
   ]
  },
  {
   "cell_type": "code",
   "execution_count": 68,
   "metadata": {},
   "outputs": [
    {
     "name": "stdout",
     "output_type": "stream",
     "text": [
      "0\n",
      "1\n",
      "2\n",
      "3\n",
      "4\n",
      "5\n",
      "6\n",
      "7\n"
     ]
    },
    {
     "ename": "IndexError",
     "evalue": "list index out of range",
     "output_type": "error",
     "traceback": [
      "\u001b[0;31m---------------------------------------------------------------------------\u001b[0m",
      "\u001b[0;31mIndexError\u001b[0m                                Traceback (most recent call last)",
      "\u001b[0;32m<ipython-input-68-413f12c6be95>\u001b[0m in \u001b[0;36m<module>\u001b[0;34m\u001b[0m\n\u001b[0;32m----> 1\u001b[0;31m \u001b[0msolution\u001b[0m\u001b[0;34m(\u001b[0m\u001b[0;34m[\u001b[0m\u001b[0;36m0\u001b[0m\u001b[0;34m,\u001b[0m \u001b[0;36m1\u001b[0m\u001b[0;34m,\u001b[0m \u001b[0;36m0\u001b[0m\u001b[0;34m,\u001b[0m \u001b[0;36m1\u001b[0m\u001b[0;34m,\u001b[0m \u001b[0;36m1\u001b[0m\u001b[0;34m,\u001b[0m \u001b[0;36m0\u001b[0m\u001b[0;34m,\u001b[0m \u001b[0;36m1\u001b[0m\u001b[0;34m]\u001b[0m\u001b[0;34m)\u001b[0m\u001b[0;34m\u001b[0m\u001b[0m\n\u001b[0m",
      "\u001b[0;32m<ipython-input-67-454f2909ad31>\u001b[0m in \u001b[0;36msolution\u001b[0;34m(A)\u001b[0m\n\u001b[1;32m      4\u001b[0m     \u001b[0;32mwhile\u001b[0m \u001b[0msum\u001b[0m\u001b[0;34m(\u001b[0m\u001b[0mA\u001b[0m\u001b[0;34m[\u001b[0m\u001b[0mindex\u001b[0m\u001b[0;34m:\u001b[0m\u001b[0;34m]\u001b[0m\u001b[0;34m)\u001b[0m \u001b[0;34m<=\u001b[0m \u001b[0mlen\u001b[0m\u001b[0;34m(\u001b[0m\u001b[0mA\u001b[0m\u001b[0;34m[\u001b[0m\u001b[0mindex\u001b[0m\u001b[0;34m:\u001b[0m\u001b[0;34m]\u001b[0m\u001b[0;34m)\u001b[0m\u001b[0;34m:\u001b[0m\u001b[0;34m\u001b[0m\u001b[0m\n\u001b[1;32m      5\u001b[0m         \u001b[0mprint\u001b[0m\u001b[0;34m(\u001b[0m\u001b[0mindex\u001b[0m\u001b[0;34m)\u001b[0m\u001b[0;34m\u001b[0m\u001b[0m\n\u001b[0;32m----> 6\u001b[0;31m         \u001b[0;32mif\u001b[0m \u001b[0mA\u001b[0m\u001b[0;34m[\u001b[0m\u001b[0mindex\u001b[0m\u001b[0;34m]\u001b[0m \u001b[0;34m==\u001b[0m \u001b[0;36m0\u001b[0m\u001b[0;34m:\u001b[0m\u001b[0;34m\u001b[0m\u001b[0m\n\u001b[0m\u001b[1;32m      7\u001b[0m             \u001b[0mcount\u001b[0m \u001b[0;34m+=\u001b[0m \u001b[0msum\u001b[0m\u001b[0;34m(\u001b[0m\u001b[0mA\u001b[0m\u001b[0;34m[\u001b[0m\u001b[0mindex\u001b[0m\u001b[0;34m:\u001b[0m\u001b[0;34m]\u001b[0m\u001b[0;34m)\u001b[0m\u001b[0;34m\u001b[0m\u001b[0m\n\u001b[1;32m      8\u001b[0m         \u001b[0mindex\u001b[0m \u001b[0;34m+=\u001b[0m \u001b[0;36m1\u001b[0m\u001b[0;34m\u001b[0m\u001b[0m\n",
      "\u001b[0;31mIndexError\u001b[0m: list index out of range"
     ]
    }
   ],
   "source": [
    "solution([0, 1, 0, 1, 1, 0, 1])"
   ]
  },
  {
   "cell_type": "code",
   "execution_count": 50,
   "metadata": {},
   "outputs": [],
   "source": [
    "A = [1, 2, 3]\n"
   ]
  },
  {
   "cell_type": "code",
   "execution_count": null,
   "metadata": {},
   "outputs": [],
   "source": []
  }
 ],
 "metadata": {
  "kernelspec": {
   "display_name": "Python 3",
   "language": "python",
   "name": "python3"
  },
  "language_info": {
   "codemirror_mode": {
    "name": "ipython",
    "version": 3
   },
   "file_extension": ".py",
   "mimetype": "text/x-python",
   "name": "python",
   "nbconvert_exporter": "python",
   "pygments_lexer": "ipython3",
   "version": "3.7.0"
  }
 },
 "nbformat": 4,
 "nbformat_minor": 2
}
