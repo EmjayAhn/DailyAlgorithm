{
 "cells": [
  {
   "cell_type": "markdown",
   "metadata": {},
   "source": [
    "# 제한시간 1시간 \n",
    "\n",
    "\n",
    "## 스왑 정렬하기\n",
    "\n",
    "1부터 n까지를 담고 있는 리스트를 받아서, 2숫자의 자리를 바꿔서 정렬해 나가려고 합니다.\n",
    "\n",
    "\n",
    "### 주어진 리스트가 `[7, 1, 3, 2, 4, 5, 6]`일때\n",
    "\n",
    "```\n",
    "0   [7, 1, 3, 2, 4, 5, 6]   swap (0,3)\n",
    "1   [2, 1, 3, 7, 4, 5, 6]   swap (0,1)\n",
    "2   [1, 2, 3, 7, 4, 5, 6]   swap (3,4)\n",
    "3   [1, 2, 3, 4, 7, 5, 6]   swap (4,5)\n",
    "4   [1, 2, 3, 4, 5, 7, 6]   swap (5,6)\n",
    "5   [1, 2, 3, 4, 5, 6, 7]\n",
    "```\n",
    "5번의 자리바꿈으로 정렬을 완료했습니다.\n",
    "\n",
    "이러한 방법으로 리스트를 정렬할때 가장 적은 자리바꿈횟수를 리턴하는 함수를 만드세요.\n",
    "\n",
    "`def solution(arr):`\n",
    "\n",
    "\n",
    "**조건**\n",
    "\n",
    "* 리스트의 길이 n은     \n",
    "\t* `1 <= n <= 10**5`    \n",
    "* 길이가 n인 리스트의 각 요소의 크기 a는    \n",
    "\t* `1 <= a <= n`\n",
    "\n",
    "**sample case1**\n",
    "\n",
    "input `[4, 3, 1, 2]`   \n",
    "output `3`\n",
    "\n",
    "**sample case2**\n",
    "\n",
    "input `[2, 3, 4, 1, 5]`    \n",
    "output `3`"
   ]
  },
  {
   "cell_type": "code",
   "execution_count": 129,
   "metadata": {},
   "outputs": [],
   "source": [
    "# TDD : 테스트 주도 개발\n",
    "def test(func):\n",
    "    cases = [\n",
    "        [4, 3, 1, 2],\n",
    "        [2, 3, 4, 1, 5],\n",
    "    ]\n",
    "    results = [\n",
    "        3, 3\n",
    "    ]\n",
    "    for i, case in enumerate(cases):\n",
    "        try:\n",
    "            assert func(*case) == results[i]\n",
    "        except AssertionError:\n",
    "            print(func(*case), case)\n",
    "            raise\n",
    "        print(\"success:\", i)\n",
    "    print(\"SUCCESS\")"
   ]
  },
  {
   "cell_type": "code",
   "execution_count": 130,
   "metadata": {},
   "outputs": [],
   "source": [
    "def solution(arr):\n",
    "    count = 0\n",
    "    temp = arr.copy()\n",
    "    \n",
    "    for cnt in range(len(arr)): \n",
    "        maximum_index = temp.index(max(temp))\n",
    "        if arr[maximum_index] != arr[-(cnt+1)]:\n",
    "            arr[maximum_index], arr[-(cnt+1)] = arr[-(cnt+1)], arr[maximum_index]\n",
    "            count += 1\n",
    "        temp = arr[0:-(cnt+1)].copy()\n",
    "        \n",
    "    \n",
    "    return count"
   ]
  },
  {
   "cell_type": "code",
   "execution_count": 155,
   "metadata": {},
   "outputs": [],
   "source": [
    "def solution(arr):\n",
    "    count = 0\n",
    "    sorted_index = list()\n",
    "    for e_num, num in enumerate(arr, 1):\n",
    "        if e_num != num:\n",
    "            arr[e_num-1] = 0\n",
    "            swap(arr, e_num-1, arr.index(e_num))\n",
    "            count += 1\n",
    "    return count\n",
    "        "
   ]
  },
  {
   "cell_type": "code",
   "execution_count": 154,
   "metadata": {},
   "outputs": [
    {
     "data": {
      "text/plain": [
       "4"
      ]
     },
     "execution_count": 154,
     "metadata": {},
     "output_type": "execute_result"
    }
   ],
   "source": [
    "a = [1, 2, 3, 4, 5]\n",
    "a.index(5)"
   ]
  },
  {
   "cell_type": "code",
   "execution_count": 156,
   "metadata": {},
   "outputs": [
    {
     "data": {
      "text/plain": [
       "6"
      ]
     },
     "execution_count": 156,
     "metadata": {},
     "output_type": "execute_result"
    }
   ],
   "source": [
    "solution([7, 1, 3, 2, 4, 5, 6])"
   ]
  },
  {
   "cell_type": "markdown",
   "metadata": {},
   "source": [
    "# 제한시간 1시간 \n",
    "\n",
    "\n",
    "## 산 그리기\n",
    "\n",
    "텍스트로 그림그리기에 도전하고 있습니다.\n",
    "이때 배경에 등장하는 산에 에너지를 너무 쏟고 싶지 않아, 자동화된 프로그램을 만드려고 합니다.\n",
    "\n",
    "입력값으로 왼쪽부터 오른쪽까지 산의 능선이 상승하는지, 하락하는지 값을 `str`형태로 받으려고 합니다.\n",
    "\n",
    "**입력값**\n",
    "\n",
    "```\n",
    "상승시 : 'U' -> '/' 출력\n",
    "하락시 : 'D' -> '\\' 출력\n",
    "```\n",
    "\n",
    "\n",
    "`'U'`와 `'D'`로 이뤄진 문자열을 받아서, 능선을 그려주는 함수를 만드세요.\n",
    "\n",
    "`def solution(string):`\n",
    "\n",
    "\n",
    "\n",
    "**조건**\n",
    "\n",
    "* 문자열의 길이는 100 이하\n",
    "* return하는 값은 `str`, 함수에서 출력하지 않음  \n",
    "* 불필요한 공백이 포함되면 안됨\n",
    "\n",
    "\n",
    "**sample1**\n",
    "\n",
    "input\n",
    "\n",
    "`solution('UDDDUDUUUDUUUDDDDDUDUUUU')`\n",
    "\n",
    "output (return 을 `print`한 결과)\n",
    "\n",
    "```\n",
    "            /\\          \n",
    "           /  \\        / \n",
    "/\\      /\\/    \\      /  \n",
    "  \\    /        \\    /   \n",
    "   \\/\\/          \\/\\/    \n",
    "```\n",
    "\n",
    "**sample2**\n",
    "\n",
    "input\n",
    "\n",
    "`solution('UDDDUDUU')`\n",
    "\n",
    "\n",
    "output (return 을 `print`한 결과)\n",
    "\n",
    "```\n",
    "/\\      \n",
    "  \\    / \n",
    "   \\/\\/  \n",
    "```\n",
    "\n",
    "**sample3**\n",
    "\n",
    "input\n",
    "\n",
    "`solution('DUDUUDUUUUUDUDUUDUDDUDUDDDUDDDDDDUUD')`\n",
    "\n",
    "\n",
    "output (return 을 `print`한 결과)\n",
    "\n",
    "```\n",
    "               /\\/\\                  \n",
    "          /\\/\\/    \\/\\/\\             \n",
    "         /              \\            \n",
    "        /                \\/\\         \n",
    "       /                    \\        \n",
    "    /\\/                      \\       \n",
    "\\/\\/                          \\      \n",
    "                               \\  /\\_\n",
    "                                \\/   \n",
    "```"
   ]
  },
  {
   "cell_type": "code",
   "execution_count": 166,
   "metadata": {},
   "outputs": [],
   "source": [
    "def solution(string):\n",
    "    result = ''\n",
    "    floor = 0\n",
    "    \n",
    "    for index, item in enumerate(string[0:-1]):\n",
    "        if string[index] != string[index+1]:\n",
    "            if item == 'U':\n",
    "                result += ' ' * index + '/'\n",
    "            else:\n",
    "                result += ' ' * index + \"\\\\\"\n",
    "        else:\n",
    "            if item == 'U':\n",
    "                floor -= 1\n",
    "                result += '\\n' * floor + ' ' * index + '/'\n",
    "            \n",
    "            else:\n",
    "                floor += 1\n",
    "                result += '\\n'* floor + ' ' * index + '\\\\'\n",
    "                \n",
    "    return print(result)"
   ]
  },
  {
   "cell_type": "code",
   "execution_count": 179,
   "metadata": {},
   "outputs": [],
   "source": [
    "def solution(string):\n",
    "    string_size = len(string)\n",
    "    matrix = [[' ' for _ in range(2*string_size)] for _ in range(2*string_size)]\n",
    "    count_U = string.count(\"U\")\n",
    "    for index, item in enumerate(string[0:-1]):\n",
    "        if string[index] == string[index+1]:\n",
    "            if item == \"U\":\n",
    "                matrix[count_U-1][index] = \"/\"\n",
    "            else:\n",
    "                matrix[count_U+1][index] = \"\\\\\"\n",
    "        else:    \n",
    "            if item == \"U\":\n",
    "                matrix[count_U][index] = \"/\"\n",
    "            else:\n",
    "                matrix[count_U][index] = \"\\\\\"\n",
    "\n",
    "    #string = '\\n'.join(filter(lambda x: x.strip(), map(lambda x: ''.join(x), matrix)))            \n",
    "    return matrix"
   ]
  },
  {
   "cell_type": "code",
   "execution_count": 182,
   "metadata": {},
   "outputs": [
    {
     "data": {
      "text/plain": [
       "[[' ', ' ', ' ', ' ', ' ', ' ', ' ', ' '],\n",
       " [' ', ' ', ' ', ' ', ' ', ' ', ' ', ' '],\n",
       " [' ', ' ', '/', ' ', ' ', ' ', ' ', ' '],\n",
       " ['/', '\\\\', ' ', ' ', ' ', ' ', ' ', ' '],\n",
       " [' ', ' ', ' ', ' ', ' ', ' ', ' ', ' '],\n",
       " [' ', ' ', ' ', ' ', ' ', ' ', ' ', ' '],\n",
       " [' ', ' ', ' ', ' ', ' ', ' ', ' ', ' '],\n",
       " [' ', ' ', ' ', ' ', ' ', ' ', ' ', ' ']]"
      ]
     },
     "execution_count": 182,
     "metadata": {},
     "output_type": "execute_result"
    }
   ],
   "source": [
    "solution('UDUU')"
   ]
  },
  {
   "cell_type": "code",
   "execution_count": 122,
   "metadata": {},
   "outputs": [
    {
     "name": "stdout",
     "output_type": "stream",
     "text": [
      "\\ /  \\\n",
      "   /    /     \\\n",
      "\n",
      "      /\n",
      "\n",
      "\n",
      "       /\n",
      "\n",
      "\n",
      "\n",
      "        /\n",
      "\n",
      "\n",
      "\n",
      "\n",
      "         /          /           \\            /             \\\n",
      "\n",
      "\n",
      "\n",
      "\n",
      "\n",
      "              /               /                \\                 /\n",
      "\n",
      "\n",
      "\n",
      "\n",
      "\n",
      "                  \\                   \\                    /                     \\                      /\n",
      "\n",
      "\n",
      "\n",
      "\n",
      "                       \\\n",
      "\n",
      "\n",
      "\n",
      "                        \\                         \\                          /\n",
      "\n",
      "\n",
      "                           \\\n",
      "\n",
      "                            \\\n",
      "                             \\                              \\                               \\                                \\                                 /                                  /\n"
     ]
    }
   ],
   "source": [
    "solution('DUDUUDUUUUUDUDUUDUDDUDUDDDUDDDDDDUUD')"
   ]
  },
  {
   "cell_type": "markdown",
   "metadata": {},
   "source": [
    "# 준수사항\n",
    "1. 함수 이름 바꾸지 마세요.\n",
    "2. 불필요한 주석 제거\n",
    "    - 주석 : 코드만 보고 이해할수 있는 코드가 좋은 것\n",
    "    - 꼭 필요할 때만 주석쓰기\n",
    "3. PEP8\n",
    "    - 컴마 다음에는 한칸 공백\n",
    "    - 콜론전에는 공백 없습니다\n",
    "    ex) lambda x: x + 1\n",
    "    ex) range(1, 3)\n",
    "    - 컴마 다음에는 한칸 공백, 콜론전에는 공백 없습니다.\n",
    "    - 파이썬 코드 몇글자 ? PEP 8 은 80글자, 구글 스타일 가이드 - 100글자\n",
    "    - 불필요한 공백, 개행\n",
    "    - 테스트 제발\n",
    "    - 최종 확인\n",
    "    \n",
    "    "
   ]
  },
  {
   "cell_type": "markdown",
   "metadata": {},
   "source": [
    "# with 구문\n",
    "- file 객체는 메모리에 올라가 있으면, 메모리를 많이 잡아 먹는다.\n",
    "- 따라서 file.close() 해주어야한다."
   ]
  },
  {
   "cell_type": "code",
   "execution_count": null,
   "metadata": {},
   "outputs": [],
   "source": [
    "with open('./test.txt', 'w') as f:\n",
    "    print(f)"
   ]
  },
  {
   "cell_type": "markdown",
   "metadata": {},
   "source": [
    "- 이렇게 해주면 with 구문이 끝날때 close 를 자동으로 해준다."
   ]
  },
  {
   "cell_type": "markdown",
   "metadata": {},
   "source": [
    "# with 가 하는일\n",
    "### 구문이 시작될때 `__enter__`실행\n",
    "\n",
    "### 구문이 끝날 때 `__exit__` 실행\n",
    "- file 은 __exit__ 에 close() 가 포함되어있다."
   ]
  },
  {
   "cell_type": "code",
   "execution_count": 137,
   "metadata": {},
   "outputs": [],
   "source": [
    "class A:\n",
    "    def __enter__(self):\n",
    "        print('ENTER!!')\n",
    "        \n",
    "    def __exit__(self, *args):\n",
    "        #file클래스에는 self.close()\n",
    "        print(\"EXIT!!!\")\n",
    "        \n",
    "    def __repr__(self):\n",
    "        return 'A클래스 인스턴스'"
   ]
  },
  {
   "cell_type": "code",
   "execution_count": 138,
   "metadata": {},
   "outputs": [
    {
     "name": "stdout",
     "output_type": "stream",
     "text": [
      "ENTER!!\n",
      "IN WITH\n",
      "EXIT!!!\n"
     ]
    }
   ],
   "source": [
    "with A():\n",
    "    print('IN WITH')"
   ]
  },
  {
   "cell_type": "code",
   "execution_count": 140,
   "metadata": {},
   "outputs": [
    {
     "name": "stdout",
     "output_type": "stream",
     "text": [
      "나는 여기있어요.\n",
      "나는 중간에 가고싶어요\n",
      "끝났어요\n"
     ]
    }
   ],
   "source": [
    "from contextlib import contextmanager\n",
    "\n",
    "@contextmanager\n",
    "def p():\n",
    "    print(\"나는 여기있어요.\")\n",
    "    yield\n",
    "    print(\"끝났어요\")\n",
    "    \n",
    "with p():\n",
    "    print(\"나는 중간에 가고싶어요\")"
   ]
  },
  {
   "cell_type": "code",
   "execution_count": 141,
   "metadata": {},
   "outputs": [],
   "source": [
    "def gen():\n",
    "    yield 1\n",
    "    yield 2\n",
    "#yield 가 있는 함수는 generator 생성함수"
   ]
  },
  {
   "cell_type": "code",
   "execution_count": 142,
   "metadata": {},
   "outputs": [],
   "source": [
    "g = gen() \n",
    "# 이렇게 해주어야 generator가 생성됨"
   ]
  },
  {
   "cell_type": "code",
   "execution_count": 146,
   "metadata": {},
   "outputs": [
    {
     "data": {
      "text/plain": [
       "<generator object gen at 0x125e58a20>"
      ]
     },
     "execution_count": 146,
     "metadata": {},
     "output_type": "execute_result"
    }
   ],
   "source": [
    "g"
   ]
  },
  {
   "cell_type": "markdown",
   "metadata": {},
   "source": [
    "# 강사님 코드"
   ]
  },
  {
   "cell_type": "markdown",
   "metadata": {},
   "source": [
    "- 이 문제는 정렬하는 문제가 아니다.\n",
    "- 정렬하는 문제의 가장 빠른 시간 복잡도는 nlogn\n",
    "- list의 길이가 10만, nlogn 이면, 매우 오래걸린다."
   ]
  },
  {
   "cell_type": "code",
   "execution_count": 147,
   "metadata": {},
   "outputs": [],
   "source": [
    "def swap(arr, i, j):\n",
    "    arr[j], arr[i] = arr[i], arr[j]\n",
    "    \n",
    "def solution(arr):\n",
    "    count = 0 # 특정 조건을 만나면 + 1 해주면 된다.\n",
    "    for e_num, num in enumerate(arr, 1):\n",
    "        # e_num 기대하는 숫자, expected number\n",
    "        # num arr에 들어있는 숫자\n",
    "        if e_num != num:\n",
    "            #swap\n",
    "            swap(arr, e_num-1, arr.index(e_num))\n",
    "            count += 1\n",
    "\n",
    "    return count\n",
    "        "
   ]
  },
  {
   "cell_type": "markdown",
   "metadata": {},
   "source": [
    "- 실제로 정렬을 실시하기 때문에 이 함수는 매우 느릴 수 밖에 없다."
   ]
  },
  {
   "cell_type": "code",
   "execution_count": 148,
   "metadata": {},
   "outputs": [],
   "source": [
    "data = [x for x in range(1, 10**5+1)]\n",
    "from random import shuffle\n",
    "shuffle(data)"
   ]
  },
  {
   "cell_type": "code",
   "execution_count": 149,
   "metadata": {},
   "outputs": [
    {
     "name": "stdout",
     "output_type": "stream",
     "text": [
      "CPU times: user 1min 15s, sys: 31.1 ms, total: 1min 15s\n",
      "Wall time: 1min 15s\n"
     ]
    },
    {
     "data": {
      "text/plain": [
       "99987"
      ]
     },
     "execution_count": 149,
     "metadata": {},
     "output_type": "execute_result"
    }
   ],
   "source": [
    "%%time\n",
    "solution(data)"
   ]
  },
  {
   "cell_type": "markdown",
   "metadata": {},
   "source": [
    "- 실제 정렬을 하고 있기 때문에 오래걸림,\n",
    "- 카운트만 해주면된다.\n",
    "- swap 해줄 필요가 없다.\n",
    "\n",
    "- list 는 몇번째 index 에 아이템을 가져올 수 있어야된다.\n",
    "- list 는 아이템이 몇번째 index 를 찾는 것은 최적화 되어 있지 않는다.\n",
    "- 이 문제를 최적화 하기 위해서는 index 를 사용하면 안된다."
   ]
  },
  {
   "cell_type": "code",
   "execution_count": 169,
   "metadata": {},
   "outputs": [],
   "source": [
    "#matrix 를 만든다\n",
    "m = [[' ' for _ in range(8)] for _ in range(8)]"
   ]
  },
  {
   "cell_type": "code",
   "execution_count": 170,
   "metadata": {},
   "outputs": [
    {
     "data": {
      "text/plain": [
       "[[' ', ' ', ' ', ' ', ' ', ' ', ' ', ' '],\n",
       " [' ', ' ', ' ', ' ', ' ', ' ', ' ', ' '],\n",
       " [' ', ' ', ' ', ' ', ' ', ' ', ' ', ' '],\n",
       " [' ', ' ', ' ', ' ', '*', ' ', ' ', ' '],\n",
       " [' ', ' ', ' ', ' ', ' ', ' ', ' ', ' '],\n",
       " [' ', ' ', ' ', ' ', ' ', ' ', ' ', ' '],\n",
       " [' ', ' ', ' ', ' ', ' ', ' ', ' ', '*'],\n",
       " [' ', ' ', ' ', ' ', ' ', ' ', ' ', ' ']]"
      ]
     },
     "execution_count": 170,
     "metadata": {},
     "output_type": "execute_result"
    }
   ],
   "source": [
    "m[6][7] = m[3][4] = '*'\n",
    "m"
   ]
  },
  {
   "cell_type": "code",
   "execution_count": 160,
   "metadata": {},
   "outputs": [],
   "source": [
    "string = '\\n'.join(map(lambda x: ''.join(x), m))"
   ]
  },
  {
   "cell_type": "code",
   "execution_count": 161,
   "metadata": {},
   "outputs": [
    {
     "name": "stdout",
     "output_type": "stream",
     "text": [
      "        \n",
      "        \n",
      "        \n",
      "    *   \n",
      "        \n",
      "        \n",
      "       *\n",
      "        \n"
     ]
    }
   ],
   "source": [
    "print(string)"
   ]
  },
  {
   "cell_type": "markdown",
   "metadata": {},
   "source": [
    "- 도화지를 그리고 matrix\n",
    "- 가운데 시작점을 정해\n",
    "- 제일 많이 올라가는 상황을 가정 : U 가 문자열에서 몇번나오는가\n",
    "    - 그렇게 내려온다음에\n",
    "- 그림을 그리고\n",
    "- list 안에 list 를 join 공백 없이 join 하고\n",
    "- 엔터해서 다시 join"
   ]
  },
  {
   "cell_type": "code",
   "execution_count": 164,
   "metadata": {},
   "outputs": [],
   "source": [
    "string = '\\n'.join(filter(lambda x: x.strip(), map(lambda x: ''.join(x), m)))"
   ]
  },
  {
   "cell_type": "code",
   "execution_count": 165,
   "metadata": {},
   "outputs": [
    {
     "name": "stdout",
     "output_type": "stream",
     "text": [
      "    *   \n",
      "       *\n"
     ]
    }
   ],
   "source": [
    "print(string)"
   ]
  },
  {
   "cell_type": "code",
   "execution_count": 264,
   "metadata": {},
   "outputs": [],
   "source": [
    "def solution(s):\n",
    "    n = len(s)\n",
    "    chars = {'U': '/', 'D': '\\\\'}\n",
    "    matrix = [[' ' for _ in range(n)] for _ in range(n*2)]\n",
    "    top_padding = s.count(\"U\")\n",
    "    \n",
    "    for i, c in enumerate(s):\n",
    "        if c != s[i+1]:\n",
    "            matrix[top_padding][i] = chars[c]\n",
    "\n",
    "    return matrix"
   ]
  },
  {
   "cell_type": "code",
   "execution_count": 265,
   "metadata": {},
   "outputs": [
    {
     "ename": "IndexError",
     "evalue": "string index out of range",
     "output_type": "error",
     "traceback": [
      "\u001b[0;31m---------------------------------------------------------------------------\u001b[0m",
      "\u001b[0;31mIndexError\u001b[0m                                Traceback (most recent call last)",
      "\u001b[0;32m<ipython-input-265-dce55ea4af22>\u001b[0m in \u001b[0;36m<module>\u001b[0;34m\u001b[0m\n\u001b[0;32m----> 1\u001b[0;31m \u001b[0msolution\u001b[0m\u001b[0;34m(\u001b[0m\u001b[0;34m'UDUDD'\u001b[0m\u001b[0;34m)\u001b[0m\u001b[0;34m\u001b[0m\u001b[0m\n\u001b[0m",
      "\u001b[0;32m<ipython-input-264-e1d919c19264>\u001b[0m in \u001b[0;36msolution\u001b[0;34m(s)\u001b[0m\n\u001b[1;32m      6\u001b[0m \u001b[0;34m\u001b[0m\u001b[0m\n\u001b[1;32m      7\u001b[0m     \u001b[0;32mfor\u001b[0m \u001b[0mi\u001b[0m\u001b[0;34m,\u001b[0m \u001b[0mc\u001b[0m \u001b[0;32min\u001b[0m \u001b[0menumerate\u001b[0m\u001b[0;34m(\u001b[0m\u001b[0ms\u001b[0m\u001b[0;34m)\u001b[0m\u001b[0;34m:\u001b[0m\u001b[0;34m\u001b[0m\u001b[0m\n\u001b[0;32m----> 8\u001b[0;31m         \u001b[0;32mif\u001b[0m \u001b[0mc\u001b[0m \u001b[0;34m!=\u001b[0m \u001b[0ms\u001b[0m\u001b[0;34m[\u001b[0m\u001b[0mi\u001b[0m\u001b[0;34m+\u001b[0m\u001b[0;36m1\u001b[0m\u001b[0;34m]\u001b[0m\u001b[0;34m:\u001b[0m\u001b[0;34m\u001b[0m\u001b[0m\n\u001b[0m\u001b[1;32m      9\u001b[0m             \u001b[0mmatrix\u001b[0m\u001b[0;34m[\u001b[0m\u001b[0mtop_padding\u001b[0m\u001b[0;34m]\u001b[0m\u001b[0;34m[\u001b[0m\u001b[0mi\u001b[0m\u001b[0;34m]\u001b[0m \u001b[0;34m=\u001b[0m \u001b[0mchars\u001b[0m\u001b[0;34m[\u001b[0m\u001b[0mc\u001b[0m\u001b[0;34m]\u001b[0m\u001b[0;34m\u001b[0m\u001b[0m\n\u001b[1;32m     10\u001b[0m \u001b[0;34m\u001b[0m\u001b[0m\n",
      "\u001b[0;31mIndexError\u001b[0m: string index out of range"
     ]
    }
   ],
   "source": [
    "solution('UDUDD')"
   ]
  },
  {
   "cell_type": "code",
   "execution_count": null,
   "metadata": {},
   "outputs": [],
   "source": [
    "def solution(string):\n",
    "    string_size = len(string)\n",
    "    matrix = [[' ' for _ in range(2*string_size)] for _ in range(2*string_size)]\n",
    "    count_U = string.count(\"U\")\n",
    "    for index, item in enumerate(string[0:-1]):\n",
    "        if string[index] == string[index+1]:\n",
    "            if item == \"U\":\n",
    "                matrix[count_U-1][index] = \"/\"\n",
    "            else:\n",
    "                matrix[count_U+1][index] = \"\\\\\"\n",
    "        else:    \n",
    "            if item == \"U\":\n",
    "                matrix[count_U][index] = \"/\"\n",
    "            else:\n",
    "                matrix[count_U][index] = \"\\\\\"\n",
    "\n",
    "    #string = '\\n'.join(filter(lambda x: x.strip(), map(lambda x: ''.join(x), matrix)))            \n",
    "    return matrix"
   ]
  },
  {
   "cell_type": "code",
   "execution_count": 248,
   "metadata": {},
   "outputs": [],
   "source": [
    "person = {\n",
    "        1: 1,\n",
    "        2: 1,\n",
    "        3: 1,\n",
    "    }"
   ]
  },
  {
   "cell_type": "code",
   "execution_count": 193,
   "metadata": {},
   "outputs": [
    {
     "data": {
      "text/plain": [
       "1"
      ]
     },
     "execution_count": 193,
     "metadata": {},
     "output_type": "execute_result"
    }
   ],
   "source": [
    "person[2]"
   ]
  },
  {
   "cell_type": "code",
   "execution_count": 195,
   "metadata": {},
   "outputs": [
    {
     "data": {
      "text/plain": [
       "['__class__',\n",
       " '__contains__',\n",
       " '__delattr__',\n",
       " '__delitem__',\n",
       " '__dir__',\n",
       " '__doc__',\n",
       " '__eq__',\n",
       " '__format__',\n",
       " '__ge__',\n",
       " '__getattribute__',\n",
       " '__getitem__',\n",
       " '__gt__',\n",
       " '__hash__',\n",
       " '__init__',\n",
       " '__init_subclass__',\n",
       " '__iter__',\n",
       " '__le__',\n",
       " '__len__',\n",
       " '__lt__',\n",
       " '__ne__',\n",
       " '__new__',\n",
       " '__reduce__',\n",
       " '__reduce_ex__',\n",
       " '__repr__',\n",
       " '__setattr__',\n",
       " '__setitem__',\n",
       " '__sizeof__',\n",
       " '__str__',\n",
       " '__subclasshook__',\n",
       " 'clear',\n",
       " 'copy',\n",
       " 'fromkeys',\n",
       " 'get',\n",
       " 'items',\n",
       " 'keys',\n",
       " 'pop',\n",
       " 'popitem',\n",
       " 'setdefault',\n",
       " 'update',\n",
       " 'values']"
      ]
     },
     "execution_count": 195,
     "metadata": {},
     "output_type": "execute_result"
    }
   ],
   "source": [
    "dir(person)"
   ]
  },
  {
   "cell_type": "code",
   "execution_count": 203,
   "metadata": {
    "scrolled": true
   },
   "outputs": [
    {
     "data": {
      "text/plain": [
       "[(2, 1), (1, 0), (3, 0)]"
      ]
     },
     "execution_count": 203,
     "metadata": {},
     "output_type": "execute_result"
    }
   ],
   "source": [
    "sorted(person.items(), key=lambda x: -x[1], )"
   ]
  },
  {
   "cell_type": "code",
   "execution_count": 245,
   "metadata": {},
   "outputs": [],
   "source": [
    "person[1] += 1"
   ]
  },
  {
   "cell_type": "code",
   "execution_count": 214,
   "metadata": {},
   "outputs": [
    {
     "data": {
      "text/plain": [
       "2"
      ]
     },
     "execution_count": 214,
     "metadata": {},
     "output_type": "execute_result"
    }
   ],
   "source": [
    "max(person.values())"
   ]
  },
  {
   "cell_type": "code",
   "execution_count": 219,
   "metadata": {},
   "outputs": [
    {
     "data": {
      "text/plain": [
       "[(2, 1), (1, 2), (0, 3)]"
      ]
     },
     "execution_count": 219,
     "metadata": {},
     "output_type": "execute_result"
    }
   ],
   "source": [
    "inverse = [(value, key) for key, value in person.items()]\n",
    "inverse"
   ]
  },
  {
   "cell_type": "code",
   "execution_count": 218,
   "metadata": {},
   "outputs": [
    {
     "name": "stdout",
     "output_type": "stream",
     "text": [
      "(2, 1)\n"
     ]
    }
   ],
   "source": [
    "print(max(inverse))"
   ]
  },
  {
   "cell_type": "code",
   "execution_count": 250,
   "metadata": {
    "scrolled": true
   },
   "outputs": [
    {
     "data": {
      "text/plain": [
       "dict_items([(1, 1), (2, 1), (3, 1)])"
      ]
     },
     "execution_count": 250,
     "metadata": {},
     "output_type": "execute_result"
    }
   ],
   "source": [
    "person.items()"
   ]
  },
  {
   "cell_type": "code",
   "execution_count": 251,
   "metadata": {},
   "outputs": [
    {
     "data": {
      "text/plain": [
       "{1: 1, 2: 1, 3: 1}"
      ]
     },
     "execution_count": 251,
     "metadata": {},
     "output_type": "execute_result"
    }
   ],
   "source": [
    "person"
   ]
  },
  {
   "cell_type": "code",
   "execution_count": 252,
   "metadata": {},
   "outputs": [],
   "source": [
    "result = []\n",
    "i=0\n",
    "sort = sorted(person.items(), key=lambda x: -x[1])\n"
   ]
  },
  {
   "cell_type": "code",
   "execution_count": 253,
   "metadata": {},
   "outputs": [
    {
     "data": {
      "text/plain": [
       "[(1, 1), (2, 1), (3, 1)]"
      ]
     },
     "execution_count": 253,
     "metadata": {},
     "output_type": "execute_result"
    }
   ],
   "source": [
    "sort"
   ]
  },
  {
   "cell_type": "code",
   "execution_count": 239,
   "metadata": {},
   "outputs": [
    {
     "data": {
      "text/plain": [
       "[1, 2]"
      ]
     },
     "execution_count": 239,
     "metadata": {},
     "output_type": "execute_result"
    }
   ],
   "source": [
    "while sort[0][1] == sort[i][1]:\n",
    "    result.append(sort[i][0])\n",
    "    i += 1"
   ]
  },
  {
   "cell_type": "code",
   "execution_count": 254,
   "metadata": {},
   "outputs": [],
   "source": [
    "a = [1, 2, 3]"
   ]
  },
  {
   "cell_type": "code",
   "execution_count": 256,
   "metadata": {},
   "outputs": [
    {
     "data": {
      "text/plain": [
       "False"
      ]
     },
     "execution_count": 256,
     "metadata": {},
     "output_type": "execute_result"
    }
   ],
   "source": [
    "4 in a"
   ]
  },
  {
   "cell_type": "code",
   "execution_count": 258,
   "metadata": {},
   "outputs": [],
   "source": [
    "reserve = [1, 2, 3]\n",
    "answer = 0\n",
    "lost = [2, 4]\n",
    "for sn in reserve:\n",
    "        if (sn + 1) in lost | sn in lost | (sn - 1) in lost:\n",
    "            answer += 1"
   ]
  },
  {
   "cell_type": "code",
   "execution_count": 259,
   "metadata": {},
   "outputs": [
    {
     "data": {
      "text/plain": [
       "2"
      ]
     },
     "execution_count": 259,
     "metadata": {},
     "output_type": "execute_result"
    }
   ],
   "source": [
    "answer"
   ]
  },
  {
   "cell_type": "code",
   "execution_count": 262,
   "metadata": {},
   "outputs": [],
   "source": [
    "count = {\n",
    "    1: 2,\n",
    "    2: 2,\n",
    "    3: 1\n",
    "}\n",
    "sort = sorted(count.items(), key=lambda x: -x[1])"
   ]
  },
  {
   "cell_type": "code",
   "execution_count": 263,
   "metadata": {},
   "outputs": [
    {
     "data": {
      "text/plain": [
       "[(1, 2), (2, 2), (3, 1)]"
      ]
     },
     "execution_count": 263,
     "metadata": {},
     "output_type": "execute_result"
    }
   ],
   "source": [
    "sort"
   ]
  },
  {
   "cell_type": "code",
   "execution_count": 278,
   "metadata": {},
   "outputs": [],
   "source": [
    "df = pd.DataFrame([1, 2, 3])\n",
    "df.head()\n",
    "df.to_csv('./testmj.csv', index=False)\n"
   ]
  },
  {
   "cell_type": "code",
   "execution_count": 283,
   "metadata": {},
   "outputs": [
    {
     "data": {
      "text/plain": [
       "numpy.int64"
      ]
     },
     "execution_count": 283,
     "metadata": {},
     "output_type": "execute_result"
    }
   ],
   "source": [
    "type(df['0'].iloc[0])"
   ]
  },
  {
   "cell_type": "code",
   "execution_count": 279,
   "metadata": {},
   "outputs": [],
   "source": [
    "df = pd.read_csv('./testmj.csv')"
   ]
  },
  {
   "cell_type": "code",
   "execution_count": 280,
   "metadata": {},
   "outputs": [
    {
     "data": {
      "text/html": [
       "<div>\n",
       "<style scoped>\n",
       "    .dataframe tbody tr th:only-of-type {\n",
       "        vertical-align: middle;\n",
       "    }\n",
       "\n",
       "    .dataframe tbody tr th {\n",
       "        vertical-align: top;\n",
       "    }\n",
       "\n",
       "    .dataframe thead th {\n",
       "        text-align: right;\n",
       "    }\n",
       "</style>\n",
       "<table border=\"1\" class=\"dataframe\">\n",
       "  <thead>\n",
       "    <tr style=\"text-align: right;\">\n",
       "      <th></th>\n",
       "      <th>0</th>\n",
       "    </tr>\n",
       "  </thead>\n",
       "  <tbody>\n",
       "    <tr>\n",
       "      <th>0</th>\n",
       "      <td>1</td>\n",
       "    </tr>\n",
       "    <tr>\n",
       "      <th>1</th>\n",
       "      <td>2</td>\n",
       "    </tr>\n",
       "    <tr>\n",
       "      <th>2</th>\n",
       "      <td>3</td>\n",
       "    </tr>\n",
       "  </tbody>\n",
       "</table>\n",
       "</div>"
      ],
      "text/plain": [
       "   0\n",
       "0  1\n",
       "1  2\n",
       "2  3"
      ]
     },
     "execution_count": 280,
     "metadata": {},
     "output_type": "execute_result"
    }
   ],
   "source": [
    "df.head()"
   ]
  },
  {
   "cell_type": "code",
   "execution_count": null,
   "metadata": {},
   "outputs": [],
   "source": []
  }
 ],
 "metadata": {
  "kernelspec": {
   "display_name": "Python 3",
   "language": "python",
   "name": "python3"
  },
  "language_info": {
   "codemirror_mode": {
    "name": "ipython",
    "version": 3
   },
   "file_extension": ".py",
   "mimetype": "text/x-python",
   "name": "python",
   "nbconvert_exporter": "python",
   "pygments_lexer": "ipython3",
   "version": "3.7.0"
  }
 },
 "nbformat": 4,
 "nbformat_minor": 2
}
