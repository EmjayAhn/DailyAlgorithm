{
 "cells": [
  {
   "cell_type": "markdown",
   "metadata": {},
   "source": [
    "## 제한시간 1시간\n",
    "\n",
    "\n",
    "N개의 정수 요소를 가지는 리스트 A가 있습니다.   \n",
    "리스트A에서 가장 많이 등장하는 숫자가 전체에서 절반을 넘는다면,    \n",
    "그 숫자가 등장하는 index중 하나를 리턴하는 함수를 만드세요.    \n",
    "> 만약 절반넘게 등장하는 숫자가 없으면 -1을 리턴합니다    \n",
    "\n",
    "`def solution(A):`\n",
    "\n",
    "\n",
    "        \n",
    "  * A의 길이는 0부터 10만   \n",
    "  * 각각의 요소는 -20억부터 +20억까지의 숫자중 하나   \n",
    "  \n",
    "예 )\n",
    "\n",
    "`A = [3, 4, 3, 2, 3, -1, 3, 3]` 에서\n",
    "\n",
    "1. 가장 많이 등장하는 숫자는 3 \n",
    "2. 3은 총 5번 등장 \n",
    "3. 리스트의 요소 총 8개중에서 절반을 넘는다\n",
    "4. 리스트A에서 3의 인덱스인 `0`, `2`, `4`, `6`, `7` 중 하나를 리턴합니다.\n"
   ]
  },
  {
   "cell_type": "code",
   "execution_count": null,
   "metadata": {},
   "outputs": [],
   "source": [
    "#range(len()) : 금지!!!\n",
    "# 금지\n",
    "for i in range(len(A)):\n",
    "    pass\n",
    "#enumarte 사용!!!"
   ]
  },
  {
   "cell_type": "code",
   "execution_count": 3,
   "metadata": {},
   "outputs": [],
   "source": [
    "def solution(A):\n",
    "    for i, a in enumerate(A):\n",
    "        n = A.count(a)\n",
    "        if n > len(A) // 2:\n",
    "            return i\n",
    "    return -1"
   ]
  },
  {
   "cell_type": "code",
   "execution_count": 9,
   "metadata": {},
   "outputs": [
    {
     "data": {
      "text/plain": [
       "0"
      ]
     },
     "execution_count": 9,
     "metadata": {},
     "output_type": "execute_result"
    }
   ],
   "source": [
    "A = [3, 4, 3, 2, 3, -1, 3, 3]\n",
    "solution(A)"
   ]
  },
  {
   "cell_type": "code",
   "execution_count": 6,
   "metadata": {},
   "outputs": [],
   "source": [
    "# 안찍힘\n",
    "for a in []:\n",
    "    print(\"???????\")\n",
    "    "
   ]
  },
  {
   "cell_type": "markdown",
   "metadata": {},
   "source": [
    "- test 코드 : \n",
    "0. point 가 있는 곳\n",
    "1. 빈리스트\n",
    "2. - ~ + 범위가 나와있으면 0을 포함시켜보아라\n",
    "3. 절반씩 가지고 있는가\n",
    "4. 엄청 긴리스트 , 엄청 큰 값의 요소\n"
   ]
  },
  {
   "cell_type": "code",
   "execution_count": null,
   "metadata": {},
   "outputs": [],
   "source": [
    "def solution(A):\n",
    "    for i, a in enumerate(A):\n",
    "        n = A.count(a)\n",
    "        if n > len(A) // 2:\n",
    "            return i\n",
    "    return -1"
   ]
  },
  {
   "cell_type": "markdown",
   "metadata": {},
   "source": [
    "### map (key: value)\n",
    "- key 는 숫자\n",
    "- value는 인덱스와 카운트"
   ]
  },
  {
   "cell_type": "code",
   "execution_count": 7,
   "metadata": {},
   "outputs": [],
   "source": [
    "def solution(A):\n",
    "    counts = {}\n",
    "    for i, a in enumerate(A):\n",
    "        if not counts.get(a): #counts.get(a) is None:\n",
    "                              #is 연산자는 None 객체를 비교할때만 사용!\n",
    "            counts[a] = [i, 1] #[인덱스, 출현횟수]\n",
    "        else:\n",
    "            counts[a][1] += 1 #[인덱스, 기존출현횟수 + 1]\n",
    "        \n",
    "    if counts:\n",
    "        # 1. 가장 많이 나온 숫자\n",
    "        m = max(A, key=lambda x: counts[x][1])\n",
    "        \n",
    "        # 2. 절반보다 많이 등장했는가\n",
    "        if counts[m][1] > len(A) // 2:\n",
    "            return counts[m][0]\n",
    "    \n",
    "    return -1"
   ]
  },
  {
   "cell_type": "code",
   "execution_count": 10,
   "metadata": {
    "scrolled": true
   },
   "outputs": [
    {
     "data": {
      "text/plain": [
       "0"
      ]
     },
     "execution_count": 10,
     "metadata": {},
     "output_type": "execute_result"
    }
   ],
   "source": [
    "solution(A)"
   ]
  },
  {
   "cell_type": "markdown",
   "metadata": {},
   "source": [
    "- is 연산자는 None 객체를 비교할 때만 사용"
   ]
  },
  {
   "cell_type": "code",
   "execution_count": 13,
   "metadata": {},
   "outputs": [
    {
     "name": "stdout",
     "output_type": "stream",
     "text": [
      "a는 100\n"
     ]
    }
   ],
   "source": [
    "a = 100\n",
    "if a is 100:\n",
    "    print('a는 100')\n",
    "# 결과가 False 일때가 있음"
   ]
  },
  {
   "cell_type": "markdown",
   "metadata": {},
   "source": [
    "- is 연산자는 절대적 한 객체만 생성할 때 사용"
   ]
  },
  {
   "cell_type": "markdown",
   "metadata": {},
   "source": [
    "- 시간 복잡도 계산\n",
    "    - %%time 으로 계산"
   ]
  },
  {
   "cell_type": "markdown",
   "metadata": {},
   "source": [
    "## 제한시간 없음\n",
    "\n",
    "> 평가하지 않는 문제입니다. \n",
    "\n",
    "## 회문 \n",
    "\n",
    "문자열의 순서를 뒤집었을때도, 같은 문자를 회문이라고 합니다.\n",
    "갓 입사한 신입 개발자 김영태는 이러한 회문을 검증하는 함수를 만들라는 사수의 지시를 받았습니다.\n",
    "동시에 다음과 같은 불친절한(?) 같은 요구도 받았습니다.\n",
    "다음에 나오는 내용을 최대한 준수하며 코드를 작성하도록 해보세요.\n",
    "\n",
    "`def palindrome(string):`\n",
    "\n",
    "1. 회문이면 `True`, 아니면 `False`를 리턴하는 형태를 요구 받았다.\n",
    "1. 대소문자를 구문하지 않고 비교해야한다.\n",
    "2. 모든 특수문자들은 무시하고 비교해야한다.\n",
    "  1. \"무시하고자하는 특수문자는 하나하나 타이핑을 해서 코드에 때려박는 경우 신뢰성이 저하되지 않겠니?\" 라고 한다.\n",
    "  1. 그러니 \"`string`모듈에서 적절한 기능(속성)이 있는지 탐색해봐.\" 라고 지시 받았다.\n",
    "  1. 그러면서 \"문자를 제거할때 replace처럼 하나하나 제거하는것보다 한번에 지우는 방법은 없을까? 찾아보고 있으면 해보고 알려줘\" 라는 이야기도 들었다. \n",
    "3. 가능한 빠르게 결론을 내려야한다.\n",
    "  1. 문자열을 다 뒤집고 비교하지말고, 전부 뒤집기 전에 결론을 내라고 한다.\n",
    "  \n"
   ]
  },
  {
   "cell_type": "code",
   "execution_count": 14,
   "metadata": {},
   "outputs": [],
   "source": [
    "# 복잡도 : step -1 이면 O(n)\n",
    "def palindrome(string):\n",
    "    return string == string[::-1]"
   ]
  },
  {
   "cell_type": "markdown",
   "metadata": {},
   "source": [
    "- list 의 길이는 O(1)"
   ]
  },
  {
   "cell_type": "code",
   "execution_count": null,
   "metadata": {},
   "outputs": [],
   "source": [
    "def palindrome(string):\n",
    "    string = string.lower()\n",
    "    for c in punctuation:\n",
    "        string.replace(c, '')"
   ]
  },
  {
   "cell_type": "code",
   "execution_count": 15,
   "metadata": {},
   "outputs": [
    {
     "data": {
      "text/plain": [
       "['Formatter',\n",
       " 'Template',\n",
       " '_ChainMap',\n",
       " '_TemplateMetaclass',\n",
       " '__all__',\n",
       " '__builtins__',\n",
       " '__cached__',\n",
       " '__doc__',\n",
       " '__file__',\n",
       " '__loader__',\n",
       " '__name__',\n",
       " '__package__',\n",
       " '__spec__',\n",
       " '_re',\n",
       " '_string',\n",
       " 'ascii_letters',\n",
       " 'ascii_lowercase',\n",
       " 'ascii_uppercase',\n",
       " 'capwords',\n",
       " 'digits',\n",
       " 'hexdigits',\n",
       " 'octdigits',\n",
       " 'printable',\n",
       " 'punctuation',\n",
       " 'whitespace']"
      ]
     },
     "execution_count": 15,
     "metadata": {},
     "output_type": "execute_result"
    }
   ],
   "source": [
    "import string\n",
    "dir(string)"
   ]
  },
  {
   "cell_type": "code",
   "execution_count": 19,
   "metadata": {
    "scrolled": false
   },
   "outputs": [
    {
     "data": {
      "text/plain": [
       "('abcdefghijklmnopqrstuvwxyzABCDEFGHIJKLMNOPQRSTUVWXYZ',\n",
       " 'abcdefghijklmnopqrstuvwxyz',\n",
       " 'ABCDEFGHIJKLMNOPQRSTUVWXYZ',\n",
       " '!\"#$%&\\'()*+,-./:;<=>?@[\\\\]^_`{|}~',\n",
       " '0123456789abcdefABCDEF')"
      ]
     },
     "execution_count": 19,
     "metadata": {},
     "output_type": "execute_result"
    }
   ],
   "source": [
    "string.ascii_letters, string.ascii_lowercase, string.ascii_uppercase, string.punctuation, string.hexdigits"
   ]
  },
  {
   "cell_type": "code",
   "execution_count": 35,
   "metadata": {},
   "outputs": [],
   "source": [
    "from string import punctuation\n",
    "def palindrome(string):\n",
    "    string = string.lower()\n",
    "    string = string.translate(str.maketrans(punctuation, ' '*len(punctuation)))\n",
    "    string = string.replace(' ', '')\n",
    "    \n",
    "    for index, _ in enumerate(string[:len(string)//2]):\n",
    "        if string[index] != string[len(string)-index-1]:\n",
    "            return False\n",
    "    return True"
   ]
  },
  {
   "cell_type": "code",
   "execution_count": 37,
   "metadata": {},
   "outputs": [
    {
     "data": {
      "text/plain": [
       "True"
      ]
     },
     "execution_count": 37,
     "metadata": {},
     "output_type": "execute_result"
    }
   ],
   "source": [
    "palindrome('bcb.')"
   ]
  },
  {
   "cell_type": "code",
   "execution_count": 27,
   "metadata": {},
   "outputs": [
    {
     "name": "stdout",
     "output_type": "stream",
     "text": [
      "ljks     dlkfj\n"
     ]
    }
   ],
   "source": [
    "palindrome('ljks...\"\"dlkfj')"
   ]
  },
  {
   "cell_type": "code",
   "execution_count": null,
   "metadata": {},
   "outputs": [],
   "source": [
    "from string import punctuation\n",
    "def palindrome(string):\n",
    "    string = string.lower()\n",
    "    string = string.translate(str.maketrans(punctuation, ' '*len(punctuation)))\n",
    "    string = string.replace(' ', '')\n",
    "    "
   ]
  },
  {
   "cell_type": "code",
   "execution_count": 20,
   "metadata": {
    "scrolled": true
   },
   "outputs": [
    {
     "name": "stdout",
     "output_type": "stream",
     "text": [
      "Help on method_descriptor:\n",
      "\n",
      "translate(self, table, /)\n",
      "    Replace each character in the string using the given translation table.\n",
      "    \n",
      "      table\n",
      "        Translation table, which must be a mapping of Unicode ordinals to\n",
      "        Unicode ordinals, strings, or None.\n",
      "    \n",
      "    The table must implement lookup/indexing via __getitem__, for instance a\n",
      "    dictionary or list.  If this operation raises LookupError, the character is\n",
      "    left untouched.  Characters mapped to None are deleted.\n",
      "\n"
     ]
    }
   ],
   "source": [
    "help(str.translate)"
   ]
  },
  {
   "cell_type": "code",
   "execution_count": null,
   "metadata": {},
   "outputs": [],
   "source": [
    "'asdfkljlkj;sdfbxmnloekjf'.translate({ord('a'): ord('z'), ord('b'): ord('x')})"
   ]
  },
  {
   "cell_type": "code",
   "execution_count": 22,
   "metadata": {},
   "outputs": [
    {
     "data": {
      "text/plain": [
       "{97: 122, 98: 120}"
      ]
     },
     "execution_count": 22,
     "metadata": {},
     "output_type": "execute_result"
    }
   ],
   "source": [
    "str.maketrans('ab', 'zx')"
   ]
  },
  {
   "cell_type": "code",
   "execution_count": 21,
   "metadata": {},
   "outputs": [
    {
     "data": {
      "text/plain": [
       "'skdjfksjdxfx29fsdjfnjns'"
      ]
     },
     "execution_count": 21,
     "metadata": {},
     "output_type": "execute_result"
    }
   ],
   "source": [
    "'skdjfksjdbfb29fsdjfnjns'.translate(str.maketrans('ab', 'zx'))"
   ]
  },
  {
   "cell_type": "code",
   "execution_count": 17,
   "metadata": {},
   "outputs": [
    {
     "name": "stdout",
     "output_type": "stream",
     "text": [
      "The Zen of Python, by Tim Peters\n",
      "\n",
      "Beautiful is better than ugly.\n",
      "Explicit is better than implicit.\n",
      "Simple is better than complex.\n",
      "Complex is better than complicated.\n",
      "Flat is better than nested.\n",
      "Sparse is better than dense.\n",
      "Readability counts.\n",
      "Special cases aren't special enough to break the rules.\n",
      "Although practicality beats purity.\n",
      "Errors should never pass silently.\n",
      "Unless explicitly silenced.\n",
      "In the face of ambiguity, refuse the temptation to guess.\n",
      "There should be one-- and preferably only one --obvious way to do it.\n",
      "Although that way may not be obvious at first unless you're Dutch.\n",
      "Now is better than never.\n",
      "Although never is often better than *right* now.\n",
      "If the implementation is hard to explain, it's a bad idea.\n",
      "If the implementation is easy to explain, it may be a good idea.\n",
      "Namespaces are one honking great idea -- let's do more of those!\n"
     ]
    }
   ],
   "source": [
    "import this"
   ]
  },
  {
   "cell_type": "code",
   "execution_count": 44,
   "metadata": {},
   "outputs": [],
   "source": [
    "from string import punctuation\n",
    "def palindrome(string):\n",
    "    string = string.lower()\n",
    "    string = string.translate(str.maketrans(punctuation, ' '*len(punctuation)))\n",
    "    string = string.replace(' ', '')\n",
    "    \n",
    "    for index, _ in enumerate(string[:len(string)//2]):\n",
    "        if string[index] != string[len(string)-index-1]:\n",
    "            return False\n",
    "    return True"
   ]
  },
  {
   "cell_type": "code",
   "execution_count": 45,
   "metadata": {},
   "outputs": [
    {
     "data": {
      "text/plain": [
       "False"
      ]
     },
     "execution_count": 45,
     "metadata": {},
     "output_type": "execute_result"
    }
   ],
   "source": [
    "palindrome('dflskdfj.1')"
   ]
  },
  {
   "cell_type": "code",
   "execution_count": 46,
   "metadata": {},
   "outputs": [],
   "source": [
    "def my_all(inputs):\n",
    "    result = True\n",
    "    for input in inputs:\n",
    "        if not result:\n",
    "            return result\n",
    "        result = result & input\n",
    "    return result"
   ]
  },
  {
   "cell_type": "code",
   "execution_count": 49,
   "metadata": {},
   "outputs": [
    {
     "data": {
      "text/plain": [
       "False"
      ]
     },
     "execution_count": 49,
     "metadata": {},
     "output_type": "execute_result"
    }
   ],
   "source": [
    "my_all([True, False, True])"
   ]
  },
  {
   "cell_type": "code",
   "execution_count": null,
   "metadata": {},
   "outputs": [],
   "source": [
    "def my_any(inputs):\n",
    "    result = False\n",
    "    for input in inputs:\n",
    "        if result:\n",
    "            return result\n",
    "        result = result | input\n",
    "    return result"
   ]
  },
  {
   "cell_type": "code",
   "execution_count": 53,
   "metadata": {},
   "outputs": [],
   "source": [
    "def to_csv(dict_list):\n",
    "    data = \"\"\n",
    "    #Column name 생성\n",
    "    for index, name in enumerate(dict_list[0].keys()):\n",
    "        if index < (len(dict_list[0]) - 1):\n",
    "            data += str(name) + \", \"\n",
    "        else:\n",
    "            data += str(name) + \"\\n\"\n",
    "\n",
    "    #Data 쓰기\n",
    "    for element in dict_list:\n",
    "        for index, item in enumerate(element.values()):\n",
    "            if index < (len(element) - 1):\n",
    "                data += str(item) + \", \"\n",
    "            else:\n",
    "                data += str(item) + \"\\n\"\n",
    "\n",
    "    #csv format 으로 file write\n",
    "    with open(\"./to_csv.csv\", 'w') as f:\n",
    "        f.write(data)\n",
    "        f.close()"
   ]
  },
  {
   "cell_type": "code",
   "execution_count": 54,
   "metadata": {},
   "outputs": [],
   "source": [
    "to_csv(a)"
   ]
  },
  {
   "cell_type": "code",
   "execution_count": null,
   "metadata": {},
   "outputs": [],
   "source": []
  }
 ],
 "metadata": {
  "kernelspec": {
   "display_name": "Python 3",
   "language": "python",
   "name": "python3"
  },
  "language_info": {
   "codemirror_mode": {
    "name": "ipython",
    "version": 3
   },
   "file_extension": ".py",
   "mimetype": "text/x-python",
   "name": "python",
   "nbconvert_exporter": "python",
   "pygments_lexer": "ipython3",
   "version": "3.7.0"
  }
 },
 "nbformat": 4,
 "nbformat_minor": 2
}
