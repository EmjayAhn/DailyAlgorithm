{
 "cells": [
  {
   "cell_type": "markdown",
   "metadata": {},
   "source": [
    "# 누적합\n",
    "\n",
    "길이가 N인 리스트에서 누적합을 구해서 리턴하는 함수를 구하세요.\n",
    "1부터 N까지 숫자로 이뤄진 길이가 N인 리스트와, 구하려는 누적합의 시작하는 지점과 끝나는 지점을 담은 M개의 쿼리 데이터를 받습니다.\n",
    "\n",
    "```\n",
    "N = 5\n",
    "M = 5\n",
    "data = [10, 20, 30, 40, 50]\n",
    "queries = [[1, 3], [2, 4], [3, 5], [1, 5], [4, 4]]\n",
    "```\n",
    "일때 결과는\n",
    "\n",
    "data에서\n",
    "* 1번째부터 3번째까지의 누적합 : 60\n",
    "* 2번째부터 4번째까지의 누적합 : 90\n",
    "* 3번째부터 5번째까지의 누적합 : 120\n",
    "* 1번째부터 5번째까지의 누적합 : 150\n",
    "* 4번째부터 4번째까지의 누적합 : 40\n",
    "\n",
    "즉 `[60, 90, 120, 150, 40]`을 리턴합니다.\n",
    "\n",
    "**조건**\n",
    "\n",
    "`def solution(data, queries):`\n",
    "\n",
    "\n",
    "N은 data의 길이, data요소의 최대값\n",
    "\n",
    "`1<=N<=십만`\n",
    "\n",
    "\n",
    "M은 queries의 길이\n",
    "\n",
    "`1<=M<=만`\n"
   ]
  },
  {
   "cell_type": "code",
   "execution_count": 4,
   "metadata": {},
   "outputs": [
    {
     "data": {
      "text/plain": [
       "1"
      ]
     },
     "execution_count": 4,
     "metadata": {},
     "output_type": "execute_result"
    }
   ],
   "source": [
    "a = [1, 2, 3, 4]\n",
    "sum(a[0:1])"
   ]
  },
  {
   "cell_type": "code",
   "execution_count": 18,
   "metadata": {},
   "outputs": [],
   "source": [
    "def solution(data, queries):\n",
    "    total_sum = sum(data)\n",
    "    return_list = list()\n",
    "    \n",
    "    for query in queries:\n",
    "        answer = total_sum - (sum(data[:query[0]-1]) + sum(data[query[1]:]))\n",
    "        return_list.append(answer)\n",
    "        \n",
    "    return return_list"
   ]
  },
  {
   "cell_type": "markdown",
   "metadata": {},
   "source": [
    "# NumberPalindrome\n",
    "\n",
    "\n",
    "0 에서 `10**n-1` 사이의 정수 `10**n` 개 중에서, \n",
    "그냥 보았을때, 그리고 역순으로 뒤집어서 보았을때 같은 숫자를 카운트 하는 함수를 작성하세요.\n",
    "\n",
    "**조건**\n",
    "\n",
    "`def solution(n):`\n",
    "\n",
    "n은 1부터 1000까지 정수중 하나\n",
    "\n",
    "**예**\n",
    "n = 1 인 경우 0부터 `10**`까지 즉 10까지 숫자중 회문이 성립하는 순자의 갯수를 카운트\n",
    "\n",
    "`1, 2, 3, 4, 5, 6, 7, 8, 9` 이 성립 \n",
    "\n",
    "10을 리턴\n",
    "\n",
    "----\n",
    "\n",
    "뒤집어도 같은 정수란 3, 44, 12321 과 같은 정수들을 뜻합니다."
   ]
  },
  {
   "cell_type": "code",
   "execution_count": 25,
   "metadata": {},
   "outputs": [],
   "source": [
    "def solution(n):\n",
    "    number_of_digit = [i+1 for i in range(n)]\n",
    "    answer = 0\n",
    "    for digit in number_of_digit:\n",
    "        if digit%2 == 1:\n",
    "            mok = digit // 2\n",
    "            if mok == 0:\n",
    "                result = 10\n",
    "            else:\n",
    "                result = 9*(10**mok)\n",
    "        else:\n",
    "            mok = digit // 2\n",
    "            result = 9*(10**(mok-1))\n",
    "        answer += result\n",
    "    return answer\n",
    "    "
   ]
  },
  {
   "cell_type": "code",
   "execution_count": 28,
   "metadata": {},
   "outputs": [
    {
     "data": {
      "text/plain": [
       "109"
      ]
     },
     "execution_count": 28,
     "metadata": {},
     "output_type": "execute_result"
    }
   ],
   "source": [
    "solution(3)"
   ]
  }
 ],
 "metadata": {
  "kernelspec": {
   "display_name": "Python 3",
   "language": "python",
   "name": "python3"
  },
  "language_info": {
   "codemirror_mode": {
    "name": "ipython",
    "version": 3
   },
   "file_extension": ".py",
   "mimetype": "text/x-python",
   "name": "python",
   "nbconvert_exporter": "python",
   "pygments_lexer": "ipython3",
   "version": "3.7.0"
  }
 },
 "nbformat": 4,
 "nbformat_minor": 2
}
