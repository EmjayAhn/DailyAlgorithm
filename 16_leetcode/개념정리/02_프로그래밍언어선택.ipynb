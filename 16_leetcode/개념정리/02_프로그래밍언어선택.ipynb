{
 "cells": [
  {
   "cell_type": "markdown",
   "metadata": {
    "collapsed": true,
    "pycharm": {
     "name": "#%% md\n"
    }
   },
   "source": [
    "# 2장 : 프로그래밍 언어 선택\n",
    "- 수도코드 (Pseudo-Code)\n",
    "    - 좋은 수도코드 예제 : CLRS의 [Introduction to Algorithms] (한빛아카데미, 2014)\n",
    "- 프로그래밍 언어 선호도\n",
    "    - Google : C++ > Python > Java\n",
    "    - KaKao : Java > C++ > Python > JavaScript"
   ]
  },
  {
   "cell_type": "code",
   "execution_count": null,
   "outputs": [],
   "source": [],
   "metadata": {
    "collapsed": false,
    "pycharm": {
     "name": "#%%\n"
    }
   }
  }
 ],
 "metadata": {
  "kernelspec": {
   "display_name": "Python 3",
   "language": "python",
   "name": "python3"
  },
  "language_info": {
   "codemirror_mode": {
    "name": "ipython",
    "version": 2
   },
   "file_extension": ".py",
   "mimetype": "text/x-python",
   "name": "python",
   "nbconvert_exporter": "python",
   "pygments_lexer": "ipython2",
   "version": "2.7.6"
  }
 },
 "nbformat": 4,
 "nbformat_minor": 0
}