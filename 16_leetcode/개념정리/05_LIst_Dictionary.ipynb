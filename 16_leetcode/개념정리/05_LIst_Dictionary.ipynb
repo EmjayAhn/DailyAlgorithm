{
 "cells": [
  {
   "cell_type": "markdown",
   "metadata": {
    "collapsed": true,
    "pycharm": {
     "name": "#%% md\n"
    }
   },
   "source": [
    "# 5장 : 리스트, 딕셔너리"
   ]
  },
  {
   "cell_type": "markdown",
   "source": [
    "## 리스트 : List\n",
    "- Sequence, Mutable List\n",
    "- 입력순서가 유지, 내부적으로는 동적 배열로 구현\n",
    "    - Python : list()\n",
    "    - C++ : std::vector\n",
    "    - Java : ArrayList\n",
    "- 리스트를 사용하면, 사실상 스택과 큐를 고민하지 않아도 됨"
   ],
   "metadata": {
    "collapsed": false,
    "pycharm": {
     "name": "#%% md\n"
    }
   }
  },
  {
   "cell_type": "markdown",
   "source": [
    "### 리스트의 활용 방법"
   ],
   "metadata": {
    "collapsed": false,
    "pycharm": {
     "name": "#%% md\n"
    }
   }
  },
  {
   "cell_type": "code",
   "execution_count": 1,
   "outputs": [
    {
     "name": "stdout",
     "output_type": "stream",
     "text": [
      "[1, 2, 3, 4]\n",
      "[1, 2, 3, 5, 4]\n"
     ]
    }
   ],
   "source": [
    "# insert\n",
    "a = [1, 2, 3]\n",
    "a.append(4)\n",
    "print(a)\n",
    "a.insert(3, 5)\n",
    "print(a)"
   ],
   "metadata": {
    "collapsed": false,
    "pycharm": {
     "name": "#%%\n"
    }
   }
  },
  {
   "cell_type": "code",
   "execution_count": 2,
   "outputs": [
    {
     "ename": "IndexError",
     "evalue": "list index out of range",
     "output_type": "error",
     "traceback": [
      "\u001B[0;31m---------------------------------------------------------------------------\u001B[0m",
      "\u001B[0;31mIndexError\u001B[0m                                Traceback (most recent call last)",
      "\u001B[0;32m/var/folders/n3/tyz8rmjn4_v5fk7k4vy5_jpm0000gn/T/ipykernel_22818/377904303.py\u001B[0m in \u001B[0;36m<module>\u001B[0;34m\u001B[0m\n\u001B[1;32m      1\u001B[0m \u001B[0;31m# list IndexError\u001B[0m\u001B[0;34m\u001B[0m\u001B[0;34m\u001B[0m\u001B[0m\n\u001B[0;32m----> 2\u001B[0;31m \u001B[0ma\u001B[0m\u001B[0;34m[\u001B[0m\u001B[0;36m5\u001B[0m\u001B[0;34m]\u001B[0m\u001B[0;34m\u001B[0m\u001B[0;34m\u001B[0m\u001B[0m\n\u001B[0m",
      "\u001B[0;31mIndexError\u001B[0m: list index out of range"
     ]
    }
   ],
   "source": [
    "# list IndexError\n",
    "a[5]"
   ],
   "metadata": {
    "collapsed": false,
    "pycharm": {
     "name": "#%%\n"
    }
   }
  },
  {
   "cell_type": "code",
   "execution_count": 3,
   "outputs": [
    {
     "name": "stdout",
     "output_type": "stream",
     "text": [
      "Out of Index\n"
     ]
    }
   ],
   "source": [
    "# list IndexError 예외처리\n",
    "try:\n",
    "    print(a[5])\n",
    "except IndexError:\n",
    "    print(\"Out of Index\")"
   ],
   "metadata": {
    "collapsed": false,
    "pycharm": {
     "name": "#%%\n"
    }
   }
  },
  {
   "cell_type": "markdown",
   "source": [
    "- list 요소 삭제 방법\n",
    "    1. Index로 삭제\n",
    "    2. 값으로 삭제"
   ],
   "metadata": {
    "collapsed": false,
    "pycharm": {
     "name": "#%% md\n"
    }
   }
  },
  {
   "cell_type": "code",
   "execution_count": 4,
   "outputs": [
    {
     "name": "stdout",
     "output_type": "stream",
     "text": [
      "['0_hi', '2_bye']\n",
      "['0_hi']\n"
     ]
    }
   ],
   "source": [
    "# 1. Index 로 삭제\n",
    "b = ['0_hi', '1_hello', '2_bye']\n",
    "del b[1]\n",
    "print(b)\n",
    "\n",
    "# 2. 값으로 삭제\n",
    "b.remove('2_bye')\n",
    "print(b)"
   ],
   "metadata": {
    "collapsed": false,
    "pycharm": {
     "name": "#%%\n"
    }
   }
  },
  {
   "cell_type": "code",
   "execution_count": null,
   "outputs": [],
   "source": [],
   "metadata": {
    "collapsed": false,
    "pycharm": {
     "name": "#%%\n"
    }
   }
  }
 ],
 "metadata": {
  "kernelspec": {
   "display_name": "Python 3",
   "language": "python",
   "name": "python3"
  },
  "language_info": {
   "codemirror_mode": {
    "name": "ipython",
    "version": 2
   },
   "file_extension": ".py",
   "mimetype": "text/x-python",
   "name": "python",
   "nbconvert_exporter": "python",
   "pygments_lexer": "ipython2",
   "version": "2.7.6"
  }
 },
 "nbformat": 4,
 "nbformat_minor": 0
}