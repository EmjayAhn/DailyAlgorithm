{
 "cells": [
  {
   "cell_type": "markdown",
   "metadata": {
    "collapsed": true,
    "pycharm": {
     "name": "#%% md\n"
    }
   },
   "source": [
    "# 5장 : 리스트, 딕셔너리"
   ]
  },
  {
   "cell_type": "markdown",
   "source": [
    "## 리스트 : List\n",
    "- Sequence, Mutable List\n",
    "- 입력순서가 유지, 내부적으로는 동적 배열로 구현\n",
    "    - Python : list()\n",
    "    - C++ : std::vector\n",
    "    - Java : ArrayList\n",
    "- 리스트를 사용하면, 사실상 스택과 큐를 고민하지 않아도 됨"
   ],
   "metadata": {
    "collapsed": false,
    "pycharm": {
     "name": "#%% md\n"
    }
   }
  },
  {
   "cell_type": "markdown",
   "source": [
    "### 리스트의 활용 방법"
   ],
   "metadata": {
    "collapsed": false,
    "pycharm": {
     "name": "#%% md\n"
    }
   }
  },
  {
   "cell_type": "code",
   "execution_count": 1,
   "outputs": [
    {
     "name": "stdout",
     "output_type": "stream",
     "text": [
      "[1, 2, 3, 4]\n",
      "[1, 2, 3, 5, 4]\n"
     ]
    }
   ],
   "source": [
    "# insert\n",
    "a = [1, 2, 3]\n",
    "a.append(4)\n",
    "print(a)\n",
    "a.insert(3, 5)\n",
    "print(a)"
   ],
   "metadata": {
    "collapsed": false,
    "pycharm": {
     "name": "#%%\n"
    }
   }
  },
  {
   "cell_type": "code",
   "execution_count": 2,
   "outputs": [
    {
     "ename": "IndexError",
     "evalue": "list index out of range",
     "output_type": "error",
     "traceback": [
      "\u001B[0;31m---------------------------------------------------------------------------\u001B[0m",
      "\u001B[0;31mIndexError\u001B[0m                                Traceback (most recent call last)",
      "\u001B[0;32m/var/folders/n3/tyz8rmjn4_v5fk7k4vy5_jpm0000gn/T/ipykernel_23982/377904303.py\u001B[0m in \u001B[0;36m<module>\u001B[0;34m\u001B[0m\n\u001B[1;32m      1\u001B[0m \u001B[0;31m# list IndexError\u001B[0m\u001B[0;34m\u001B[0m\u001B[0;34m\u001B[0m\u001B[0m\n\u001B[0;32m----> 2\u001B[0;31m \u001B[0ma\u001B[0m\u001B[0;34m[\u001B[0m\u001B[0;36m5\u001B[0m\u001B[0;34m]\u001B[0m\u001B[0;34m\u001B[0m\u001B[0;34m\u001B[0m\u001B[0m\n\u001B[0m",
      "\u001B[0;31mIndexError\u001B[0m: list index out of range"
     ]
    }
   ],
   "source": [
    "# list IndexError\n",
    "a[5]"
   ],
   "metadata": {
    "collapsed": false,
    "pycharm": {
     "name": "#%%\n"
    }
   }
  },
  {
   "cell_type": "code",
   "execution_count": 3,
   "outputs": [
    {
     "name": "stdout",
     "output_type": "stream",
     "text": [
      "Out of Index\n"
     ]
    }
   ],
   "source": [
    "# list IndexError 예외처리\n",
    "try:\n",
    "    print(a[5])\n",
    "except IndexError:\n",
    "    print(\"Out of Index\")"
   ],
   "metadata": {
    "collapsed": false,
    "pycharm": {
     "name": "#%%\n"
    }
   }
  },
  {
   "cell_type": "markdown",
   "source": [
    "- list 요소 삭제 방법\n",
    "    1. Index로 삭제\n",
    "    2. 값으로 삭제"
   ],
   "metadata": {
    "collapsed": false,
    "pycharm": {
     "name": "#%% md\n"
    }
   }
  },
  {
   "cell_type": "code",
   "execution_count": 4,
   "outputs": [
    {
     "name": "stdout",
     "output_type": "stream",
     "text": [
      "['0_hi', '2_bye']\n",
      "['0_hi']\n"
     ]
    }
   ],
   "source": [
    "# 1. Index 로 삭제\n",
    "b = ['0_hi', '1_hello', '2_bye']\n",
    "del b[1]\n",
    "print(b)\n",
    "\n",
    "# 2. 값으로 삭제\n",
    "b.remove('2_bye')\n",
    "print(b)"
   ],
   "metadata": {
    "collapsed": false,
    "pycharm": {
     "name": "#%%\n"
    }
   }
  },
  {
   "cell_type": "markdown",
   "source": [
    "## 딕셔너리\n",
    "- 파이썬의 딕셔너리는 키/값 구조로 이뤄진 딕셔너리\n",
    "- 파이썬 3.7+ 에서는 입력 순서가 유지됨\n",
    "    - 파이썬 버전을 생각하지 않고 하기 위해, 일반적으로 입력 순서가 유지 될 것이라는 가정은 좋지 않음\n",
    "    - 이 문제를 해결하기 위해, collections.OrderedDict() 를 사용\n",
    "    - 파이썬 3.6* : 딕셔너리 메모리 사용량 20% 감소\n",
    "    - 파이썬 3.7+ : 딕셔너리 입력 순서 유지\n",
    "- 내부적으로는 해쉬테이블 형태로 구현"
   ],
   "metadata": {
    "collapsed": false,
    "pycharm": {
     "name": "#%% md\n"
    }
   }
  },
  {
   "cell_type": "markdown",
   "source": [
    "### 딕셔너리 활용 방법"
   ],
   "metadata": {
    "collapsed": false,
    "pycharm": {
     "name": "#%% md\n"
    }
   }
  },
  {
   "cell_type": "code",
   "execution_count": 5,
   "outputs": [
    {
     "name": "stdout",
     "output_type": "stream",
     "text": [
      "{'key1': 'value1', 'key2': 'value2'}\n",
      "{'key1': 'value1', 'key2': 'value2', 'key3': 'value3'}\n"
     ]
    }
   ],
   "source": [
    "a = {'key1': 'value1',\n",
    "     'key2': 'value2'}\n",
    "print(a)\n",
    "\n",
    "a['key3'] = 'value3'\n",
    "print(a)"
   ],
   "metadata": {
    "collapsed": false,
    "pycharm": {
     "name": "#%%\n"
    }
   }
  },
  {
   "cell_type": "code",
   "execution_count": 6,
   "outputs": [
    {
     "ename": "KeyError",
     "evalue": "'key4'",
     "output_type": "error",
     "traceback": [
      "\u001B[0;31m---------------------------------------------------------------------------\u001B[0m",
      "\u001B[0;31mKeyError\u001B[0m                                  Traceback (most recent call last)",
      "\u001B[0;32m/var/folders/n3/tyz8rmjn4_v5fk7k4vy5_jpm0000gn/T/ipykernel_23982/3159231579.py\u001B[0m in \u001B[0;36m<module>\u001B[0;34m\u001B[0m\n\u001B[1;32m      1\u001B[0m \u001B[0;31m# KeyError\u001B[0m\u001B[0;34m\u001B[0m\u001B[0;34m\u001B[0m\u001B[0m\n\u001B[0;32m----> 2\u001B[0;31m \u001B[0ma\u001B[0m\u001B[0;34m[\u001B[0m\u001B[0;34m'key4'\u001B[0m\u001B[0;34m]\u001B[0m\u001B[0;34m\u001B[0m\u001B[0;34m\u001B[0m\u001B[0m\n\u001B[0m",
      "\u001B[0;31mKeyError\u001B[0m: 'key4'"
     ]
    }
   ],
   "source": [
    "# KeyError\n",
    "a['key4']"
   ],
   "metadata": {
    "collapsed": false,
    "pycharm": {
     "name": "#%%\n"
    }
   }
  },
  {
   "cell_type": "code",
   "execution_count": 7,
   "outputs": [
    {
     "name": "stdout",
     "output_type": "stream",
     "text": [
      "Out of Key\n",
      "Out of Key\n"
     ]
    }
   ],
   "source": [
    "# KeyError 예외처리\n",
    "try:\n",
    "    print(a['key4'])\n",
    "except KeyError:\n",
    "    print(\"Out of Key\")\n",
    "\n",
    "# KeyError 예외처리\n",
    "if 'key4' in a:\n",
    "    print(\"Key4 is here\")\n",
    "else:\n",
    "    print(\"Out of Key\")"
   ],
   "metadata": {
    "collapsed": false,
    "pycharm": {
     "name": "#%%\n"
    }
   }
  },
  {
   "cell_type": "code",
   "execution_count": 8,
   "outputs": [
    {
     "name": "stdout",
     "output_type": "stream",
     "text": [
      "key1 value1\n",
      "key2 value2\n",
      "key3 value3\n"
     ]
    }
   ],
   "source": [
    "# call key value\n",
    "for key, value in a.items():\n",
    "    print(key, value)"
   ],
   "metadata": {
    "collapsed": false,
    "pycharm": {
     "name": "#%%\n"
    }
   }
  },
  {
   "cell_type": "markdown",
   "source": [
    "## 딕셔너리 모듈\n",
    "- 딕셔너리와 관련된 형태의 컨테이너 자료형\n",
    "    - defaultdict, Counter, OrderedDict"
   ],
   "metadata": {
    "collapsed": false,
    "pycharm": {
     "name": "#%% md\n"
    }
   }
  },
  {
   "cell_type": "markdown",
   "source": [
    "### defaultdict 객체"
   ],
   "metadata": {
    "collapsed": false,
    "pycharm": {
     "name": "#%% md\n"
    }
   }
  },
  {
   "cell_type": "code",
   "execution_count": null,
   "outputs": [],
   "source": [],
   "metadata": {
    "collapsed": false,
    "pycharm": {
     "name": "#%%\n"
    }
   }
  }
 ],
 "metadata": {
  "kernelspec": {
   "display_name": "Python 3",
   "language": "python",
   "name": "python3"
  },
  "language_info": {
   "codemirror_mode": {
    "name": "ipython",
    "version": 2
   },
   "file_extension": ".py",
   "mimetype": "text/x-python",
   "name": "python",
   "nbconvert_exporter": "python",
   "pygments_lexer": "ipython2",
   "version": "2.7.6"
  }
 },
 "nbformat": 4,
 "nbformat_minor": 0
}