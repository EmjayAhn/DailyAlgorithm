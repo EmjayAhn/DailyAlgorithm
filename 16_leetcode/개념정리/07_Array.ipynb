{
 "cells": [
  {
   "cell_type": "markdown",
   "metadata": {
    "collapsed": true,
    "pycharm": {
     "name": "#%% md\n"
    }
   },
   "source": [
    "# Chapter 7 : Array"
   ]
  },
  {
   "cell_type": "markdown",
   "source": [
    "### Question 7. 두 수의 합\n",
    "- 덧셈하여 타겟을 만들 수 있는 배열의 두 숫자 인덱스를 리턴하라.\n",
    "- 입력\n",
    "nums = [2, 7, 11, 15], target = 9\n",
    "- 출력\n",
    "[0, 1]"
   ],
   "metadata": {
    "collapsed": false,
    "pycharm": {
     "name": "#%% md\n"
    }
   }
  },
  {
   "cell_type": "markdown",
   "source": [
    "- 브루트 포스 : 무차별 대입 방식\n",
    "- 비효율적인 풀이\n",
    "- 시간복잡도 O(n^2)"
   ],
   "metadata": {
    "collapsed": false,
    "pycharm": {
     "name": "#%% md\n"
    }
   }
  },
  {
   "cell_type": "code",
   "execution_count": 2,
   "outputs": [
    {
     "data": {
      "text/plain": "[0, 1]"
     },
     "execution_count": 2,
     "metadata": {},
     "output_type": "execute_result"
    }
   ],
   "source": [
    "# 풀이 1 : 브루트 포스\n",
    "def twosum(nums: list[int], target: int) -> list[int]:\n",
    "    for index_i in range(len(nums)):\n",
    "        for index_j in range(index_i+1, len(nums)+1):\n",
    "            if nums[index_i] + nums[index_j] == target:\n",
    "                return [index_i, index_j]\n",
    "\n",
    "twosum([2, 7, 11, 15], 9)"
   ],
   "metadata": {
    "collapsed": false,
    "pycharm": {
     "name": "#%%\n"
    }
   }
  },
  {
   "cell_type": "code",
   "execution_count": null,
   "outputs": [],
   "source": [],
   "metadata": {
    "collapsed": false,
    "pycharm": {
     "name": "#%%\n"
    }
   }
  }
 ],
 "metadata": {
  "kernelspec": {
   "display_name": "Python 3",
   "language": "python",
   "name": "python3"
  },
  "language_info": {
   "codemirror_mode": {
    "name": "ipython",
    "version": 2
   },
   "file_extension": ".py",
   "mimetype": "text/x-python",
   "name": "python",
   "nbconvert_exporter": "python",
   "pygments_lexer": "ipython2",
   "version": "2.7.6"
  }
 },
 "nbformat": 4,
 "nbformat_minor": 0
}