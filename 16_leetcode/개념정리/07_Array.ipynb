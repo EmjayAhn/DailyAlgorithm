{
 "cells": [
  {
   "cell_type": "markdown",
   "metadata": {
    "collapsed": true,
    "pycharm": {
     "name": "#%% md\n"
    }
   },
   "source": [
    "# Chapter 7 : Array"
   ]
  },
  {
   "cell_type": "markdown",
   "source": [
    "### Question 7. 두 수의 합\n",
    "- Leetcode : https://leetcode.com/problems/two-sum\n",
    "- 덧셈하여 타겟을 만들 수 있는 배열의 두 숫자 인덱스를 리턴하라.\n",
    "- 입력\n",
    "nums = [2, 7, 11, 15], target = 9\n",
    "- 출력\n",
    "[0, 1]"
   ],
   "metadata": {
    "collapsed": false,
    "pycharm": {
     "name": "#%% md\n"
    }
   }
  },
  {
   "cell_type": "markdown",
   "source": [
    "- 브루트 포스 : 무차별 대입 방식\n",
    "- 비효율적인 풀이\n",
    "- 시간복잡도 O(n^2)\n"
   ],
   "metadata": {
    "collapsed": false,
    "pycharm": {
     "name": "#%% md\n"
    }
   }
  },
  {
   "cell_type": "code",
   "execution_count": 2,
   "outputs": [
    {
     "data": {
      "text/plain": "[0, 1]"
     },
     "execution_count": 2,
     "metadata": {},
     "output_type": "execute_result"
    }
   ],
   "source": [
    "# 풀이 1 : 브루트 포스\n",
    "def twosum(nums: list[int], target: int) -> list[int]:\n",
    "    for index_i in range(len(nums)):\n",
    "        for index_j in range(index_i+1, len(nums)+1):\n",
    "            if nums[index_i] + nums[index_j] == target:\n",
    "                return [index_i, index_j]\n",
    "\n",
    "twosum([2, 7, 11, 15], 9)"
   ],
   "metadata": {
    "collapsed": false,
    "pycharm": {
     "name": "#%%\n"
    }
   }
  },
  {
   "cell_type": "code",
   "execution_count": 3,
   "outputs": [
    {
     "data": {
      "text/plain": "[0, 1]"
     },
     "execution_count": 3,
     "metadata": {},
     "output_type": "execute_result"
    }
   ],
   "source": [
    "# 풀이 2 : in을 이용한 탐색\n",
    "def twosum_in(nums:list[int], target: int) -> list[int]:\n",
    "    for index, number in enumerate(nums):\n",
    "        remain = target - number\n",
    "        if remain in nums[index+1:]:\n",
    "            return [nums.index(number), nums[index+1:].index(remain) + index+1]\n",
    "\n",
    "twosum_in([2, 7, 11, 15], 9)"
   ],
   "metadata": {
    "collapsed": false,
    "pycharm": {
     "name": "#%%\n"
    }
   }
  },
  {
   "cell_type": "code",
   "execution_count": 6,
   "outputs": [
    {
     "data": {
      "text/plain": "[0, 1]"
     },
     "execution_count": 6,
     "metadata": {},
     "output_type": "execute_result"
    }
   ],
   "source": [
    "# 풀이 3 : 첫 번째 수를 뺀 결과 키 조회\n",
    "def twosum_dict(nums: list[int], target: int) -> list[int]:\n",
    "    nums_map = {}\n",
    "\n",
    "    for index, num in enumerate(nums):\n",
    "        nums_map[num] = index\n",
    "\n",
    "    for index, num in enumerate(nums):\n",
    "        if target - num in nums_map and index != nums_map[target - num]:\n",
    "            return [index, nums_map[target-num]]\n",
    "twosum_dict([2, 7, 11, 15], 9)"
   ],
   "metadata": {
    "collapsed": false,
    "pycharm": {
     "name": "#%%\n"
    }
   }
  },
  {
   "cell_type": "code",
   "execution_count": 3,
   "outputs": [
    {
     "data": {
      "text/plain": "[0, 1]"
     },
     "execution_count": 3,
     "metadata": {},
     "output_type": "execute_result"
    }
   ],
   "source": [
    "# 풀이 4 : 조회 구조 개선\n",
    "def twosum_refer(nums: list[int], target: int) -> list[int]:\n",
    "    nums_map = {}\n",
    "    for index, num in enumerate(nums):\n",
    "        if target - num in nums_map:\n",
    "            return [nums_map[target - num], index]\n",
    "        nums_map[num] = index\n",
    "twosum_refer([2, 7, 11, 15], 9)"
   ],
   "metadata": {
    "collapsed": false,
    "pycharm": {
     "name": "#%%\n"
    }
   }
  },
  {
   "cell_type": "markdown",
   "source": [
    "### Question 8. 빗물 트래핑\n",
    "- https://leetcode.com/problems/trapping-rain-water\n",
    "- 높이를 입력받아 비 온 후 얼마나 많은 물이 쌓일 수 있는지 계산하라.\n",
    "- 입력\n",
    "    [0, 1, 0, 2, 1, 0, 1, 3, 2, 1, 2, 1]\n",
    "- 출력\n",
    "    6"
   ],
   "metadata": {
    "collapsed": false,
    "pycharm": {
     "name": "#%% md\n"
    }
   }
  },
  {
   "cell_type": "code",
   "execution_count": 5,
   "outputs": [
    {
     "data": {
      "text/plain": "6"
     },
     "execution_count": 5,
     "metadata": {},
     "output_type": "execute_result"
    }
   ],
   "source": [
    "# 풀이 1 : 투 포인터\n",
    "def bucket(heights: list[int]) -> int:\n",
    "    if not heights:\n",
    "        return 0\n",
    "\n",
    "    volume = 0\n",
    "    left_index, right_index = 0, len(heights) - 1\n",
    "    left_max, right_max = heights[left_index], heights[right_index]\n",
    "\n",
    "    while left_index < right_index:\n",
    "        left_max, right_max = max(heights[left_index], left_max), max(heights[right_index], right_max)\n",
    "\n",
    "        if left_max <= right_max:\n",
    "            volume += left_max - heights[left_index]\n",
    "            left_index += 1\n",
    "        else:\n",
    "            volume += right_max - heights[right_index]\n",
    "            right_index -= 1\n",
    "\n",
    "    return volume\n",
    "\n",
    "bucket([0, 1, 0, 2, 1, 0, 1, 3, 2, 1, 2, 1])"
   ],
   "metadata": {
    "collapsed": false,
    "pycharm": {
     "name": "#%%\n"
    }
   }
  },
  {
   "cell_type": "markdown",
   "source": [
    "### Question 9 : 세 수의 합\n",
    "- https://leetcode.com/problems/3sum/\n",
    "- 배열을 입력받아 합으로 0을 만들 수 있는 3개의 엘리먼트를 출력하라.\n"
   ],
   "metadata": {
    "collapsed": false,
    "pycharm": {
     "name": "#%% md\n"
    }
   }
  }
 ],
 "metadata": {
  "kernelspec": {
   "display_name": "Python 3",
   "language": "python",
   "name": "python3"
  },
  "language_info": {
   "codemirror_mode": {
    "name": "ipython",
    "version": 2
   },
   "file_extension": ".py",
   "mimetype": "text/x-python",
   "name": "python",
   "nbconvert_exporter": "python",
   "pygments_lexer": "ipython2",
   "version": "2.7.6"
  }
 },
 "nbformat": 4,
 "nbformat_minor": 0
}