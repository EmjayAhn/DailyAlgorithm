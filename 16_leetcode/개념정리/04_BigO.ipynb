{
 "cells": [
  {
   "cell_type": "markdown",
   "metadata": {
    "collapsed": true,
    "pycharm": {
     "name": "#%% md\n"
    }
   },
   "source": [
    "# 4장 : 빅오, 자료형\n",
    "- 알고리즘을 분석하는 중요한 도구\n",
    "- 시간 복잡도 & 공간 복잡도\n",
    "\n",
    "## 빅오 Big O 정의\n",
    "- 입력값이 무한대로 향할 때 함수의 상한을 설명하는 수학적 표기방법\n",
    "- 점근적 실행시간 (Asymptotic Running Time)을 표기할 때 쓰는 방법\n",
    "- 시간복잡도의 사전적 정의 : 어떤 알고리즘을 수행하는데 걸리는 시간 (= Time Complexity Computational Complexity)\n",
    "- O(1) : 입력값이 아무리 커도 실행 시간은 일정 => 최고의 알고리즘\n",
    "    - 예 : 해시 테이블의 조회 및 삽입\n",
    "- O(logn) : 웬만한 n 의 크기에 대해서도 매우 견고\n",
    "    - 예 : 이진 검색\n",
    "- O(n) : 선형 시간 (Linear-Time) 알고리즘\n",
    "    - 예 : 정렬되지 않은 리스트에서 최댓값 또는 최솟값을 찾는 경우\n",
    "    - 이 값을 찾기 위해선, 모든 입력값을 적어도 한번 이상은 살펴봐야함\n",
    "- O(nlogn) : 대부분의 효율 좋은 정렬 알고리즘\n",
    "    - 예 : 병합 정렬\n",
    "    - 적어도 모든 수에 대해 한번 이상 비교해야하는 비교기반 정렬 알고리즘은 O(nlogn)보다 빠를 수 없음\n",
    "- O(n^2) : 버블 정렬 같은 비효율적인 정렬 알고리즘\n",
    "- O(2^n) : 피보나치 수를 재귀로 계산하는 알고리즘\n",
    "- O(n!) : 각 도시를 방문하고 돌아오는 가장 짧은 경로를 찾는 외판원 문제 (Traveling Salesman Problem)를 브루트 포스로 풀이할 때."
   ]
  },
  {
   "cell_type": "markdown",
   "source": [
    "### 상한과 최악\n",
    "- Big O : 상한 - Upper Bound\n",
    "- Big Omega : 하한 - Lower Bound\n",
    "- Big Theta : 평균\n",
    "- 최악은 최악의 경우를 의미\n",
    "- 빅오 표기법은 주어진 (최선/최악/평균) 경우의 수행시간의 상한을 나타낸다."
   ],
   "metadata": {
    "collapsed": false,
    "pycharm": {
     "name": "#%% md\n"
    }
   }
  },
  {
   "cell_type": "markdown",
   "source": [
    "### 분할 상환 분석 (Amortized Analysis)\n",
    "- 시간 또는 메모리를 분석하는 알고리즘의 복잡도를 계산할 때, 알고리즘 전체를 보지 않고 최악의 경우만을 살펴보는 것은 지나치게 비관적이라는 이유로 분할 상환 분석 방법이 등장하는 계기가 됐다.\n",
    "\n",
    "### 병렬화\n",
    "- 최근 알고리즘은 병렬화로 실행 속도를 높일 수 있다."
   ],
   "metadata": {
    "collapsed": false,
    "pycharm": {
     "name": "#%% md\n"
    }
   }
  },
  {
   "cell_type": "markdown",
   "source": [],
   "metadata": {
    "collapsed": false,
    "pycharm": {
     "name": "#%% md\n"
    }
   }
  }
 ],
 "metadata": {
  "kernelspec": {
   "display_name": "Python 3",
   "language": "python",
   "name": "python3"
  },
  "language_info": {
   "codemirror_mode": {
    "name": "ipython",
    "version": 2
   },
   "file_extension": ".py",
   "mimetype": "text/x-python",
   "name": "python",
   "nbconvert_exporter": "python",
   "pygments_lexer": "ipython2",
   "version": "2.7.6"
  }
 },
 "nbformat": 4,
 "nbformat_minor": 0
}