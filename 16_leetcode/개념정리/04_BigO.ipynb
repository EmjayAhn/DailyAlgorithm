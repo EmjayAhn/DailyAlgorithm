{
 "cells": [
  {
   "cell_type": "markdown",
   "metadata": {
    "collapsed": true,
    "pycharm": {
     "name": "#%% md\n"
    }
   },
   "source": [
    "# 4장 : 빅오, 자료형\n",
    "- 알고리즘을 분석하는 중요한 도구\n",
    "- 시간 복잡도 & 공간 복잡도\n",
    "\n",
    "## 빅오 Big O 정의\n",
    "- 입력값이 무한대로 향할 때 함수의 상한을 설명하는 수학적 표기방법\n",
    "- 점근적 실행시간 (Asymptotic Running Time)을 표기할 때 쓰는 방법\n",
    "- 시간복잡도의 사전적 정의 : 어떤 알고리즘을 수행하는데 걸리는 시간 (= Time Complexity Computational Complexity)\n",
    "- O(1) : 입력값이 아무리 커도 실행 시간은 일정 => 최고의 알고리즘\n",
    "    - 예 : 해시 테이블의 조회 및 삽입\n",
    "- O(logn) : 웬만한 n 의 크기에 대해서도 매우 견고\n",
    "    - 예 : 이진 검색\n",
    "- O(n) : 선형 시간 (Linear-Time) 알고리즘\n",
    "    - 예 : 정렬되지 않은 리스트에서 최댓값 또는 최솟값을 찾는 경우\n",
    "    - 이 값을 찾기 위해선, 모든 입력값을 적어도 한번 이상은 살펴봐야함\n",
    "- O(nlogn) : 대부분의 효율 좋은 정렬 알고리즘\n",
    "    - 예 : 병합 정렬\n",
    "    - 적어도 모든 수에 대해 한번 이상 비교해야하는 비교기반 정렬 알고리즘은 O(nlogn)보다 빠를 수 없음\n",
    "- O(n^2) : 버블 정렬 같은 비효율적인 정렬 알고리즘\n",
    "- O(2^n) : 피보나치 수를 재귀로 계산하는 알고리즘\n",
    "- O(n!) : 각 도시를 방문하고 돌아오는 가장 짧은 경로를 찾는 외판원 문제 (Traveling Salesman Problem)를 브루트 포스로 풀이할 때."
   ]
  },
  {
   "cell_type": "markdown",
   "source": [
    "### 상한과 최악\n",
    "- Big O : 상한 - Upper Bound\n",
    "- Big Omega : 하한 - Lower Bound\n",
    "- Big Theta : 평균\n",
    "- 최악은 최악의 경우를 의미\n",
    "- 빅오 표기법은 주어진 (최선/최악/평균) 경우의 수행시간의 상한을 나타낸다."
   ],
   "metadata": {
    "collapsed": false,
    "pycharm": {
     "name": "#%% md\n"
    }
   }
  },
  {
   "cell_type": "markdown",
   "source": [
    "### 분할 상환 분석 (Amortized Analysis)\n",
    "- 시간 또는 메모리를 분석하는 알고리즘의 복잡도를 계산할 때, 알고리즘 전체를 보지 않고 최악의 경우만을 살펴보는 것은 지나치게 비관적이라는 이유로 분할 상환 분석 방법이 등장하는 계기가 됐다.\n",
    "\n",
    "### 병렬화\n",
    "- 최근 알고리즘은 병렬화로 실행 속도를 높일 수 있다."
   ],
   "metadata": {
    "collapsed": false,
    "pycharm": {
     "name": "#%% md\n"
    }
   }
  },
  {
   "cell_type": "markdown",
   "source": [
    "## 자료형\n",
    "- 파이썬 자료형을 정리\n",
    "\n",
    "### 파이썬 자료형\n",
    "파이썬3 표준 타입 계층 구조\n",
    "1. None (Class None Type)\n",
    "2. 숫자\n",
    "    1. 정수형\n",
    "        1. 정수 (class int)\n",
    "        2. 불리언 (class bool)\n",
    "    2. 실수형 (class float)\n",
    "3. 집합형\n",
    "    1. 집합 (class set)\n",
    "4. 맵핑\n",
    "    1. 딕셔너리 (class dict)\n",
    "5. 시퀀스\n",
    "    1. 불변\n",
    "        1. 문자열 (class str)\n",
    "        2. 튜플 (class tuple)\n",
    "        3. 바이트 (class bytes)\n",
    "    2. 가변\n",
    "        1. 리스트 (class list)"
   ],
   "metadata": {
    "collapsed": false,
    "pycharm": {
     "name": "#%% md\n"
    }
   }
  },
  {
   "cell_type": "markdown",
   "source": [
    "### 숫자\n",
    "- 파이썬은 숫자 정수형으로 int 만 제공\n",
    "- long 과 같은 범위가 큰 정수는 자동으로 변경되는 구조\n",
    "- bool 은 논리 자료형이지만, 파이썬 내부적으로 1(True), 0(False)로 int 의 서브 클래스\n",
    "- object > int > bool"
   ],
   "metadata": {
    "collapsed": false,
    "pycharm": {
     "name": "#%% md\n"
    }
   }
  },
  {
   "cell_type": "markdown",
   "source": [
    "### 집합\n",
    "- set : 중복 값을 갖지 않는 자료형\n",
    "- 입력 순서는 유지되지 않으며, 중복된 값이 있을 경우, 하나의 값만 유지한다"
   ],
   "metadata": {
    "collapsed": false,
    "pycharm": {
     "name": "#%% md\n"
    }
   }
  },
  {
   "cell_type": "code",
   "execution_count": 2,
   "outputs": [
    {
     "name": "stdout",
     "output_type": "stream",
     "text": [
      "set()\n",
      "<class 'set'>\n",
      "<class 'set'>\n",
      "{2, 3, 5}\n"
     ]
    }
   ],
   "source": [
    "a = set()\n",
    "print(a)\n",
    "print(type(a))\n",
    "\n",
    "b = {1, 2, 3}\n",
    "print(type(b))\n",
    "\n",
    "a = {3, 2, 3, 5}\n",
    "print(a)"
   ],
   "metadata": {
    "collapsed": false,
    "pycharm": {
     "name": "#%%\n"
    }
   }
  },
  {
   "cell_type": "markdown",
   "source": [
    "### 맵핑\n",
    "- Mapping 타입은 키와 자료형으로 구성된 복합 자료형\n",
    "- 파이썬에 내장된 유일한 맵핑 자료형은 딕셔너리"
   ],
   "metadata": {
    "collapsed": false,
    "pycharm": {
     "name": "#%% md\n"
    }
   }
  },
  {
   "cell_type": "markdown",
   "source": [
    "### 시퀀스\n",
    "- str : 문자의 순서 있는 나열 (문자열)\n",
    "- list : 다양한 값들을 배열 형태의 순서 있는 나열\n",
    "- 시퀀스는 불변 (Immutable)과 가변 (Mutable)\n",
    "\n",
    "1. Immutable Sequence\n",
    "    - str\n",
    "    - tuple\n",
    "    - bytes\n",
    "2. Mutable\n",
    "    - list"
   ],
   "metadata": {
    "collapsed": false,
    "pycharm": {
     "name": "#%% md\n"
    }
   }
  },
  {
   "cell_type": "markdown",
   "source": [
    "### 원시 타입 (Primitive Type)\n",
    "- C나 자바 같은 대표적인 프로그래밍 언어들은 기본적으로 원시 타입을 제공\n",
    "- 특히 C 언어는 동일한 정수형이라도 크기나 부호에 따라 매우 다양한 원시타입 제공\n",
    "    - short, long\n",
    "    - long long\n",
    "    - unsigned short, unsigned long\n",
    "    - unsigned long long\n",
    "    - float\n",
    "    - double\n",
    "    - int\n",
    "    - unsigned int\n"
   ],
   "metadata": {
    "collapsed": false,
    "pycharm": {
     "name": "#%% md\n"
    }
   }
  },
  {
   "cell_type": "markdown",
   "source": [
    "## 객체\n",
    "- 파이썬의 모든 것은 객체\n",
    "- 불변 객체 (immutable Object), 가변 객체 (Mutual Object)\n",
    "- 파이썬 불변 객체 여부\n",
    "    - bool : 불변객체 O\n",
    "    - int : 불변객체 O\n",
    "    - float : 불변객체 O\n",
    "    - list : 불변객체 X\n",
    "    - tuple : 불변객체 O\n",
    "    - str : 불변객체 O\n",
    "    - set : 불변객체 X\n",
    "    - dict : 불변객체 X\n",
    "\n",
    "### 불변객체\n",
    "- 문자와 숫자 모두 객체\n",
    "- 문자와 숫자는 불변 객체라는 차이만 있음\n",
    "- 불변객체 만이 dict의 키, set 의 값으로 사용할 수 있음"
   ],
   "metadata": {
    "collapsed": false,
    "pycharm": {
     "name": "#%% md\n"
    }
   }
  },
  {
   "cell_type": "code",
   "execution_count": 1,
   "outputs": [
    {
     "data": {
      "text/plain": "10"
     },
     "execution_count": 1,
     "metadata": {},
     "output_type": "execute_result"
    }
   ],
   "source": [
    "10"
   ],
   "metadata": {
    "collapsed": false,
    "pycharm": {
     "name": "#%%\n"
    }
   }
  },
  {
   "cell_type": "code",
   "execution_count": 2,
   "outputs": [],
   "source": [
    "a = 10"
   ],
   "metadata": {
    "collapsed": false,
    "pycharm": {
     "name": "#%%\n"
    }
   }
  },
  {
   "cell_type": "code",
   "execution_count": 5,
   "outputs": [],
   "source": [
    "b = a"
   ],
   "metadata": {
    "collapsed": false,
    "pycharm": {
     "name": "#%%\n"
    }
   }
  },
  {
   "cell_type": "code",
   "execution_count": 6,
   "outputs": [
    {
     "name": "stdout",
     "output_type": "stream",
     "text": [
      "4424333904 4424333904 4424333904\n"
     ]
    }
   ],
   "source": [
    "print(id(10), id(a), id(b))"
   ],
   "metadata": {
    "collapsed": false,
    "pycharm": {
     "name": "#%%\n"
    }
   }
  },
  {
   "cell_type": "markdown",
   "source": [
    "### 가변 객체\n",
    "- list는 값이 변경 될 수 있음\n",
    "- 다른 변수가 참조하고 있을 때, 그 변수의 값 또한 변경 됨."
   ],
   "metadata": {
    "collapsed": false,
    "pycharm": {
     "name": "#%% md\n"
    }
   }
  },
  {
   "cell_type": "code",
   "execution_count": 9,
   "outputs": [
    {
     "data": {
      "text/plain": "[1, 2, 3, 4, 5]"
     },
     "execution_count": 9,
     "metadata": {},
     "output_type": "execute_result"
    }
   ],
   "source": [
    "a = [1, 2, 3, 4, 5]\n",
    "b = a\n",
    "b"
   ],
   "metadata": {
    "collapsed": false,
    "pycharm": {
     "name": "#%%\n"
    }
   }
  },
  {
   "cell_type": "code",
   "execution_count": 11,
   "outputs": [],
   "source": [
    "a[2] = 4"
   ],
   "metadata": {
    "collapsed": false,
    "pycharm": {
     "name": "#%%\n"
    }
   }
  },
  {
   "cell_type": "code",
   "execution_count": 12,
   "outputs": [
    {
     "data": {
      "text/plain": "[1, 2, 4, 4, 5]"
     },
     "execution_count": 12,
     "metadata": {},
     "output_type": "execute_result"
    }
   ],
   "source": [
    "a"
   ],
   "metadata": {
    "collapsed": false,
    "pycharm": {
     "name": "#%%\n"
    }
   }
  },
  {
   "cell_type": "code",
   "execution_count": 13,
   "outputs": [
    {
     "data": {
      "text/plain": "[1, 2, 4, 4, 5]"
     },
     "execution_count": 13,
     "metadata": {},
     "output_type": "execute_result"
    }
   ],
   "source": [
    "b"
   ],
   "metadata": {
    "collapsed": false,
    "pycharm": {
     "name": "#%%\n"
    }
   }
  }
 ],
 "metadata": {
  "kernelspec": {
   "display_name": "Python 3",
   "language": "python",
   "name": "python3"
  },
  "language_info": {
   "codemirror_mode": {
    "name": "ipython",
    "version": 2
   },
   "file_extension": ".py",
   "mimetype": "text/x-python",
   "name": "python",
   "nbconvert_exporter": "python",
   "pygments_lexer": "ipython2",
   "version": "2.7.6"
  }
 },
 "nbformat": 4,
 "nbformat_minor": 0
}