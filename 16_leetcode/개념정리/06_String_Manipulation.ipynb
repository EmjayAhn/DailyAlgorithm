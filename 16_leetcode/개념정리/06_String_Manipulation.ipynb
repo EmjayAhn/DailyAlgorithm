{
 "cells": [
  {
   "cell_type": "markdown",
   "metadata": {
    "collapsed": true,
    "pycharm": {
     "name": "#%% md\n"
    }
   },
   "source": [
    "# Chapter 6 : String Manipulation"
   ]
  },
  {
   "cell_type": "markdown",
   "source": [
    "## 01. Vadid Palindroom\n",
    "    - 대소문자를 구분하지 않으며, 영문자와 숫자만을 대상으로 함\n",
    "[예제1]\n",
    "- 입력 : \"A man, a plan, a canal : Panama\"\n",
    "- 출력 : True\n",
    "\n",
    "[예제2]\n",
    "- 입력 : \"race a car\"\n",
    "- 출력 : False\n",
    "\n",
    "**팰린드롬**\n",
    "앞뒤가 똑같은 단어나 문장으로, 뒤집어도 같은 말이 되는 단어 또는 문장"
   ],
   "metadata": {
    "collapsed": false,
    "pycharm": {
     "name": "#%% md\n"
    }
   }
  },
  {
   "cell_type": "code",
   "execution_count": 1,
   "outputs": [
    {
     "name": "stdout",
     "output_type": "stream",
     "text": [
      "['a', 'm', 'a', 'n', 'a', 'p', 'l', 'a', 'n', 'a', 'c', 'a', 'n', 'a', 'l', 'p', 'a', 'n', 'a', 'm', 'a']\n"
     ]
    }
   ],
   "source": [
    "# 풀이 1 : 리스트로 변환\n",
    "input_string = \"A man, a plan, a canal : Panama\"\n",
    "character_list = []\n",
    "for character in input_string:\n",
    "    if character.isalnum():\n",
    "        character_list.append(character.lower())\n",
    "print(character_list)\n",
    "while len(character_list) > 1:\n",
    "    if character_list.pop(0) != character_list.pop():\n",
    "        print(False)"
   ],
   "metadata": {
    "collapsed": false,
    "pycharm": {
     "name": "#%%\n"
    }
   }
  },
  {
   "cell_type": "code",
   "execution_count": null,
   "outputs": [],
   "source": [],
   "metadata": {
    "collapsed": false,
    "pycharm": {
     "name": "#%%\n"
    }
   }
  }
 ],
 "metadata": {
  "kernelspec": {
   "display_name": "Python 3",
   "language": "python",
   "name": "python3"
  },
  "language_info": {
   "codemirror_mode": {
    "name": "ipython",
    "version": 2
   },
   "file_extension": ".py",
   "mimetype": "text/x-python",
   "name": "python",
   "nbconvert_exporter": "python",
   "pygments_lexer": "ipython2",
   "version": "2.7.6"
  }
 },
 "nbformat": 4,
 "nbformat_minor": 0
}