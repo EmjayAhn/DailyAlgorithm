{
 "cells": [
  {
   "cell_type": "markdown",
   "metadata": {
    "collapsed": true,
    "pycharm": {
     "name": "#%% md\n"
    }
   },
   "source": [
    "# Chapter 6 : String Manipulation"
   ]
  },
  {
   "cell_type": "markdown",
   "source": [
    "## 01. Vadid Palindroom\n",
    "    - 대소문자를 구분하지 않으며, 영문자와 숫자만을 대상으로 함\n",
    "[예제1]\n",
    "- 입력 : \"A man, a plan, a canal : Panama\"\n",
    "- 출력 : True\n",
    "\n",
    "[예제2]\n",
    "- 입력 : \"race a car\"\n",
    "- 출력 : False\n",
    "\n",
    "**팰린드롬**\n",
    "앞뒤가 똑같은 단어나 문장으로, 뒤집어도 같은 말이 되는 단어 또는 문장"
   ],
   "metadata": {
    "collapsed": false,
    "pycharm": {
     "name": "#%% md\n"
    }
   }
  },
  {
   "cell_type": "code",
   "execution_count": 1,
   "outputs": [
    {
     "name": "stdout",
     "output_type": "stream",
     "text": [
      "['a', 'm', 'a', 'n', 'a', 'p', 'l', 'a', 'n', 'a', 'c', 'a', 'n', 'a', 'l', 'p', 'a', 'n', 'a', 'm', 'a']\n"
     ]
    }
   ],
   "source": [
    "# 풀이 1 : 리스트로 변환\n",
    "input_string = \"A man, a plan, a canal : Panama\"\n",
    "character_list = []\n",
    "for character in input_string:\n",
    "    if character.isalnum():\n",
    "        character_list.append(character.lower())\n",
    "print(character_list)\n",
    "while len(character_list) > 1:\n",
    "    if character_list.pop(0) != character_list.pop():\n",
    "        print(False)"
   ],
   "metadata": {
    "collapsed": false,
    "pycharm": {
     "name": "#%%\n"
    }
   }
  },
  {
   "cell_type": "code",
   "execution_count": 1,
   "outputs": [],
   "source": [
    "def isPalindrome(self, s:str) -> bool:\n",
    "    strs = []\n",
    "    for char in s:\n",
    "        if char.isalnum():\n",
    "            strs.append(char.lower())\n",
    "\n",
    "    while len(strs) > 1:\n",
    "        if strs.pop(0) != strs.pop():\n",
    "            return False"
   ],
   "metadata": {
    "collapsed": false,
    "pycharm": {
     "name": "#%%\n"
    }
   }
  },
  {
   "cell_type": "code",
   "execution_count": 2,
   "outputs": [
    {
     "ename": "SyntaxError",
     "evalue": "invalid syntax (3816480898.py, line 11)",
     "output_type": "error",
     "traceback": [
      "\u001B[0;36m  File \u001B[0;32m\"/var/folders/n3/tyz8rmjn4_v5fk7k4vy5_jpm0000gn/T/ipykernel_5032/3816480898.py\"\u001B[0;36m, line \u001B[0;32m11\u001B[0m\n\u001B[0;31m    if strs.popleft() != strs.pop()\u001B[0m\n\u001B[0m                                   ^\u001B[0m\n\u001B[0;31mSyntaxError\u001B[0m\u001B[0;31m:\u001B[0m invalid syntax\n"
     ]
    }
   ],
   "source": [
    "# 풀이 2\n",
    "# Deque 자료형\n",
    "import collections\n",
    "def isPanlindrome(self, s:str) -> bool:\n",
    "    strs: Deque = collections.deque()\n",
    "\n",
    "    for char in s:\n",
    "        if char.isalnum():\n",
    "            strs.append(char.lower())\n",
    "    while len(strs) > 1:\n",
    "        if strs.popleft() != strs.pop()\n",
    "            return False"
   ],
   "metadata": {
    "collapsed": false,
    "pycharm": {
     "name": "#%%\n"
    }
   }
  },
  {
   "cell_type": "markdown",
   "source": [
    "## 02. 문자열 뒤집기\n",
    "- Leetcode : 344\n",
    "[예제 1]\n",
    "- 입력 : [\"h\", \"e\", \"l\", \"l\", \"o\"]\n",
    "- 출력 : [\"o\", \"l\", \"l\", \"e\", \"h\"]"
   ],
   "metadata": {
    "collapsed": false,
    "pycharm": {
     "name": "#%% md\n"
    }
   }
  },
  {
   "cell_type": "code",
   "execution_count": 7,
   "outputs": [
    {
     "data": {
      "text/plain": "['o', 'l', 'l', 'e', 'h']"
     },
     "execution_count": 7,
     "metadata": {},
     "output_type": "execute_result"
    }
   ],
   "source": [
    "# 풀이 1: 투 포인터를 이용한 스왑\n",
    "def reverseString(s: list[str]) -> list():\n",
    "    left, right = 0, len(s) -1\n",
    "    while left < right:\n",
    "        s[left], s[right] = s[right], s[left]\n",
    "        left += 1\n",
    "        right -= 1\n",
    "    return s\n",
    "reverseString([\"h\", \"e\", \"l\", \"l\", \"o\"])"
   ],
   "metadata": {
    "collapsed": false,
    "pycharm": {
     "name": "#%%\n"
    }
   }
  },
  {
   "cell_type": "code",
   "execution_count": 10,
   "outputs": [
    {
     "data": {
      "text/plain": "['o', 'l', 'l', 'e', 'h']"
     },
     "execution_count": 10,
     "metadata": {},
     "output_type": "execute_result"
    }
   ],
   "source": [
    "# 풀이 2: 파이썬 다운 방식\n",
    "def reverseString(s: list[str]) -> list():\n",
    "    s.reverse()\n",
    "    return s\n",
    "reverseString([\"h\", \"e\", \"l\", \"l\", \"o\"])"
   ],
   "metadata": {
    "collapsed": false,
    "pycharm": {
     "name": "#%%\n"
    }
   }
  },
  {
   "cell_type": "markdown",
   "source": [
    "## 03. 로그파일 재정렬\n",
    "- LeetCode 938.Reorder Log Files\n",
    "[문제]\n",
    "- 로그를 재정렬 하라. 기준은 다음과 같다\n",
    "    1. 로그의 가장 앞 부분은 식별자다\n",
    "    2. 문자로 구성된 로그가 숫자 로그보타 앞에 온다.\n",
    "    3. 식졀자는 순서에 영향을 끼치지 않지만, 문자가 동일할 경우 식별자 순으로 한다.\n",
    "    4. 숫자 로그는 입력 순서 대로 한다.\n",
    "\n",
    "[입력]\n",
    "- logs = [\"dig1 9 1 5 1 \", \"let1 art can\", \"dig2 3 6\", \"let2 own kit dig\", \"let3 art zero\"]\n",
    "\n",
    "[출력]\n",
    "- [\"let1 art can\", \"let3 art zero\", \"let2 own kit dig\", \"dig1 8 1 1 5 1\", \"dig2 3 6\"]"
   ],
   "metadata": {
    "collapsed": false,
    "pycharm": {
     "name": "#%% md\n"
    }
   }
  },
  {
   "cell_type": "code",
   "execution_count": 12,
   "outputs": [
    {
     "data": {
      "text/plain": "['let1 art can',\n 'let3 art can',\n 'let3 art zero',\n 'let2 own kit dig',\n 'dig1 9 1 5 1 ',\n 'dig2 3 6']"
     },
     "execution_count": 12,
     "metadata": {},
     "output_type": "execute_result"
    }
   ],
   "source": [
    "# 풀이 1\n",
    "# Lambda\n",
    "def reorderLogFiles(logs: list[str]) -> list[str]:\n",
    "    letters, digits = [], []\n",
    "    for log in logs:\n",
    "        if log.split()[1].isdigit():\n",
    "            digits.append(log)\n",
    "        else:\n",
    "            letters.append(log)\n",
    "    letters.sort(key=lambda x: (x.split()[1:], x.split()[0]))\n",
    "    return letters + digits\n",
    "\n",
    "reorderLogFiles([\"dig1 9 1 5 1 \", \"let1 art can\", \"dig2 3 6\", \"let3 art can\", \"let2 own kit dig\", \"let3 art zero\"])"
   ],
   "metadata": {
    "collapsed": false,
    "pycharm": {
     "name": "#%%\n"
    }
   }
  },
  {
   "cell_type": "code",
   "execution_count": 6,
   "outputs": [
    {
     "name": "stdout",
     "output_type": "stream",
     "text": [
      "['let1 art can', 'let3 art can', 'let3 art zero', 'let2 own kit dig']\n",
      "['dig1 9 1 5 1 ', 'dig2 3 6']\n"
     ]
    }
   ],
   "source": [
    "letters, digits = [], []\n",
    "for log in [\"dig1 9 1 5 1 \", \"let1 art can\", \"dig2 3 6\", \"let3 art can\", \"let2 own kit dig\", \"let3 art zero\"]:\n",
    "    if log.split()[1].isdigit():\n",
    "        digits.append(log)\n",
    "    else:\n",
    "        letters.append(log)\n",
    "\n",
    "letters.sort(key=lambda x: (x.split()[1:], x.split()[0]))\n",
    "print(letters)\n",
    "print(digits)"
   ],
   "metadata": {
    "collapsed": false,
    "pycharm": {
     "name": "#%%\n"
    }
   }
  },
  {
   "cell_type": "markdown",
   "source": [
    "## 04. 가장 흔한 단어\n",
    "[문제]\n",
    "- 금지된 단어를 제외한 가장 흔하게 등장하는 단어를 출력하라. 대소문자 구분을 하지 않으며, 구두점 또한 무시한다.\n",
    "\n",
    "[입력]\n",
    "- paragraph = \"Bob hit a ball, the hit BALL flew far after it was hit.\"\n",
    "- banned = [\"hit\"]\n",
    "\n",
    "[출력]\n",
    "- \"ball\""
   ],
   "metadata": {
    "collapsed": false,
    "pycharm": {
     "name": "#%% md\n"
    }
   }
  },
  {
   "cell_type": "code",
   "execution_count": null,
   "outputs": [],
   "source": [
    "# 풀이 1. List Comprehesion, Counter 객체\n"
   ],
   "metadata": {
    "collapsed": false,
    "pycharm": {
     "name": "#%%\n"
    }
   }
  }
 ],
 "metadata": {
  "kernelspec": {
   "display_name": "Python 3",
   "language": "python",
   "name": "python3"
  },
  "language_info": {
   "codemirror_mode": {
    "name": "ipython",
    "version": 2
   },
   "file_extension": ".py",
   "mimetype": "text/x-python",
   "name": "python",
   "nbconvert_exporter": "python",
   "pygments_lexer": "ipython2",
   "version": "2.7.6"
  }
 },
 "nbformat": 4,
 "nbformat_minor": 0
}