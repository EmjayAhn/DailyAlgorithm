{
 "cells": [
  {
   "cell_type": "markdown",
   "metadata": {
    "collapsed": true,
    "pycharm": {
     "name": "#%% md\n"
    }
   },
   "source": [
    "## Python 고급 문법 정리"
   ],
   "outputs": []
  },
  {
   "cell_type": "markdown",
   "source": [
    "### Indent : 인덴트\n",
    "- 파이썬의 indent는 PEP 8 에 따라 공백 4칸을 원칙으로 함\n",
    "    - PEP\n",
    "        - PEP 1 ~ 15 : Meta PEP\n",
    "        - PEP 8 : 파이썬의 코딩 스타일 가이드\n",
    "        - PEP 3xxx : 파이썬 3.0 이상의 제안들은 모두 3xxx로 시작"
   ],
   "metadata": {
    "collapsed": false,
    "pycharm": {
     "name": "#%% md\n"
    }
   }
  },
  {
   "cell_type": "markdown",
   "source": [
    "### Naming Convention : 네이밍 컨벤션\n",
    "- 파이썬의 변수명\n",
    "    - Snake Case (각 단어를 밑줄 _ 로 구분하여 표시)"
   ],
   "metadata": {
    "collapsed": false,
    "pycharm": {
     "name": "#%% md\n"
    }
   }
  },
  {
   "cell_type": "markdown",
   "source": [
    "### Type Hint : 타입 힌트\n",
    "- 파이썬은 타입을 지정할 수 있는 타입 힌트 (Type Hint)가 PEP 484 문서에 추가\n",
    "- ```pip install mypy```\n",
    "    - 타입 힌트에 오류가 없는지 확인할 수 있는 라이브러리\n",
    "- 타입 힌트가 잘못 지정된 코드는 ```Incompatitible return value type ``` 오류 발생"
   ],
   "metadata": {
    "collapsed": false,
    "pycharm": {
     "name": "#%% md\n"
    }
   }
  },
  {
   "cell_type": "code",
   "execution_count": 1,
   "outputs": [],
   "source": [
    "# Type Hint Example\n",
    "a: str = \"1\"\n",
    "b: int = 1\n",
    "\n",
    "# No Using Type Hint\n",
    "def function(a):\n",
    "    ...\n",
    "\n",
    "# Using Type Hint\n",
    "def function(a: int) -> bool:\n",
    "    ..."
   ],
   "metadata": {
    "collapsed": false,
    "pycharm": {
     "name": "#%%\n"
    }
   }
  },
  {
   "cell_type": "markdown",
   "source": [
    "### List Comprehension : 리스트 컴프리헨션\n",
    "- 파이썬은 map, filter와 같은 함수형 (Functional) 기능을 지원\n",
    "- 람다 표현식 (Lambda Expression) 지원\n",
    "- 리스트 컴프리헨션이란?\n",
    "    - 기존 리스트를 기반으로 새로운 리스트를 만들어내는 구문\n",
    "    - map 이나 filter 를 섞어서 사용하는 것에 비해 가독성이 훨씬 높음 (Effective Python 파이썬 코딩의 기술)"
   ],
   "metadata": {
    "collapsed": false,
    "pycharm": {
     "name": "#%% md\n"
    }
   }
  },
  {
   "cell_type": "code",
   "execution_count": 2,
   "outputs": [
    {
     "data": {
      "text/plain": "[11, 12, 13]"
     },
     "execution_count": 2,
     "metadata": {},
     "output_type": "execute_result"
    }
   ],
   "source": [
    "list(map(lambda x: x + 10, [1, 2, 3]))"
   ],
   "metadata": {
    "collapsed": false,
    "pycharm": {
     "name": "#%%\n"
    }
   }
  },
  {
   "cell_type": "code",
   "execution_count": 3,
   "outputs": [
    {
     "data": {
      "text/plain": "[2, 6, 10, 14, 18]"
     },
     "execution_count": 3,
     "metadata": {},
     "output_type": "execute_result"
    }
   ],
   "source": [
    "# List Comprehension\n",
    "[n * 2 for n in range(1, 10+1) if n % 2 == 1]"
   ],
   "metadata": {
    "collapsed": false,
    "pycharm": {
     "name": "#%%\n"
    }
   }
  },
  {
   "cell_type": "code",
   "execution_count": 4,
   "outputs": [
    {
     "data": {
      "text/plain": "[2, 6, 10, 14, 18]"
     },
     "execution_count": 4,
     "metadata": {},
     "output_type": "execute_result"
    }
   ],
   "source": [
    "# NOT List Comprehension\n",
    "a = []\n",
    "for n in range(1, 10+1):\n",
    "    if n % 2 == 1:\n",
    "        a.append(n*2)\n",
    "a"
   ],
   "metadata": {
    "collapsed": false,
    "pycharm": {
     "name": "#%%\n"
    }
   }
  },
  {
   "cell_type": "code",
   "execution_count": 5,
   "outputs": [],
   "source": [
    "# List Comprehension with Dictionary\n",
    "# a = {key: value for key, value in original.items()}\n",
    "\n",
    "# NOT List Comprehension with Dictionary\n",
    "# a = {}\n",
    "# for key, value in original.items():\n",
    "#     a[key] = value"
   ],
   "metadata": {
    "collapsed": false,
    "pycharm": {
     "name": "#%%\n"
    }
   }
  },
  {
   "cell_type": "markdown",
   "source": [
    "### Generator : 제너레이터\n",
    "- 루프의 반복(Iteration) 동작을 제어할 수 있는 루틴 형태\n",
    "- yield 구문을 이용해, 제너레이터를 리턴할 수 있음\n",
    "- 기존 함수는 return 구문을 맞닥뜨리면 값을 리턴하고 모든 함수의 동작을 종료\n",
    "- yield는 제너레이터가 현재까지 실행 중이던 값을 내보낸다 (사전적 의미 : 양보하다)\n",
    "- 중간값을 리턴한 다음 함수는 종료되지 않고, 계속해서 맨 끝에 도달할 때까지 실행"
   ],
   "metadata": {
    "collapsed": false,
    "pycharm": {
     "name": "#%% md\n"
    }
   }
  },
  {
   "cell_type": "code",
   "execution_count": 6,
   "outputs": [],
   "source": [
    "def get_natural_number():\n",
    "    n = 0\n",
    "    while True:\n",
    "        n += 1\n",
    "        yield n"
   ],
   "metadata": {
    "collapsed": false,
    "pycharm": {
     "name": "#%%\n"
    }
   }
  },
  {
   "cell_type": "code",
   "execution_count": 7,
   "outputs": [
    {
     "data": {
      "text/plain": "<generator object get_natural_number at 0x103f462e0>"
     },
     "execution_count": 7,
     "metadata": {},
     "output_type": "execute_result"
    }
   ],
   "source": [
    "get_natural_number()"
   ],
   "metadata": {
    "collapsed": false,
    "pycharm": {
     "name": "#%%\n"
    }
   }
  },
  {
   "cell_type": "code",
   "execution_count": 8,
   "outputs": [
    {
     "name": "stdout",
     "output_type": "stream",
     "text": [
      "1\n"
     ]
    }
   ],
   "source": [
    "g = get_natural_number()\n",
    "print(next(g))"
   ],
   "metadata": {
    "collapsed": false,
    "pycharm": {
     "name": "#%%\n"
    }
   }
  },
  {
   "cell_type": "code",
   "execution_count": 9,
   "outputs": [
    {
     "name": "stdout",
     "output_type": "stream",
     "text": [
      "2\n",
      "3\n",
      "4\n",
      "5\n",
      "6\n",
      "7\n",
      "8\n",
      "9\n",
      "10\n",
      "11\n",
      "12\n",
      "13\n",
      "14\n",
      "15\n",
      "16\n",
      "17\n",
      "18\n",
      "19\n",
      "20\n",
      "21\n",
      "22\n",
      "23\n",
      "24\n",
      "25\n",
      "26\n",
      "27\n",
      "28\n",
      "29\n",
      "30\n",
      "31\n",
      "32\n",
      "33\n",
      "34\n",
      "35\n",
      "36\n",
      "37\n",
      "38\n",
      "39\n",
      "40\n",
      "41\n",
      "42\n",
      "43\n",
      "44\n",
      "45\n",
      "46\n",
      "47\n",
      "48\n",
      "49\n",
      "50\n",
      "51\n",
      "52\n",
      "53\n",
      "54\n",
      "55\n",
      "56\n",
      "57\n",
      "58\n",
      "59\n",
      "60\n",
      "61\n",
      "62\n",
      "63\n",
      "64\n",
      "65\n",
      "66\n",
      "67\n",
      "68\n",
      "69\n",
      "70\n",
      "71\n",
      "72\n",
      "73\n",
      "74\n",
      "75\n",
      "76\n",
      "77\n",
      "78\n",
      "79\n",
      "80\n",
      "81\n",
      "82\n",
      "83\n",
      "84\n",
      "85\n",
      "86\n",
      "87\n",
      "88\n",
      "89\n",
      "90\n",
      "91\n",
      "92\n",
      "93\n",
      "94\n",
      "95\n",
      "96\n",
      "97\n",
      "98\n",
      "99\n",
      "100\n",
      "101\n"
     ]
    }
   ],
   "source": [
    "for _ in range(0, 100):\n",
    "    print(next(g))"
   ],
   "metadata": {
    "collapsed": false,
    "pycharm": {
     "name": "#%%\n"
    }
   }
  },
  {
   "cell_type": "markdown",
   "source": [
    "- 제너레이터는 다음과 같이 여러 타입의 값을 하나의 함수에서 생성하는 것도 가능"
   ],
   "metadata": {
    "collapsed": false,
    "pycharm": {
     "name": "#%% md\n"
    }
   }
  },
  {
   "cell_type": "code",
   "execution_count": 10,
   "outputs": [
    {
     "data": {
      "text/plain": "<generator object generator at 0x103f46ac0>"
     },
     "execution_count": 10,
     "metadata": {},
     "output_type": "execute_result"
    }
   ],
   "source": [
    "def generator():\n",
    "    yield 1\n",
    "    yield 'string'\n",
    "    yield True\n",
    "\n",
    "g = generator()\n",
    "g"
   ],
   "metadata": {
    "collapsed": false,
    "pycharm": {
     "name": "#%%\n"
    }
   }
  },
  {
   "cell_type": "code",
   "execution_count": 11,
   "outputs": [
    {
     "name": "stdout",
     "output_type": "stream",
     "text": [
      "1\n"
     ]
    }
   ],
   "source": [
    "print(next(g))"
   ],
   "metadata": {
    "collapsed": false,
    "pycharm": {
     "name": "#%%\n"
    }
   }
  },
  {
   "cell_type": "code",
   "execution_count": 12,
   "outputs": [
    {
     "name": "stdout",
     "output_type": "stream",
     "text": [
      "string\n"
     ]
    }
   ],
   "source": [
    "print(next(g))"
   ],
   "metadata": {
    "collapsed": false,
    "pycharm": {
     "name": "#%%\n"
    }
   }
  },
  {
   "cell_type": "code",
   "execution_count": 13,
   "outputs": [
    {
     "name": "stdout",
     "output_type": "stream",
     "text": [
      "True\n"
     ]
    },
    {
     "ename": "StopIteration",
     "evalue": "",
     "output_type": "error",
     "traceback": [
      "\u001B[0;31m---------------------------------------------------------------------------\u001B[0m",
      "\u001B[0;31mStopIteration\u001B[0m                             Traceback (most recent call last)",
      "\u001B[0;32m/var/folders/n3/tyz8rmjn4_v5fk7k4vy5_jpm0000gn/T/ipykernel_7354/4062059142.py\u001B[0m in \u001B[0;36m<module>\u001B[0;34m\u001B[0m\n\u001B[1;32m      1\u001B[0m \u001B[0mprint\u001B[0m\u001B[0;34m(\u001B[0m\u001B[0mnext\u001B[0m\u001B[0;34m(\u001B[0m\u001B[0mg\u001B[0m\u001B[0;34m)\u001B[0m\u001B[0;34m)\u001B[0m\u001B[0;34m\u001B[0m\u001B[0;34m\u001B[0m\u001B[0m\n\u001B[0;32m----> 2\u001B[0;31m \u001B[0mprint\u001B[0m\u001B[0;34m(\u001B[0m\u001B[0mnext\u001B[0m\u001B[0;34m(\u001B[0m\u001B[0mg\u001B[0m\u001B[0;34m)\u001B[0m\u001B[0;34m)\u001B[0m\u001B[0;34m\u001B[0m\u001B[0;34m\u001B[0m\u001B[0m\n\u001B[0m",
      "\u001B[0;31mStopIteration\u001B[0m: "
     ]
    }
   ],
   "source": [
    "print(next(g))\n",
    "print(next(g))"
   ],
   "metadata": {
    "collapsed": false,
    "pycharm": {
     "name": "#%%\n"
    }
   }
  },
  {
   "cell_type": "markdown",
   "source": [
    "### range\n",
    "- 제너레이터의 방식을 활용하는 대표적인 함수로 range()"
   ],
   "metadata": {
    "collapsed": false,
    "pycharm": {
     "name": "#%% md\n"
    }
   }
  },
  {
   "cell_type": "code",
   "execution_count": 14,
   "outputs": [
    {
     "data": {
      "text/plain": "[0, 1, 2, 3, 4]"
     },
     "execution_count": 14,
     "metadata": {},
     "output_type": "execute_result"
    }
   ],
   "source": [
    "list(range(5))"
   ],
   "metadata": {
    "collapsed": false,
    "pycharm": {
     "name": "#%%\n"
    }
   }
  },
  {
   "cell_type": "code",
   "execution_count": 15,
   "outputs": [
    {
     "data": {
      "text/plain": "range"
     },
     "execution_count": 15,
     "metadata": {},
     "output_type": "execute_result"
    }
   ],
   "source": [
    "type(range(5))"
   ],
   "metadata": {
    "collapsed": false,
    "pycharm": {
     "name": "#%%\n"
    }
   }
  },
  {
   "cell_type": "code",
   "execution_count": 16,
   "outputs": [
    {
     "name": "stdout",
     "output_type": "stream",
     "text": [
      "0 1 2 3 4 "
     ]
    }
   ],
   "source": [
    "for i in range(5):\n",
    "    print(i, end=' ')"
   ],
   "metadata": {
    "collapsed": false,
    "pycharm": {
     "name": "#%%\n"
    }
   }
  },
  {
   "cell_type": "markdown",
   "source": [
    "- 아래의 예시에서 a 는 이미 1000개의 숫자를 리스트로 생성하여 저장한 것이고,\n",
    "- b 의 경우에는 생성조건만 정해두고 나중에 꺼내쓰는 개념이다."
   ],
   "metadata": {
    "collapsed": false,
    "pycharm": {
     "name": "#%% md\n"
    }
   }
  },
  {
   "cell_type": "code",
   "execution_count": 17,
   "outputs": [
    {
     "name": "stdout",
     "output_type": "stream",
     "text": [
      "1000\n",
      "1000\n",
      "True\n"
     ]
    }
   ],
   "source": [
    "a = [n for n in range(1000)]\n",
    "b = range(1000)\n",
    "print(len(a))\n",
    "print(len(b))\n",
    "print(len(a)==len(b))"
   ],
   "metadata": {
    "collapsed": false,
    "pycharm": {
     "name": "#%%\n"
    }
   }
  },
  {
   "cell_type": "code",
   "execution_count": 18,
   "outputs": [
    {
     "name": "stdout",
     "output_type": "stream",
     "text": [
      "8856\n",
      "48\n"
     ]
    }
   ],
   "source": [
    "import sys\n",
    "print(sys.getsizeof(a))\n",
    "print(sys.getsizeof(b))"
   ],
   "metadata": {
    "collapsed": false,
    "pycharm": {
     "name": "#%%\n"
    }
   }
  },
  {
   "cell_type": "markdown",
   "source": [
    "### Enumerate\n",
    "- enumerate의 사전적 정의 : '열거하다'\n",
    "- 여러가지 자료형 (list, set, tuple 등)을 인덱스를 포함한 enumerate 객체로 리턴"
   ],
   "metadata": {
    "collapsed": false,
    "pycharm": {
     "name": "#%% md\n"
    }
   }
  },
  {
   "cell_type": "code",
   "execution_count": 19,
   "outputs": [
    {
     "data": {
      "text/plain": "<enumerate at 0x103fbf400>"
     },
     "execution_count": 19,
     "metadata": {},
     "output_type": "execute_result"
    }
   ],
   "source": [
    "a = [1, 2, 3, 10, 9, 8, 7]\n",
    "enumerate(a)"
   ],
   "metadata": {
    "collapsed": false,
    "pycharm": {
     "name": "#%%\n"
    }
   }
  },
  {
   "cell_type": "code",
   "execution_count": 20,
   "outputs": [
    {
     "data": {
      "text/plain": "[(0, 1), (1, 2), (2, 3), (3, 10), (4, 9), (5, 8), (6, 7)]"
     },
     "execution_count": 20,
     "metadata": {},
     "output_type": "execute_result"
    }
   ],
   "source": [
    "list(enumerate(a))"
   ],
   "metadata": {
    "collapsed": false,
    "pycharm": {
     "name": "#%%\n"
    }
   }
  },
  {
   "cell_type": "markdown",
   "source": [
    "### 나눗셈 연산자 //\n",
    "- 실수 연산 : /\n",
    "- 정수 연산 : // (몫을 내보내는 것)\n",
    "- 나머지 연산 : % (modulo)"
   ],
   "metadata": {
    "collapsed": false,
    "pycharm": {
     "name": "#%% md\n"
    }
   }
  },
  {
   "cell_type": "code",
   "execution_count": 24,
   "outputs": [
    {
     "name": "stdout",
     "output_type": "stream",
     "text": [
      "1.6666666666666667\n",
      "<class 'float'>\n",
      "----\n",
      "1\n",
      "<class 'int'>\n",
      "----\n",
      "2\n",
      "<class 'int'>\n"
     ]
    }
   ],
   "source": [
    "print(5/3)\n",
    "print(type(5/3))\n",
    "print(\"----\")\n",
    "print(5//3)\n",
    "print(type(5//3))\n",
    "print(\"----\")\n",
    "print(5%3)\n",
    "print(type(5%3))"
   ],
   "metadata": {
    "collapsed": false,
    "pycharm": {
     "name": "#%%\n"
    }
   }
  },
  {
   "cell_type": "markdown",
   "source": [
    "### print\n",
    "- 코딩 테스트 문제 풀이 과정에서 디버깅을 할 때 가장 자주 쓰는 명령어 print\n",
    "- 실무에서는 이처럼 print() 를 활용하는 디버깅 방법은 추천하지 않음\n",
    "- 하지만, 코딩 테스트 시에는 디버거를 사용하거나, TDD 방식으로 접근하기도 어렵기 때문에, 사실상 print()가 디버깅을 위해 제공되는 유일한 기능이기도 함\n",
    "- 그렇다면 이를 좀더 유용하게 활용할 수 있는 방법을 몇가지 살펴보자.\n",
    "- 가장 쉽게 출력 하는 방법은 , (comma)로 구분하는 것"
   ],
   "metadata": {
    "collapsed": false,
    "pycharm": {
     "name": "#%% md\n"
    }
   }
  },
  {
   "cell_type": "code",
   "execution_count": 26,
   "outputs": [
    {
     "name": "stdout",
     "output_type": "stream",
     "text": [
      "A1 B1\n",
      "A1,B2\n"
     ]
    }
   ],
   "source": [
    "# comma 로 구분\n",
    "print('A1', 'B1')\n",
    "\n",
    "# sep 파라미터로 구분\n",
    "print('A1', 'B2', sep=',')"
   ],
   "metadata": {
    "collapsed": false,
    "pycharm": {
     "name": "#%%\n"
    }
   }
  },
  {
   "cell_type": "markdown",
   "source": [
    "- print()함수는 항상 줄바꿈을 하기 때문에, 루프 디버깅이 어려울 수 있음\n",
    "- 이 경우 print() end parameter 를 공백으로 처리할 수 있음"
   ],
   "metadata": {
    "collapsed": false,
    "pycharm": {
     "name": "#%% md\n"
    }
   }
  },
  {
   "cell_type": "code",
   "execution_count": 27,
   "outputs": [
    {
     "name": "stdout",
     "output_type": "stream",
     "text": [
      "aa\n",
      "bb\n",
      "---\n",
      "aa bb\n"
     ]
    }
   ],
   "source": [
    "print(\"aa\")\n",
    "print(\"bb\")\n",
    "print(\"---\")\n",
    "print(\"aa\", end=' ')\n",
    "print(\"bb\")"
   ],
   "metadata": {
    "collapsed": false,
    "pycharm": {
     "name": "#%%\n"
    }
   }
  },
  {
   "cell_type": "markdown",
   "source": [
    "- 리스트 표현 : join()"
   ],
   "metadata": {
    "collapsed": false,
    "pycharm": {
     "name": "#%% md\n"
    }
   }
  },
  {
   "cell_type": "code",
   "execution_count": 29,
   "outputs": [
    {
     "name": "stdout",
     "output_type": "stream",
     "text": [
      "['AA', 'BB']\n",
      "AA BB\n"
     ]
    }
   ],
   "source": [
    "a = ['AA', 'BB']\n",
    "print(a)\n",
    "print(' '.join(a))"
   ],
   "metadata": {
    "collapsed": false,
    "pycharm": {
     "name": "#%%\n"
    }
   }
  },
  {
   "cell_type": "code",
   "execution_count": null,
   "outputs": [],
   "source": [],
   "metadata": {
    "collapsed": false,
    "pycharm": {
     "name": "#%%\n"
    }
   }
  }
 ],
 "metadata": {
  "kernelspec": {
   "display_name": "Python 3",
   "language": "python",
   "name": "python3"
  },
  "language_info": {
   "codemirror_mode": {
    "name": "ipython",
    "version": 2
   },
   "file_extension": ".py",
   "mimetype": "text/x-python",
   "name": "python",
   "nbconvert_exporter": "python",
   "pygments_lexer": "ipython2",
   "version": "2.7.6"
  }
 },
 "nbformat": 4,
 "nbformat_minor": 0
}