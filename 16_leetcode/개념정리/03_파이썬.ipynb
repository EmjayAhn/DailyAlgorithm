{
 "cells": [
  {
   "cell_type": "markdown",
   "metadata": {
    "collapsed": true,
    "pycharm": {
     "name": "#%% md\n"
    }
   },
   "source": [
    "## Python 고급 문법 정리"
   ],
   "outputs": []
  },
  {
   "cell_type": "markdown",
   "source": [
    "### Indent : 인덴트\n",
    "- 파이썬의 indent는 PEP 8 에 따라 공백 4칸을 원칙으로 함\n",
    "    - PEP\n",
    "        - PEP 1 ~ 15 : Meta PEP\n",
    "        - PEP 8 : 파이썬의 코딩 스타일 가이드\n",
    "        - PEP 3xxx : 파이썬 3.0 이상의 제안들은 모두 3xxx로 시작"
   ],
   "metadata": {
    "collapsed": false,
    "pycharm": {
     "name": "#%% md\n"
    }
   }
  },
  {
   "cell_type": "markdown",
   "source": [
    "### Naming Convention : 네이밍 컨벤션\n",
    "- 파이썬의 변수명\n",
    "    - Snake Case (각 단어를 밑줄 _ 로 구분하여 표시)"
   ],
   "metadata": {
    "collapsed": false,
    "pycharm": {
     "name": "#%% md\n"
    }
   }
  },
  {
   "cell_type": "markdown",
   "source": [
    "### Type Hint : 타입 힌트\n",
    "- 파이썬은 타입을 지정할 수 있는 타입 힌트 (Type Hint)가 PEP 484 문서에 추가\n",
    "- ```pip install mypy```\n",
    "    - 타입 힌트에 오류가 없는지 확인할 수 있는 라이브러리\n",
    "- 타입 힌트가 잘못 지정된 코드는 ```Incompatitible return value type ``` 오류 발생"
   ],
   "metadata": {
    "collapsed": false,
    "pycharm": {
     "name": "#%% md\n"
    }
   }
  },
  {
   "cell_type": "code",
   "execution_count": 1,
   "outputs": [],
   "source": [
    "# Type Hint Example\n",
    "a: str = \"1\"\n",
    "b: int = 1\n",
    "\n",
    "# No Using Type Hint\n",
    "def function(a):\n",
    "    ...\n",
    "\n",
    "# Using Type Hint\n",
    "def function(a: int) -> bool:\n",
    "    ..."
   ],
   "metadata": {
    "collapsed": false,
    "pycharm": {
     "name": "#%%\n"
    }
   }
  },
  {
   "cell_type": "code",
   "execution_count": null,
   "outputs": [],
   "source": [],
   "metadata": {
    "collapsed": false,
    "pycharm": {
     "name": "#%%\n"
    }
   }
  }
 ],
 "metadata": {
  "kernelspec": {
   "display_name": "Python 3",
   "language": "python",
   "name": "python3"
  },
  "language_info": {
   "codemirror_mode": {
    "name": "ipython",
    "version": 2
   },
   "file_extension": ".py",
   "mimetype": "text/x-python",
   "name": "python",
   "nbconvert_exporter": "python",
   "pygments_lexer": "ipython2",
   "version": "2.7.6"
  }
 },
 "nbformat": 4,
 "nbformat_minor": 0
}