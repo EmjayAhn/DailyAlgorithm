{
 "cells": [
  {
   "cell_type": "markdown",
   "metadata": {
    "collapsed": true,
    "pycharm": {
     "name": "#%% md\n"
    }
   },
   "source": [
    "## [LeetCode] 유효한 팰린드롬\n",
    "\n",
    "### 문제 : https://leetcode.com/problems/valid-palindrome/\n",
    "\n",
    "(예제)\n",
    "- 입력 : A man, a plan, a canal: Panama\"\n",
    "- 출력 : True\n",
    "\n",
    "- 입력 : race a car\n",
    "- 출력 : false"
   ]
  },
  {
   "cell_type": "markdown",
   "metadata": {
    "collapsed": false,
    "pycharm": {
     "name": "#%% md\n"
    }
   },
   "source": [
    "### 나의 풀이"
   ]
  },
  {
   "cell_type": "code",
   "execution_count": 1,
   "metadata": {
    "collapsed": false,
    "pycharm": {
     "name": "#%%\n"
    }
   },
   "outputs": [
    {
     "name": "stdout",
     "output_type": "stream",
     "text": [
      "True\n",
      "False\n"
     ]
    }
   ],
   "source": [
    "def isPallindrome(strings):\n",
    "    letter_list = []\n",
    "    for string in strings:\n",
    "        if string.isalnum():\n",
    "            letter_list.append(string.lower())\n",
    "\n",
    "    while len(letter_list) > 1:\n",
    "        if letter_list.pop(0) != letter_list.pop():\n",
    "            return False\n",
    "\n",
    "    return True\n",
    "\n",
    "print(isPallindrome(\"A man, a plan, a canal: Panama\"))\n",
    "print(isPallindrome(\"race a car\"))"
   ]
  },
  {
   "cell_type": "markdown",
   "metadata": {
    "collapsed": false,
    "pycharm": {
     "name": "#%% md\n"
    }
   },
   "source": [
    "## Result on LeetCode\n",
    "Success\n",
    "Details\n",
    "Runtime: 646 ms, faster than 5.08% of Python3 online submissions for Valid Palindrome.\n",
    "Memory Usage: 19.2 MB, less than 8.77% of Python3 online submissions for Valid Palindrome.\n"
   ]
  },
  {
   "cell_type": "markdown",
   "metadata": {
    "collapsed": false,
    "pycharm": {
     "name": "#%% md\n"
    }
   },
   "source": []
  }
 ],
 "metadata": {
  "kernelspec": {
   "display_name": "Python 3",
   "language": "python",
   "name": "python3"
  },
  "language_info": {
   "codemirror_mode": {
    "name": "ipython",
    "version": 2
   },
   "file_extension": ".py",
   "mimetype": "text/x-python",
   "name": "python",
   "nbconvert_exporter": "python",
   "pygments_lexer": "ipython2",
   "version": "2.7.6"
  }
 },
 "nbformat": 4,
 "nbformat_minor": 0
}
