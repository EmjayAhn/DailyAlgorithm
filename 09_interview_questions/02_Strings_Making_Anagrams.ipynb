{
 "cells": [
  {
   "cell_type": "markdown",
   "metadata": {},
   "source": [
    "### Strings: Making Anagrams\n",
    "\n",
    "Alice is taking a cryptography class and finding anagrams to be very useful. We consider two strings to be anagrams of each other if the first string's letters can be rearranged to form the second string. In other words, both strings must contain the same exact letters in the same exact frequency For example, `bacdc` and `dcbac` are anagrams, but `bacdc` and `dcbad` are not.\n",
    "\n",
    "Alice decides on an encryption scheme involving two large strings where encryption is dependent on the minimum number of character deletions required to make the two strings anagrams. Can you help her find this number?\n",
    "\n",
    "Given two strings, $a$ and $b$, that may or may not be of the same length, determine the minimum number of character deletions required to make $a$ and $b$ anagrams. Any characters can be deleted from either of the strings."
   ]
  },
  {
   "cell_type": "markdown",
   "metadata": {},
   "source": [
    "##### Input Format\n",
    "- The first line contains a single string, $a$. \n",
    "- The second line contains a single string, $b$."
   ]
  },
  {
   "cell_type": "markdown",
   "metadata": {},
   "source": [
    "##### Constraints\n",
    "- $1 \\le |a|, |b| \\le 10^4$\n",
    "- It is guaranteed that $a$ and $b$ consist of lowercase English alphabetic letters (i.e., $a$ through $z$)."
   ]
  },
  {
   "cell_type": "markdown",
   "metadata": {},
   "source": [
    "##### Output Format\n",
    "Print a single integer denoting the number of characters you must delete to make the two strings anagrams of each other."
   ]
  },
  {
   "cell_type": "markdown",
   "metadata": {},
   "source": [
    "##### Sample Input\n",
    "```\n",
    "cde\n",
    "abc\n",
    "```"
   ]
  },
  {
   "cell_type": "markdown",
   "metadata": {},
   "source": [
    "##### Sample Output\n",
    "```\n",
    "4\n",
    "```"
   ]
  },
  {
   "cell_type": "markdown",
   "metadata": {},
   "source": [
    "##### Explanation\n",
    "```\n",
    "We delete the following characters from our two strings to turn them into anagrams of each other:\n",
    "Remove d and e from cde to get c.\n",
    "Remove a and b from abc to get c.\n",
    "We must delete 4 characters to make both strings anagrams, so we print 4 on a new line.\n",
    "```"
   ]
  },
  {
   "cell_type": "code",
   "execution_count": 1,
   "metadata": {},
   "outputs": [
    {
     "name": "stdout",
     "output_type": "stream",
     "text": [
      "cde\n",
      "abc\n",
      "4\n"
     ]
    }
   ],
   "source": [
    "def number_needed(a, b):\n",
    "    # TODO\n",
    "    dict_a = {}\n",
    "    dict_b = {}\n",
    "    result = 0\n",
    "    \n",
    "    # string a 와 b 에 대해 dictionary 를 만들어 줍니다.\n",
    "    for string in a:\n",
    "        try:\n",
    "            dict_a[string] += 1\n",
    "        except:\n",
    "            dict_a[string] = 1\n",
    "    for string in b:\n",
    "        try:\n",
    "            dict_b[string] += 1\n",
    "        except:\n",
    "            dict_b[string] = 1\n",
    "    \n",
    "    # dictionary 가 동일하면, anagram이므로 minimum 은 0입니다.\n",
    "    if dict_a == dict_b:\n",
    "        return result\n",
    "    \n",
    "    # dictionary 가 동일하지 않다면, 아래 알고리즘이 동작합니다.\n",
    "    else:\n",
    "        for index, number in dict_a.items():\n",
    "            if index in dict_b:\n",
    "                abs_ = abs(dict_b[index] - number)\n",
    "                result += abs_\n",
    "            else:\n",
    "                result += number\n",
    "\n",
    "        for index, number in dict_b.items():\n",
    "            if index in dict_a:\n",
    "                abs_ = abs(dict_a[index] - number)\n",
    "                result += abs_\n",
    "            else:\n",
    "                result += number\n",
    "            \n",
    "    return result\n",
    "\n",
    "a = input().strip()\n",
    "b = input().strip()\n",
    "\n",
    "print(number_needed(a, b))"
   ]
  }
 ],
 "metadata": {
  "kernelspec": {
   "display_name": "Python 3",
   "language": "python",
   "name": "python3"
  },
  "language_info": {
   "codemirror_mode": {
    "name": "ipython",
    "version": 3
   },
   "file_extension": ".py",
   "mimetype": "text/x-python",
   "name": "python",
   "nbconvert_exporter": "python",
   "pygments_lexer": "ipython3",
   "version": "3.7.0"
  }
 },
 "nbformat": 4,
 "nbformat_minor": 2
}
