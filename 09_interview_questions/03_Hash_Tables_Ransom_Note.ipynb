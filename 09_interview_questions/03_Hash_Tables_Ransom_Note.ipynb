{
 "cells": [
  {
   "cell_type": "markdown",
   "metadata": {},
   "source": [
    "### Hash Tables: Ransom Note\n",
    "\n",
    "A kidnapper wrote a ransom note but is worried it will be traced back to him. He found a magazine and wants to know if he can cut out whole words from it and use them to create an untraceable replica of his ransom note. The words in his note are case-sensitive and he must use whole words available in the magazine, meaning he cannot use substrings or concatenation to create the words he needs.\n",
    "\n",
    "Given the words in the magazine and the words in the ransom note, print `Yes` if he can replicate his ransom note exactly using whole words from the magazine; otherwise, print `No`."
   ]
  },
  {
   "cell_type": "markdown",
   "metadata": {},
   "source": [
    "##### Input Format\n",
    "\n",
    "The first line contains two space-separated integers describing the respective values of $m$ (the number of words in the magazine) and $n$ (the number of words in the ransom note). \n",
    "\n",
    "The second line contains $m$ space-separated strings denoting the words present in the magazine. \n",
    "The third line contains $n$ space-separated strings denoting the words present in the ransom note."
   ]
  },
  {
   "cell_type": "markdown",
   "metadata": {},
   "source": [
    "##### Constraints\n",
    "- $1 \\le m, n \\le 30000$ \n",
    "- $1 \\le$ *length  of my any word* $\\le 5$\n",
    "- Each word consists of English alphabetic letters (i.e., a to z and A to Z ).\n",
    "- The words in the note and magazine are case-sensitive."
   ]
  },
  {
   "cell_type": "markdown",
   "metadata": {},
   "source": [
    "##### Output Format\n",
    "\n",
    "Print `Yes` if he can use the magazine to create an untraceable replica of his ransom note; otherwise, print `No`."
   ]
  },
  {
   "cell_type": "markdown",
   "metadata": {},
   "source": [
    "##### Sample Input 0\n",
    "```\n",
    "6 4\n",
    "give me one grand today night\n",
    "give one grand today\n",
    "```\n",
    "##### Sample Output 0\n",
    "```\n",
    "Yes\n",
    "```\n",
    "##### Sample Input 1\n",
    "```\n",
    "6 5\n",
    "two times three is not four\n",
    "two times two is four\n",
    "```\n",
    "##### Sample Output 1\n",
    "```\n",
    "No\n",
    "```"
   ]
  },
  {
   "cell_type": "code",
   "execution_count": 41,
   "metadata": {},
   "outputs": [],
   "source": [
    "from collections import Counter \n",
    "\n",
    "def ransom_note(magazine, ransom):\n",
    "    # TODO\n",
    "    for index, word in enumerate(ransom):\n",
    "        if not all(ransom):\n",
    "            return True\n",
    "        if word in magazine:\n",
    "            del magazine[magazine.index(word)]\n",
    "            ransom[index] = 0\n",
    "        else:\n",
    "            return False"
   ]
  },
  {
   "cell_type": "code",
   "execution_count": 42,
   "metadata": {},
   "outputs": [
    {
     "name": "stdout",
     "output_type": "stream",
     "text": [
      "6 4\n",
      "give me one grand today night\n",
      "give one grand today\n",
      "Yes\n"
     ]
    }
   ],
   "source": [
    "m, n = map(int, input().strip().split(' '))\n",
    "magazine = input().strip().split(' ')\n",
    "ransom = input().strip().split(' ')\n",
    "answer = ransom_note(magazine, ransom)\n",
    "if(answer):\n",
    "    print(\"Yes\")\n",
    "else:\n",
    "    print(\"No\")"
   ]
  }
 ],
 "metadata": {
  "kernelspec": {
   "display_name": "Python 3",
   "language": "python",
   "name": "python3"
  },
  "language_info": {
   "codemirror_mode": {
    "name": "ipython",
    "version": 3
   },
   "file_extension": ".py",
   "mimetype": "text/x-python",
   "name": "python",
   "nbconvert_exporter": "python",
   "pygments_lexer": "ipython3",
   "version": "3.7.0"
  }
 },
 "nbformat": 4,
 "nbformat_minor": 2
}
