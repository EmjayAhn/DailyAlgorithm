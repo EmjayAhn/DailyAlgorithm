{
 "cells": [
  {
   "cell_type": "code",
   "execution_count": 3,
   "id": "28e4ea57-1689-4adb-8af5-e826fc29d2e2",
   "metadata": {},
   "outputs": [
    {
     "data": {
      "text/plain": [
       "[('1', '2'), ('4', '5')]"
      ]
     },
     "execution_count": 3,
     "metadata": {},
     "output_type": "execute_result"
    }
   ],
   "source": [
    "a = {'1': '2', '4': '5'}\n",
    "\n",
    "list(a.items())"
   ]
  },
  {
   "cell_type": "code",
   "execution_count": null,
   "id": "9700b0dc-3764-4609-95c7-61fc0f513a89",
   "metadata": {},
   "outputs": [],
   "source": []
  }
 ],
 "metadata": {
  "kernelspec": {
   "display_name": "Python 3 (ipykernel)",
   "language": "python",
   "name": "python3"
  },
  "language_info": {
   "codemirror_mode": {
    "name": "ipython",
    "version": 3
   },
   "file_extension": ".py",
   "mimetype": "text/x-python",
   "name": "python",
   "nbconvert_exporter": "python",
   "pygments_lexer": "ipython3",
   "version": "3.7.0"
  }
 },
 "nbformat": 4,
 "nbformat_minor": 5
}
